{
 "cells": [
  {
   "cell_type": "code",
   "execution_count": 47,
   "id": "580184f9",
   "metadata": {},
   "outputs": [],
   "source": [
    "import pandas as pd\n",
    "import numpy as np\n",
    "import plotly.express as px\n",
    "import plotly.io as pio\n",
    "from IPython.display import display\n",
    "\n",
    "# Use a dark Plotly template across all charts\n",
    "pio.templates.default = \"plotly_dark\"\n"
   ]
  },
  {
   "cell_type": "code",
   "execution_count": 48,
   "id": "ccd5103f",
   "metadata": {},
   "outputs": [],
   "source": [
    "nhv_flash = pd.read_csv(\"benchmarks/nhv_flash.csv\")\n",
    "nhv_dash = pd.read_csv(\"benchmarks/nhv_dash.csv\")\n",
    "cpu_flash = pd.read_csv(\"benchmarks/cpu_bound_flash.csv\")\n",
    "cpu_dash = pd.read_csv(\"benchmarks/cpu_bound_dash.csv\")\n",
    "cpu_w_sse_flash = pd.read_csv(\"benchmarks/cpu_bound_flash_w_sse.csv\")\n",
    "cpu_w_sse_dash = pd.read_csv(\"benchmarks/cpu_bound_dash_w_sse.csv\")\n",
    "super_heavy_net = pd.read_csv(\"benchmarks/super_heavy_net.csv\")"
   ]
  },
  {
   "cell_type": "code",
   "execution_count": null,
   "id": "7d1fc967",
   "metadata": {},
   "outputs": [
    {
     "data": {
      "application/vnd.plotly.v1+json": {
       "config": {
        "plotlyServerURL": "https://plot.ly"
       },
       "data": [
        {
         "bingroup": "x",
         "histnorm": "probability density",
         "hovertemplate": "Framework=Dash<br>Response time (s)=%{x}<br>probability density=%{y}<extra></extra>",
         "legendgroup": "Dash",
         "marker": {
          "color": "#636EFA",
          "opacity": 0.55,
          "pattern": {
           "shape": ""
          }
         },
         "name": "Dash",
         "nbinsx": 50,
         "orientation": "v",
         "showlegend": true,
         "type": "histogram",
         "x": {
          "bdata": "uK8D54wo/T9j7lpCPugKQFkXt9EA3g9AVOOlm8TgGUAtQxzr4rYbQKOSOgFNRCFAZF3cRgNYIkB7gy9MpsokQCnLEMe6GCdAUkmdgCbiKkCtad5xii4qQE+vlGWIwydA5q4l5IP+JEDOiNLe4KsqQCSX/5B+GyVAak3zjlMUKUCWsgxxrMsoQNBE2PD0yihAf9k9eVioKkCMSuoENPEmQOjZrPpcrSdAApoIG55eKEDqBDQRNrwoQPjCZKpgtCpA8KfGSzfJKUAu/yH99rUpQA1xrIvbaChAEOm3rwPnJkAYJlMFoxIlQCzUmuYdxyVA8KfGSzdJJ0CYTBWMSiooQOzAOSNK+yZADi2yne8nJ0AUP8bctYQoQCo6kst/aChAzczMzMwMKkA51sVtNAAqQNCzWfW5+ipAyXa+nxqvK0Ck374OnFMoQMiYu5aQjylA9GxWfa72KEA7AU2EDU8pQCBB8WPMfSlAkQ96NqseKUByio7k8v8pQDeJQWDlsClA1XjpJjFoKUB/+zpwzogqQJeQD3o2yypAKVyPwvUoK0CpE9BE2HApQKYKRiV1QixAHThnRGmvKUDUK2UZ4ngqQGkAb4EEpSdAAAAAAABAK0DnHafoSI4qQAYSFD/GXCpAPSzUmua9KEA/NV66SawqQFHaG3xh0ilAKVyPwvWoKkBtVn2utgIpQEVHcvkPKSlAQs9m1eeKJUCh1jTvOGUqQMuhRbbz3SdAnYAmwobnJkBVwaikTuApQIts5/upcSVAHOviNhrgJ0DJdr6fGu8nQAfwFkhQXClAJQaBlUMLK0Cad5yiI5koQCuHFtnOlypAxLEubqMhKkBb07zjFB0pQA+cM6K01ypArK3YX3YvK0Du68A5I6oqQL6fGi/dpCxAhjjWxW10K0DKMsSxLo4qQBkEVg4tEixAKe0NvjAZLUDMXUvIB50rQE+vlGWIgy5AjErqBDTxKEDcRgN4C2QsQJwzorQ3GCZAidLe4AtzKUBUUiegibAlQOlILv8h3SZAU5YhjnURJECTGARWDk0oQAkbnl4pyyRA5fIf0m/fKEA=",
          "dtype": "f8"
         },
         "xaxis": "x",
         "yaxis": "y"
        },
        {
         "bingroup": "x",
         "histnorm": "probability density",
         "hovertemplate": "Framework=Flash<br>Response time (s)=%{x}<br>probability density=%{y}<extra></extra>",
         "legendgroup": "Flash",
         "marker": {
          "color": "#EF553B",
          "opacity": 0.55,
          "pattern": {
           "shape": ""
          }
         },
         "name": "Flash",
         "nbinsx": 50,
         "orientation": "v",
         "showlegend": true,
         "type": "histogram",
         "x": {
          "bdata": "umsJ+aBn+T+cM6K0N/j6P2kAb4EExfw/aJHtfD81AECjkjoBTYQGQLu4jQbwFghAW9O84xQdCUBlGeJYFzcJQFvTvOMUHQpA4QuTqYJR+T8Mk6mCUUkLQP7UeOkmMQBADAIrhxZZCUAdyeU/pN8JQKRwPQrXo/w/ejarPldbAkCjkjoBTYQAQN5xio7kcgVAm1Wfq63YAkCrz9VW7K8JQJm7lpAP+ghAmbuWkA96/z/swDkjSvsLQCuHFtnOdwBASL99HThnA0D1udqK/eUFQOviNhrAW/s/GQRWDi0yBUBXW7G/7J4GQKqCUUmdgAtAWKg1zTvOBUDjx5i7lpD8P/8h/fZ14Pw/w9MrZRniBkBjf9k9eVj+P3lYqDXNOwFAidLe4AsTBUAzMzMzMzMMQNobfGEy1QpAxY8xdy0hCkAj2/l+ajwEQPtcbcX+MgJAo5I6AU2EAUB+HThnRGkJQJVliGNd3ApAC0YldQKaAkAzMzMzMzMKQJZDi2znewBAlPYGX5jMCkDswDkjSvsAQJXUCWgi7AVACtejcD2KCUCz6nO1FXsKQLraiv1ldwRA48eYu5aQAkCsrdhfdk8FQHQkl/+Q/gdAkKD4MeYuBkDKMsSxLu4HQJEPejarvghAQfFjzF3LAkAbL90kBgEJQG3F/rJ78vw/4lgXt9EA+z+oV8oyxLEAQBWMSuoENAlAFmpN845T/T+qglFJnQAAQAaBlUOLbAVAPSzUmuYdC0Abnl4pyxAMQAU0ETY8vQNA+n5qvHSTC0CdEaW9wRcJQI9TdCSXfwNAsp3vp8ZLA0BSJ6CJsOEFQNc07zhFxwZAqDXNO05RA0DVeOkmMYgAQCNKe4MvTPo/j8L1KFwPBkDyQc9m1WcEQNO84xQdSQhAC7Wmeccp/j9NhA1PrxQKQDtwzojS3gZARUdy+Q9pCkAgQfFjzF0MQLN78rBQ6wtA9GxWfa42CkALRiV1AhoMQI/C9ShcDwFAS8gHPZvVC0DP91PjpZsHQJtVn6ut2ABATfOOU3Qk/z+NKO0NvrAGQJf/kH77ugZAnzws1JrmBEA=",
          "dtype": "f8"
         },
         "xaxis": "x",
         "yaxis": "y"
        }
       ],
       "layout": {
        "annotations": [
         {
          "showarrow": false,
          "text": "Dash median 12.56s",
          "x": 12.55835,
          "xanchor": "left",
          "xref": "x",
          "y": 1,
          "yanchor": "top",
          "yref": "y domain"
         },
         {
          "showarrow": false,
          "text": "Flash median 2.73s",
          "x": 2.73045,
          "xanchor": "right",
          "xref": "x",
          "y": 1,
          "yanchor": "top",
          "yref": "y domain"
         }
        ],
        "barmode": "overlay",
        "legend": {
         "title": {
          "text": ""
         },
         "tracegroupgap": 0
        },
        "shapes": [
         {
          "line": {
           "color": "#636EFA",
           "dash": "dash"
          },
          "type": "line",
          "x0": 12.55835,
          "x1": 12.55835,
          "xref": "x",
          "y0": 0,
          "y1": 1,
          "yref": "y domain"
         },
         {
          "line": {
           "color": "#EF553B",
           "dash": "dash"
          },
          "type": "line",
          "x0": 2.73045,
          "x1": 2.73045,
          "xref": "x",
          "y0": 0,
          "y1": 1,
          "yref": "y domain"
         }
        ],
        "template": {
         "data": {
          "bar": [
           {
            "error_x": {
             "color": "#f2f5fa"
            },
            "error_y": {
             "color": "#f2f5fa"
            },
            "marker": {
             "line": {
              "color": "rgb(17,17,17)",
              "width": 0.5
             },
             "pattern": {
              "fillmode": "overlay",
              "size": 10,
              "solidity": 0.2
             }
            },
            "type": "bar"
           }
          ],
          "barpolar": [
           {
            "marker": {
             "line": {
              "color": "rgb(17,17,17)",
              "width": 0.5
             },
             "pattern": {
              "fillmode": "overlay",
              "size": 10,
              "solidity": 0.2
             }
            },
            "type": "barpolar"
           }
          ],
          "carpet": [
           {
            "aaxis": {
             "endlinecolor": "#A2B1C6",
             "gridcolor": "#506784",
             "linecolor": "#506784",
             "minorgridcolor": "#506784",
             "startlinecolor": "#A2B1C6"
            },
            "baxis": {
             "endlinecolor": "#A2B1C6",
             "gridcolor": "#506784",
             "linecolor": "#506784",
             "minorgridcolor": "#506784",
             "startlinecolor": "#A2B1C6"
            },
            "type": "carpet"
           }
          ],
          "choropleth": [
           {
            "colorbar": {
             "outlinewidth": 0,
             "ticks": ""
            },
            "type": "choropleth"
           }
          ],
          "contour": [
           {
            "colorbar": {
             "outlinewidth": 0,
             "ticks": ""
            },
            "colorscale": [
             [
              0,
              "#0d0887"
             ],
             [
              0.1111111111111111,
              "#46039f"
             ],
             [
              0.2222222222222222,
              "#7201a8"
             ],
             [
              0.3333333333333333,
              "#9c179e"
             ],
             [
              0.4444444444444444,
              "#bd3786"
             ],
             [
              0.5555555555555556,
              "#d8576b"
             ],
             [
              0.6666666666666666,
              "#ed7953"
             ],
             [
              0.7777777777777778,
              "#fb9f3a"
             ],
             [
              0.8888888888888888,
              "#fdca26"
             ],
             [
              1,
              "#f0f921"
             ]
            ],
            "type": "contour"
           }
          ],
          "contourcarpet": [
           {
            "colorbar": {
             "outlinewidth": 0,
             "ticks": ""
            },
            "type": "contourcarpet"
           }
          ],
          "heatmap": [
           {
            "colorbar": {
             "outlinewidth": 0,
             "ticks": ""
            },
            "colorscale": [
             [
              0,
              "#0d0887"
             ],
             [
              0.1111111111111111,
              "#46039f"
             ],
             [
              0.2222222222222222,
              "#7201a8"
             ],
             [
              0.3333333333333333,
              "#9c179e"
             ],
             [
              0.4444444444444444,
              "#bd3786"
             ],
             [
              0.5555555555555556,
              "#d8576b"
             ],
             [
              0.6666666666666666,
              "#ed7953"
             ],
             [
              0.7777777777777778,
              "#fb9f3a"
             ],
             [
              0.8888888888888888,
              "#fdca26"
             ],
             [
              1,
              "#f0f921"
             ]
            ],
            "type": "heatmap"
           }
          ],
          "histogram": [
           {
            "marker": {
             "pattern": {
              "fillmode": "overlay",
              "size": 10,
              "solidity": 0.2
             }
            },
            "type": "histogram"
           }
          ],
          "histogram2d": [
           {
            "colorbar": {
             "outlinewidth": 0,
             "ticks": ""
            },
            "colorscale": [
             [
              0,
              "#0d0887"
             ],
             [
              0.1111111111111111,
              "#46039f"
             ],
             [
              0.2222222222222222,
              "#7201a8"
             ],
             [
              0.3333333333333333,
              "#9c179e"
             ],
             [
              0.4444444444444444,
              "#bd3786"
             ],
             [
              0.5555555555555556,
              "#d8576b"
             ],
             [
              0.6666666666666666,
              "#ed7953"
             ],
             [
              0.7777777777777778,
              "#fb9f3a"
             ],
             [
              0.8888888888888888,
              "#fdca26"
             ],
             [
              1,
              "#f0f921"
             ]
            ],
            "type": "histogram2d"
           }
          ],
          "histogram2dcontour": [
           {
            "colorbar": {
             "outlinewidth": 0,
             "ticks": ""
            },
            "colorscale": [
             [
              0,
              "#0d0887"
             ],
             [
              0.1111111111111111,
              "#46039f"
             ],
             [
              0.2222222222222222,
              "#7201a8"
             ],
             [
              0.3333333333333333,
              "#9c179e"
             ],
             [
              0.4444444444444444,
              "#bd3786"
             ],
             [
              0.5555555555555556,
              "#d8576b"
             ],
             [
              0.6666666666666666,
              "#ed7953"
             ],
             [
              0.7777777777777778,
              "#fb9f3a"
             ],
             [
              0.8888888888888888,
              "#fdca26"
             ],
             [
              1,
              "#f0f921"
             ]
            ],
            "type": "histogram2dcontour"
           }
          ],
          "mesh3d": [
           {
            "colorbar": {
             "outlinewidth": 0,
             "ticks": ""
            },
            "type": "mesh3d"
           }
          ],
          "parcoords": [
           {
            "line": {
             "colorbar": {
              "outlinewidth": 0,
              "ticks": ""
             }
            },
            "type": "parcoords"
           }
          ],
          "pie": [
           {
            "automargin": true,
            "type": "pie"
           }
          ],
          "scatter": [
           {
            "marker": {
             "line": {
              "color": "#283442"
             }
            },
            "type": "scatter"
           }
          ],
          "scatter3d": [
           {
            "line": {
             "colorbar": {
              "outlinewidth": 0,
              "ticks": ""
             }
            },
            "marker": {
             "colorbar": {
              "outlinewidth": 0,
              "ticks": ""
             }
            },
            "type": "scatter3d"
           }
          ],
          "scattercarpet": [
           {
            "marker": {
             "colorbar": {
              "outlinewidth": 0,
              "ticks": ""
             }
            },
            "type": "scattercarpet"
           }
          ],
          "scattergeo": [
           {
            "marker": {
             "colorbar": {
              "outlinewidth": 0,
              "ticks": ""
             }
            },
            "type": "scattergeo"
           }
          ],
          "scattergl": [
           {
            "marker": {
             "line": {
              "color": "#283442"
             }
            },
            "type": "scattergl"
           }
          ],
          "scattermap": [
           {
            "marker": {
             "colorbar": {
              "outlinewidth": 0,
              "ticks": ""
             }
            },
            "type": "scattermap"
           }
          ],
          "scattermapbox": [
           {
            "marker": {
             "colorbar": {
              "outlinewidth": 0,
              "ticks": ""
             }
            },
            "type": "scattermapbox"
           }
          ],
          "scatterpolar": [
           {
            "marker": {
             "colorbar": {
              "outlinewidth": 0,
              "ticks": ""
             }
            },
            "type": "scatterpolar"
           }
          ],
          "scatterpolargl": [
           {
            "marker": {
             "colorbar": {
              "outlinewidth": 0,
              "ticks": ""
             }
            },
            "type": "scatterpolargl"
           }
          ],
          "scatterternary": [
           {
            "marker": {
             "colorbar": {
              "outlinewidth": 0,
              "ticks": ""
             }
            },
            "type": "scatterternary"
           }
          ],
          "surface": [
           {
            "colorbar": {
             "outlinewidth": 0,
             "ticks": ""
            },
            "colorscale": [
             [
              0,
              "#0d0887"
             ],
             [
              0.1111111111111111,
              "#46039f"
             ],
             [
              0.2222222222222222,
              "#7201a8"
             ],
             [
              0.3333333333333333,
              "#9c179e"
             ],
             [
              0.4444444444444444,
              "#bd3786"
             ],
             [
              0.5555555555555556,
              "#d8576b"
             ],
             [
              0.6666666666666666,
              "#ed7953"
             ],
             [
              0.7777777777777778,
              "#fb9f3a"
             ],
             [
              0.8888888888888888,
              "#fdca26"
             ],
             [
              1,
              "#f0f921"
             ]
            ],
            "type": "surface"
           }
          ],
          "table": [
           {
            "cells": {
             "fill": {
              "color": "#506784"
             },
             "line": {
              "color": "rgb(17,17,17)"
             }
            },
            "header": {
             "fill": {
              "color": "#2a3f5f"
             },
             "line": {
              "color": "rgb(17,17,17)"
             }
            },
            "type": "table"
           }
          ]
         },
         "layout": {
          "annotationdefaults": {
           "arrowcolor": "#f2f5fa",
           "arrowhead": 0,
           "arrowwidth": 1
          },
          "autotypenumbers": "strict",
          "coloraxis": {
           "colorbar": {
            "outlinewidth": 0,
            "ticks": ""
           }
          },
          "colorscale": {
           "diverging": [
            [
             0,
             "#8e0152"
            ],
            [
             0.1,
             "#c51b7d"
            ],
            [
             0.2,
             "#de77ae"
            ],
            [
             0.3,
             "#f1b6da"
            ],
            [
             0.4,
             "#fde0ef"
            ],
            [
             0.5,
             "#f7f7f7"
            ],
            [
             0.6,
             "#e6f5d0"
            ],
            [
             0.7,
             "#b8e186"
            ],
            [
             0.8,
             "#7fbc41"
            ],
            [
             0.9,
             "#4d9221"
            ],
            [
             1,
             "#276419"
            ]
           ],
           "sequential": [
            [
             0,
             "#0d0887"
            ],
            [
             0.1111111111111111,
             "#46039f"
            ],
            [
             0.2222222222222222,
             "#7201a8"
            ],
            [
             0.3333333333333333,
             "#9c179e"
            ],
            [
             0.4444444444444444,
             "#bd3786"
            ],
            [
             0.5555555555555556,
             "#d8576b"
            ],
            [
             0.6666666666666666,
             "#ed7953"
            ],
            [
             0.7777777777777778,
             "#fb9f3a"
            ],
            [
             0.8888888888888888,
             "#fdca26"
            ],
            [
             1,
             "#f0f921"
            ]
           ],
           "sequentialminus": [
            [
             0,
             "#0d0887"
            ],
            [
             0.1111111111111111,
             "#46039f"
            ],
            [
             0.2222222222222222,
             "#7201a8"
            ],
            [
             0.3333333333333333,
             "#9c179e"
            ],
            [
             0.4444444444444444,
             "#bd3786"
            ],
            [
             0.5555555555555556,
             "#d8576b"
            ],
            [
             0.6666666666666666,
             "#ed7953"
            ],
            [
             0.7777777777777778,
             "#fb9f3a"
            ],
            [
             0.8888888888888888,
             "#fdca26"
            ],
            [
             1,
             "#f0f921"
            ]
           ]
          },
          "colorway": [
           "#636efa",
           "#EF553B",
           "#00cc96",
           "#ab63fa",
           "#FFA15A",
           "#19d3f3",
           "#FF6692",
           "#B6E880",
           "#FF97FF",
           "#FECB52"
          ],
          "font": {
           "color": "#f2f5fa"
          },
          "geo": {
           "bgcolor": "rgb(17,17,17)",
           "lakecolor": "rgb(17,17,17)",
           "landcolor": "rgb(17,17,17)",
           "showlakes": true,
           "showland": true,
           "subunitcolor": "#506784"
          },
          "hoverlabel": {
           "align": "left"
          },
          "hovermode": "closest",
          "mapbox": {
           "style": "dark"
          },
          "paper_bgcolor": "rgb(17,17,17)",
          "plot_bgcolor": "rgb(17,17,17)",
          "polar": {
           "angularaxis": {
            "gridcolor": "#506784",
            "linecolor": "#506784",
            "ticks": ""
           },
           "bgcolor": "rgb(17,17,17)",
           "radialaxis": {
            "gridcolor": "#506784",
            "linecolor": "#506784",
            "ticks": ""
           }
          },
          "scene": {
           "xaxis": {
            "backgroundcolor": "rgb(17,17,17)",
            "gridcolor": "#506784",
            "gridwidth": 2,
            "linecolor": "#506784",
            "showbackground": true,
            "ticks": "",
            "zerolinecolor": "#C8D4E3"
           },
           "yaxis": {
            "backgroundcolor": "rgb(17,17,17)",
            "gridcolor": "#506784",
            "gridwidth": 2,
            "linecolor": "#506784",
            "showbackground": true,
            "ticks": "",
            "zerolinecolor": "#C8D4E3"
           },
           "zaxis": {
            "backgroundcolor": "rgb(17,17,17)",
            "gridcolor": "#506784",
            "gridwidth": 2,
            "linecolor": "#506784",
            "showbackground": true,
            "ticks": "",
            "zerolinecolor": "#C8D4E3"
           }
          },
          "shapedefaults": {
           "line": {
            "color": "#f2f5fa"
           }
          },
          "sliderdefaults": {
           "bgcolor": "#C8D4E3",
           "bordercolor": "rgb(17,17,17)",
           "borderwidth": 1,
           "tickwidth": 0
          },
          "ternary": {
           "aaxis": {
            "gridcolor": "#506784",
            "linecolor": "#506784",
            "ticks": ""
           },
           "baxis": {
            "gridcolor": "#506784",
            "linecolor": "#506784",
            "ticks": ""
           },
           "bgcolor": "rgb(17,17,17)",
           "caxis": {
            "gridcolor": "#506784",
            "linecolor": "#506784",
            "ticks": ""
           }
          },
          "title": {
           "x": 0.05
          },
          "updatemenudefaults": {
           "bgcolor": "#506784",
           "borderwidth": 0
          },
          "xaxis": {
           "automargin": true,
           "gridcolor": "#283442",
           "linecolor": "#506784",
           "ticks": "",
           "title": {
            "standoff": 15
           },
           "zerolinecolor": "#283442",
           "zerolinewidth": 2
          },
          "yaxis": {
           "automargin": true,
           "gridcolor": "#283442",
           "linecolor": "#506784",
           "ticks": "",
           "title": {
            "standoff": 15
           },
           "zerolinecolor": "#283442",
           "zerolinewidth": 2
          }
         }
        },
        "title": {
         "text": "Heavy network: Response time distribution"
        },
        "xaxis": {
         "anchor": "y",
         "domain": [
          0,
          1
         ],
         "title": {
          "text": "Response time (s)"
         }
        },
        "yaxis": {
         "anchor": "x",
         "domain": [
          0,
          1
         ],
         "title": {
          "text": "probability density"
         }
        }
       }
      }
     },
     "metadata": {},
     "output_type": "display_data"
    },
    {
     "data": {
      "application/vnd.plotly.v1+json": {
       "config": {
        "plotlyServerURL": "https://plot.ly"
       },
       "data": [
        {
         "bingroup": "x",
         "histnorm": "probability density",
         "hovertemplate": "Framework=Dash<br>Response time (s)=%{x}<br>probability density=%{y}<extra></extra>",
         "legendgroup": "Dash",
         "marker": {
          "color": "#636EFA",
          "opacity": 0.55,
          "pattern": {
           "shape": ""
          }
         },
         "name": "Dash",
         "nbinsx": 50,
         "orientation": "v",
         "showlegend": true,
         "type": "histogram",
         "x": {
          "bdata": "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",
          "dtype": "f8"
         },
         "xaxis": "x",
         "yaxis": "y"
        },
        {
         "bingroup": "x",
         "histnorm": "probability density",
         "hovertemplate": "Framework=Flash<br>Response time (s)=%{x}<br>probability density=%{y}<extra></extra>",
         "legendgroup": "Flash",
         "marker": {
          "color": "#EF553B",
          "opacity": 0.55,
          "pattern": {
           "shape": ""
          }
         },
         "name": "Flash",
         "nbinsx": 50,
         "orientation": "v",
         "showlegend": true,
         "type": "histogram",
         "x": {
          "bdata": "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",
          "dtype": "f8"
         },
         "xaxis": "x",
         "yaxis": "y"
        }
       ],
       "layout": {
        "annotations": [
         {
          "showarrow": false,
          "text": "Dash median 4.38s",
          "x": 4.3796,
          "xanchor": "left",
          "xref": "x",
          "y": 1,
          "yanchor": "top",
          "yref": "y domain"
         },
         {
          "showarrow": false,
          "text": "Flash median 3.83s",
          "x": 3.8290499999999996,
          "xanchor": "right",
          "xref": "x",
          "y": 1,
          "yanchor": "top",
          "yref": "y domain"
         }
        ],
        "barmode": "overlay",
        "legend": {
         "title": {
          "text": ""
         },
         "tracegroupgap": 0
        },
        "shapes": [
         {
          "line": {
           "color": "#636EFA",
           "dash": "dash"
          },
          "type": "line",
          "x0": 4.3796,
          "x1": 4.3796,
          "xref": "x",
          "y0": 0,
          "y1": 1,
          "yref": "y domain"
         },
         {
          "line": {
           "color": "#EF553B",
           "dash": "dash"
          },
          "type": "line",
          "x0": 3.8290499999999996,
          "x1": 3.8290499999999996,
          "xref": "x",
          "y0": 0,
          "y1": 1,
          "yref": "y domain"
         }
        ],
        "template": {
         "data": {
          "bar": [
           {
            "error_x": {
             "color": "#f2f5fa"
            },
            "error_y": {
             "color": "#f2f5fa"
            },
            "marker": {
             "line": {
              "color": "rgb(17,17,17)",
              "width": 0.5
             },
             "pattern": {
              "fillmode": "overlay",
              "size": 10,
              "solidity": 0.2
             }
            },
            "type": "bar"
           }
          ],
          "barpolar": [
           {
            "marker": {
             "line": {
              "color": "rgb(17,17,17)",
              "width": 0.5
             },
             "pattern": {
              "fillmode": "overlay",
              "size": 10,
              "solidity": 0.2
             }
            },
            "type": "barpolar"
           }
          ],
          "carpet": [
           {
            "aaxis": {
             "endlinecolor": "#A2B1C6",
             "gridcolor": "#506784",
             "linecolor": "#506784",
             "minorgridcolor": "#506784",
             "startlinecolor": "#A2B1C6"
            },
            "baxis": {
             "endlinecolor": "#A2B1C6",
             "gridcolor": "#506784",
             "linecolor": "#506784",
             "minorgridcolor": "#506784",
             "startlinecolor": "#A2B1C6"
            },
            "type": "carpet"
           }
          ],
          "choropleth": [
           {
            "colorbar": {
             "outlinewidth": 0,
             "ticks": ""
            },
            "type": "choropleth"
           }
          ],
          "contour": [
           {
            "colorbar": {
             "outlinewidth": 0,
             "ticks": ""
            },
            "colorscale": [
             [
              0,
              "#0d0887"
             ],
             [
              0.1111111111111111,
              "#46039f"
             ],
             [
              0.2222222222222222,
              "#7201a8"
             ],
             [
              0.3333333333333333,
              "#9c179e"
             ],
             [
              0.4444444444444444,
              "#bd3786"
             ],
             [
              0.5555555555555556,
              "#d8576b"
             ],
             [
              0.6666666666666666,
              "#ed7953"
             ],
             [
              0.7777777777777778,
              "#fb9f3a"
             ],
             [
              0.8888888888888888,
              "#fdca26"
             ],
             [
              1,
              "#f0f921"
             ]
            ],
            "type": "contour"
           }
          ],
          "contourcarpet": [
           {
            "colorbar": {
             "outlinewidth": 0,
             "ticks": ""
            },
            "type": "contourcarpet"
           }
          ],
          "heatmap": [
           {
            "colorbar": {
             "outlinewidth": 0,
             "ticks": ""
            },
            "colorscale": [
             [
              0,
              "#0d0887"
             ],
             [
              0.1111111111111111,
              "#46039f"
             ],
             [
              0.2222222222222222,
              "#7201a8"
             ],
             [
              0.3333333333333333,
              "#9c179e"
             ],
             [
              0.4444444444444444,
              "#bd3786"
             ],
             [
              0.5555555555555556,
              "#d8576b"
             ],
             [
              0.6666666666666666,
              "#ed7953"
             ],
             [
              0.7777777777777778,
              "#fb9f3a"
             ],
             [
              0.8888888888888888,
              "#fdca26"
             ],
             [
              1,
              "#f0f921"
             ]
            ],
            "type": "heatmap"
           }
          ],
          "histogram": [
           {
            "marker": {
             "pattern": {
              "fillmode": "overlay",
              "size": 10,
              "solidity": 0.2
             }
            },
            "type": "histogram"
           }
          ],
          "histogram2d": [
           {
            "colorbar": {
             "outlinewidth": 0,
             "ticks": ""
            },
            "colorscale": [
             [
              0,
              "#0d0887"
             ],
             [
              0.1111111111111111,
              "#46039f"
             ],
             [
              0.2222222222222222,
              "#7201a8"
             ],
             [
              0.3333333333333333,
              "#9c179e"
             ],
             [
              0.4444444444444444,
              "#bd3786"
             ],
             [
              0.5555555555555556,
              "#d8576b"
             ],
             [
              0.6666666666666666,
              "#ed7953"
             ],
             [
              0.7777777777777778,
              "#fb9f3a"
             ],
             [
              0.8888888888888888,
              "#fdca26"
             ],
             [
              1,
              "#f0f921"
             ]
            ],
            "type": "histogram2d"
           }
          ],
          "histogram2dcontour": [
           {
            "colorbar": {
             "outlinewidth": 0,
             "ticks": ""
            },
            "colorscale": [
             [
              0,
              "#0d0887"
             ],
             [
              0.1111111111111111,
              "#46039f"
             ],
             [
              0.2222222222222222,
              "#7201a8"
             ],
             [
              0.3333333333333333,
              "#9c179e"
             ],
             [
              0.4444444444444444,
              "#bd3786"
             ],
             [
              0.5555555555555556,
              "#d8576b"
             ],
             [
              0.6666666666666666,
              "#ed7953"
             ],
             [
              0.7777777777777778,
              "#fb9f3a"
             ],
             [
              0.8888888888888888,
              "#fdca26"
             ],
             [
              1,
              "#f0f921"
             ]
            ],
            "type": "histogram2dcontour"
           }
          ],
          "mesh3d": [
           {
            "colorbar": {
             "outlinewidth": 0,
             "ticks": ""
            },
            "type": "mesh3d"
           }
          ],
          "parcoords": [
           {
            "line": {
             "colorbar": {
              "outlinewidth": 0,
              "ticks": ""
             }
            },
            "type": "parcoords"
           }
          ],
          "pie": [
           {
            "automargin": true,
            "type": "pie"
           }
          ],
          "scatter": [
           {
            "marker": {
             "line": {
              "color": "#283442"
             }
            },
            "type": "scatter"
           }
          ],
          "scatter3d": [
           {
            "line": {
             "colorbar": {
              "outlinewidth": 0,
              "ticks": ""
             }
            },
            "marker": {
             "colorbar": {
              "outlinewidth": 0,
              "ticks": ""
             }
            },
            "type": "scatter3d"
           }
          ],
          "scattercarpet": [
           {
            "marker": {
             "colorbar": {
              "outlinewidth": 0,
              "ticks": ""
             }
            },
            "type": "scattercarpet"
           }
          ],
          "scattergeo": [
           {
            "marker": {
             "colorbar": {
              "outlinewidth": 0,
              "ticks": ""
             }
            },
            "type": "scattergeo"
           }
          ],
          "scattergl": [
           {
            "marker": {
             "line": {
              "color": "#283442"
             }
            },
            "type": "scattergl"
           }
          ],
          "scattermap": [
           {
            "marker": {
             "colorbar": {
              "outlinewidth": 0,
              "ticks": ""
             }
            },
            "type": "scattermap"
           }
          ],
          "scattermapbox": [
           {
            "marker": {
             "colorbar": {
              "outlinewidth": 0,
              "ticks": ""
             }
            },
            "type": "scattermapbox"
           }
          ],
          "scatterpolar": [
           {
            "marker": {
             "colorbar": {
              "outlinewidth": 0,
              "ticks": ""
             }
            },
            "type": "scatterpolar"
           }
          ],
          "scatterpolargl": [
           {
            "marker": {
             "colorbar": {
              "outlinewidth": 0,
              "ticks": ""
             }
            },
            "type": "scatterpolargl"
           }
          ],
          "scatterternary": [
           {
            "marker": {
             "colorbar": {
              "outlinewidth": 0,
              "ticks": ""
             }
            },
            "type": "scatterternary"
           }
          ],
          "surface": [
           {
            "colorbar": {
             "outlinewidth": 0,
             "ticks": ""
            },
            "colorscale": [
             [
              0,
              "#0d0887"
             ],
             [
              0.1111111111111111,
              "#46039f"
             ],
             [
              0.2222222222222222,
              "#7201a8"
             ],
             [
              0.3333333333333333,
              "#9c179e"
             ],
             [
              0.4444444444444444,
              "#bd3786"
             ],
             [
              0.5555555555555556,
              "#d8576b"
             ],
             [
              0.6666666666666666,
              "#ed7953"
             ],
             [
              0.7777777777777778,
              "#fb9f3a"
             ],
             [
              0.8888888888888888,
              "#fdca26"
             ],
             [
              1,
              "#f0f921"
             ]
            ],
            "type": "surface"
           }
          ],
          "table": [
           {
            "cells": {
             "fill": {
              "color": "#506784"
             },
             "line": {
              "color": "rgb(17,17,17)"
             }
            },
            "header": {
             "fill": {
              "color": "#2a3f5f"
             },
             "line": {
              "color": "rgb(17,17,17)"
             }
            },
            "type": "table"
           }
          ]
         },
         "layout": {
          "annotationdefaults": {
           "arrowcolor": "#f2f5fa",
           "arrowhead": 0,
           "arrowwidth": 1
          },
          "autotypenumbers": "strict",
          "coloraxis": {
           "colorbar": {
            "outlinewidth": 0,
            "ticks": ""
           }
          },
          "colorscale": {
           "diverging": [
            [
             0,
             "#8e0152"
            ],
            [
             0.1,
             "#c51b7d"
            ],
            [
             0.2,
             "#de77ae"
            ],
            [
             0.3,
             "#f1b6da"
            ],
            [
             0.4,
             "#fde0ef"
            ],
            [
             0.5,
             "#f7f7f7"
            ],
            [
             0.6,
             "#e6f5d0"
            ],
            [
             0.7,
             "#b8e186"
            ],
            [
             0.8,
             "#7fbc41"
            ],
            [
             0.9,
             "#4d9221"
            ],
            [
             1,
             "#276419"
            ]
           ],
           "sequential": [
            [
             0,
             "#0d0887"
            ],
            [
             0.1111111111111111,
             "#46039f"
            ],
            [
             0.2222222222222222,
             "#7201a8"
            ],
            [
             0.3333333333333333,
             "#9c179e"
            ],
            [
             0.4444444444444444,
             "#bd3786"
            ],
            [
             0.5555555555555556,
             "#d8576b"
            ],
            [
             0.6666666666666666,
             "#ed7953"
            ],
            [
             0.7777777777777778,
             "#fb9f3a"
            ],
            [
             0.8888888888888888,
             "#fdca26"
            ],
            [
             1,
             "#f0f921"
            ]
           ],
           "sequentialminus": [
            [
             0,
             "#0d0887"
            ],
            [
             0.1111111111111111,
             "#46039f"
            ],
            [
             0.2222222222222222,
             "#7201a8"
            ],
            [
             0.3333333333333333,
             "#9c179e"
            ],
            [
             0.4444444444444444,
             "#bd3786"
            ],
            [
             0.5555555555555556,
             "#d8576b"
            ],
            [
             0.6666666666666666,
             "#ed7953"
            ],
            [
             0.7777777777777778,
             "#fb9f3a"
            ],
            [
             0.8888888888888888,
             "#fdca26"
            ],
            [
             1,
             "#f0f921"
            ]
           ]
          },
          "colorway": [
           "#636efa",
           "#EF553B",
           "#00cc96",
           "#ab63fa",
           "#FFA15A",
           "#19d3f3",
           "#FF6692",
           "#B6E880",
           "#FF97FF",
           "#FECB52"
          ],
          "font": {
           "color": "#f2f5fa"
          },
          "geo": {
           "bgcolor": "rgb(17,17,17)",
           "lakecolor": "rgb(17,17,17)",
           "landcolor": "rgb(17,17,17)",
           "showlakes": true,
           "showland": true,
           "subunitcolor": "#506784"
          },
          "hoverlabel": {
           "align": "left"
          },
          "hovermode": "closest",
          "mapbox": {
           "style": "dark"
          },
          "paper_bgcolor": "rgb(17,17,17)",
          "plot_bgcolor": "rgb(17,17,17)",
          "polar": {
           "angularaxis": {
            "gridcolor": "#506784",
            "linecolor": "#506784",
            "ticks": ""
           },
           "bgcolor": "rgb(17,17,17)",
           "radialaxis": {
            "gridcolor": "#506784",
            "linecolor": "#506784",
            "ticks": ""
           }
          },
          "scene": {
           "xaxis": {
            "backgroundcolor": "rgb(17,17,17)",
            "gridcolor": "#506784",
            "gridwidth": 2,
            "linecolor": "#506784",
            "showbackground": true,
            "ticks": "",
            "zerolinecolor": "#C8D4E3"
           },
           "yaxis": {
            "backgroundcolor": "rgb(17,17,17)",
            "gridcolor": "#506784",
            "gridwidth": 2,
            "linecolor": "#506784",
            "showbackground": true,
            "ticks": "",
            "zerolinecolor": "#C8D4E3"
           },
           "zaxis": {
            "backgroundcolor": "rgb(17,17,17)",
            "gridcolor": "#506784",
            "gridwidth": 2,
            "linecolor": "#506784",
            "showbackground": true,
            "ticks": "",
            "zerolinecolor": "#C8D4E3"
           }
          },
          "shapedefaults": {
           "line": {
            "color": "#f2f5fa"
           }
          },
          "sliderdefaults": {
           "bgcolor": "#C8D4E3",
           "bordercolor": "rgb(17,17,17)",
           "borderwidth": 1,
           "tickwidth": 0
          },
          "ternary": {
           "aaxis": {
            "gridcolor": "#506784",
            "linecolor": "#506784",
            "ticks": ""
           },
           "baxis": {
            "gridcolor": "#506784",
            "linecolor": "#506784",
            "ticks": ""
           },
           "bgcolor": "rgb(17,17,17)",
           "caxis": {
            "gridcolor": "#506784",
            "linecolor": "#506784",
            "ticks": ""
           }
          },
          "title": {
           "x": 0.05
          },
          "updatemenudefaults": {
           "bgcolor": "#506784",
           "borderwidth": 0
          },
          "xaxis": {
           "automargin": true,
           "gridcolor": "#283442",
           "linecolor": "#506784",
           "ticks": "",
           "title": {
            "standoff": 15
           },
           "zerolinecolor": "#283442",
           "zerolinewidth": 2
          },
          "yaxis": {
           "automargin": true,
           "gridcolor": "#283442",
           "linecolor": "#506784",
           "ticks": "",
           "title": {
            "standoff": 15
           },
           "zerolinecolor": "#283442",
           "zerolinewidth": 2
          }
         }
        },
        "title": {
         "text": "CPU bound: Response time distribution"
        },
        "xaxis": {
         "anchor": "y",
         "domain": [
          0,
          1
         ],
         "title": {
          "text": "Response time (s)"
         }
        },
        "yaxis": {
         "anchor": "x",
         "domain": [
          0,
          1
         ],
         "title": {
          "text": "probability density"
         }
        }
       }
      }
     },
     "metadata": {},
     "output_type": "display_data"
    },
    {
     "data": {
      "application/vnd.plotly.v1+json": {
       "config": {
        "plotlyServerURL": "https://plot.ly"
       },
       "data": [
        {
         "bingroup": "x",
         "histnorm": "probability density",
         "hovertemplate": "Framework=Dash<br>Response time (s)=%{x}<br>probability density=%{y}<extra></extra>",
         "legendgroup": "Dash",
         "marker": {
          "color": "#636EFA",
          "opacity": 0.55,
          "pattern": {
           "shape": ""
          }
         },
         "name": "Dash",
         "nbinsx": 50,
         "orientation": "v",
         "showlegend": true,
         "type": "histogram",
         "x": {
          "bdata": "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",
          "dtype": "f8"
         },
         "xaxis": "x",
         "yaxis": "y"
        },
        {
         "bingroup": "x",
         "histnorm": "probability density",
         "hovertemplate": "Framework=Flash<br>Response time (s)=%{x}<br>probability density=%{y}<extra></extra>",
         "legendgroup": "Flash",
         "marker": {
          "color": "#EF553B",
          "opacity": 0.55,
          "pattern": {
           "shape": ""
          }
         },
         "name": "Flash",
         "nbinsx": 50,
         "orientation": "v",
         "showlegend": true,
         "type": "histogram",
         "x": {
          "bdata": "m1Wfq63Ynz8noImw4emlP3sUrkfhev8/UI2XbhKD/z+Ens2qz9X/P+5aQj7o2f8/Z0Rpb/AFBUDSb18HzhkFQEATYcPTKwVAwoanV8oyBUASg8DKoUUFQAwCK4cWWQVAApoIG55eCkDYgXNGlHYKQCgPC7WmeQpAJJf/kH57CkAH8BZIUHwKQCEf9GxWfQpAMlUwKqmTD0AT8kHPZlUSQBDpt68DZwVAGeJYF7dRBUCZu5aQD3oKQEi/fR04ZwVAE/JBz2ZVBUCBJsKGp1cKQEGC4seYOxJAhXzQs1m1FEBdbcX+srsUQLN78rBQKyJAQfFjzF0rIkCn6Egu/6EcQGdEaW/wRRdACRueXinLGUCzDHGsi5sZQMKGp1fKchlAMzMzMzNzGUCAt0CC4kcXQPH0SlmG+CBAufyH9NtXD0AHzhlR2lsfQEaU9gZfGApATtGRXP7jIECGyVTBqOQgQN4CCYofYwVAnzws1JpmBUASpb3BFyYFQGUZ4lgXNwBAtoR80LNZ9j+8lpAPejb2P86qz9VWbBxAke18PzXeGUANcayL22gcQFdbsb/sHh9AHhZqTfOO9D/f4AuTqYL0P3ZPHhZqTf4/F0hQ/Bhz/j9EaW/whUkPQP5l9+RhofQ/MuauJeSD/j+0WfW52or+P8rDQq1pXgRA097gC5MpCUB/arx0k1gcQFTjpZvEIAlATYQNT68UDkC4rwPnjCgOQNcS8kHPphFAejarPlcbFECDwMqhRbYeQH/ZPXlYKBlAqFfKMsQxGUANcayL2ygUQA4tsp3vJxRADi2yne8nFECdgCbChicUQOcdp+hIrhFAgLdAguJHGUC/fR04Z0QZQLN78rBQaw5AWYY41sWtEUBd/kP67asRQPYoXI/CdQ5Ai/1l9+RhDkDM7snDQi0OQA8LtaZ5RwlAgQTFjzG3G0C3Yn/ZPbkbQLKd76fGSwlAcF8HzhlRCUBj7lpCPmgJQG1Wfa62YglA7FG4HoVrDkC62or9ZbcRQMe6uI0GMCRAOwFNhA1PDkCOdXEbDWAOQISezarPVQ5AfPKwUGuaCUD67evAOWMUQHbgnBGlvQRArK3YX3bPBEDEQq1p3vEEQDC7Jw8LNQpAf9k9eVgoCkCPwvUoXA8FQE5iEFg5NBJADi2yne+nFEBFR3L5DykXQMx/SL99HQVAH4XrUbgeBUApXI/C9SgFQB1aZDvfTxJAtFn1udrKFEA5RUdy+Q8KQJyiI7n8Bw9ASL99HTjnDkCxv+yePGwXQEOtad5xigRA8KfGSzeJBEAp7Q2+MJkEQO84RUdyeQ5ACD2bVZ9rHEDoaiv2l50UQBe30QDeQhdAaQBvgQRFF0A1XrpJDIIJQMrDQq1pXglAjnVxGw1gCUAwuycPCzUEQJMYBFYOLRdANs07TtHREUB0JJf/kH7+P2UZ4lgXNwRAFvvL7slDBEBVMCqpE1AEQF8HzhlRWgRAQmDl0CLbEUAVHcnlP+QRQF8pyxDHehRAp+hILv8h9T8H8BZIUPz+P9xGA3gLJP8/fGEyVTAq/z8E54wo7Q3/P3S1FfvLbgRAdZMYBFYO/z8FxY8xdy3/P8KGp1fKMv8/FNBE2PB0BECiRbbz/dQRQM9m1edqqwlACfmgZ7NqBEBHcvkP6TcJQGWqYFRSJw5AI9v5fmo8DkD1udqK/aURQLUV+8vuSQ5ACRueXilLDkCVZYhjXVwOQEcDeAskqBFAZmZmZmZmGUCZKhiV1AkUQArXo3A9ChRADJOpglFJGUD/snvysFAZQClcj8L1KBlA+THmriUkFEDqBDQRNrwRQOVhodY0rxFA93XgnBElFEB2Tx4Wao0WQLaEfNCzmSFAXf5D+u0rHkCZu5aQD1ogQLaEfNCzWSBAUwWjkjqhIUBvgQTFjzEZQLMMcayLmxZA6gQ0ETY8GUBB8WPMXUsOQCV1ApoImxFAJzEIrBwaFECLbOf7qfEIQDGZKhiVlBtAi2zn+6nxA0Bg5dAi2/kDQJZDi2zn+wNAgQTFjzH3CEC94xQdyeUNQABvgQTFDx5A+1xtxf5yEUDOqs/VVuwNQDhnRGlv8AhAjErqBDQR5D/Mf0i/fR3kP3xhMlUwKgBACYofY+5aDECyne+nxssNQA==",
          "dtype": "f8"
         },
         "xaxis": "x",
         "yaxis": "y"
        }
       ],
       "layout": {
        "annotations": [
         {
          "showarrow": false,
          "text": "Dash median 6.48s",
          "x": 6.4795,
          "xanchor": "left",
          "xref": "x",
          "y": 1,
          "yanchor": "top",
          "yref": "y domain"
         },
         {
          "showarrow": false,
          "text": "Flash median 3.78s",
          "x": 3.7828,
          "xanchor": "right",
          "xref": "x",
          "y": 1,
          "yanchor": "top",
          "yref": "y domain"
         }
        ],
        "barmode": "overlay",
        "legend": {
         "title": {
          "text": ""
         },
         "tracegroupgap": 0
        },
        "shapes": [
         {
          "line": {
           "color": "#636EFA",
           "dash": "dash"
          },
          "type": "line",
          "x0": 6.4795,
          "x1": 6.4795,
          "xref": "x",
          "y0": 0,
          "y1": 1,
          "yref": "y domain"
         },
         {
          "line": {
           "color": "#EF553B",
           "dash": "dash"
          },
          "type": "line",
          "x0": 3.7828,
          "x1": 3.7828,
          "xref": "x",
          "y0": 0,
          "y1": 1,
          "yref": "y domain"
         }
        ],
        "template": {
         "data": {
          "bar": [
           {
            "error_x": {
             "color": "#f2f5fa"
            },
            "error_y": {
             "color": "#f2f5fa"
            },
            "marker": {
             "line": {
              "color": "rgb(17,17,17)",
              "width": 0.5
             },
             "pattern": {
              "fillmode": "overlay",
              "size": 10,
              "solidity": 0.2
             }
            },
            "type": "bar"
           }
          ],
          "barpolar": [
           {
            "marker": {
             "line": {
              "color": "rgb(17,17,17)",
              "width": 0.5
             },
             "pattern": {
              "fillmode": "overlay",
              "size": 10,
              "solidity": 0.2
             }
            },
            "type": "barpolar"
           }
          ],
          "carpet": [
           {
            "aaxis": {
             "endlinecolor": "#A2B1C6",
             "gridcolor": "#506784",
             "linecolor": "#506784",
             "minorgridcolor": "#506784",
             "startlinecolor": "#A2B1C6"
            },
            "baxis": {
             "endlinecolor": "#A2B1C6",
             "gridcolor": "#506784",
             "linecolor": "#506784",
             "minorgridcolor": "#506784",
             "startlinecolor": "#A2B1C6"
            },
            "type": "carpet"
           }
          ],
          "choropleth": [
           {
            "colorbar": {
             "outlinewidth": 0,
             "ticks": ""
            },
            "type": "choropleth"
           }
          ],
          "contour": [
           {
            "colorbar": {
             "outlinewidth": 0,
             "ticks": ""
            },
            "colorscale": [
             [
              0,
              "#0d0887"
             ],
             [
              0.1111111111111111,
              "#46039f"
             ],
             [
              0.2222222222222222,
              "#7201a8"
             ],
             [
              0.3333333333333333,
              "#9c179e"
             ],
             [
              0.4444444444444444,
              "#bd3786"
             ],
             [
              0.5555555555555556,
              "#d8576b"
             ],
             [
              0.6666666666666666,
              "#ed7953"
             ],
             [
              0.7777777777777778,
              "#fb9f3a"
             ],
             [
              0.8888888888888888,
              "#fdca26"
             ],
             [
              1,
              "#f0f921"
             ]
            ],
            "type": "contour"
           }
          ],
          "contourcarpet": [
           {
            "colorbar": {
             "outlinewidth": 0,
             "ticks": ""
            },
            "type": "contourcarpet"
           }
          ],
          "heatmap": [
           {
            "colorbar": {
             "outlinewidth": 0,
             "ticks": ""
            },
            "colorscale": [
             [
              0,
              "#0d0887"
             ],
             [
              0.1111111111111111,
              "#46039f"
             ],
             [
              0.2222222222222222,
              "#7201a8"
             ],
             [
              0.3333333333333333,
              "#9c179e"
             ],
             [
              0.4444444444444444,
              "#bd3786"
             ],
             [
              0.5555555555555556,
              "#d8576b"
             ],
             [
              0.6666666666666666,
              "#ed7953"
             ],
             [
              0.7777777777777778,
              "#fb9f3a"
             ],
             [
              0.8888888888888888,
              "#fdca26"
             ],
             [
              1,
              "#f0f921"
             ]
            ],
            "type": "heatmap"
           }
          ],
          "histogram": [
           {
            "marker": {
             "pattern": {
              "fillmode": "overlay",
              "size": 10,
              "solidity": 0.2
             }
            },
            "type": "histogram"
           }
          ],
          "histogram2d": [
           {
            "colorbar": {
             "outlinewidth": 0,
             "ticks": ""
            },
            "colorscale": [
             [
              0,
              "#0d0887"
             ],
             [
              0.1111111111111111,
              "#46039f"
             ],
             [
              0.2222222222222222,
              "#7201a8"
             ],
             [
              0.3333333333333333,
              "#9c179e"
             ],
             [
              0.4444444444444444,
              "#bd3786"
             ],
             [
              0.5555555555555556,
              "#d8576b"
             ],
             [
              0.6666666666666666,
              "#ed7953"
             ],
             [
              0.7777777777777778,
              "#fb9f3a"
             ],
             [
              0.8888888888888888,
              "#fdca26"
             ],
             [
              1,
              "#f0f921"
             ]
            ],
            "type": "histogram2d"
           }
          ],
          "histogram2dcontour": [
           {
            "colorbar": {
             "outlinewidth": 0,
             "ticks": ""
            },
            "colorscale": [
             [
              0,
              "#0d0887"
             ],
             [
              0.1111111111111111,
              "#46039f"
             ],
             [
              0.2222222222222222,
              "#7201a8"
             ],
             [
              0.3333333333333333,
              "#9c179e"
             ],
             [
              0.4444444444444444,
              "#bd3786"
             ],
             [
              0.5555555555555556,
              "#d8576b"
             ],
             [
              0.6666666666666666,
              "#ed7953"
             ],
             [
              0.7777777777777778,
              "#fb9f3a"
             ],
             [
              0.8888888888888888,
              "#fdca26"
             ],
             [
              1,
              "#f0f921"
             ]
            ],
            "type": "histogram2dcontour"
           }
          ],
          "mesh3d": [
           {
            "colorbar": {
             "outlinewidth": 0,
             "ticks": ""
            },
            "type": "mesh3d"
           }
          ],
          "parcoords": [
           {
            "line": {
             "colorbar": {
              "outlinewidth": 0,
              "ticks": ""
             }
            },
            "type": "parcoords"
           }
          ],
          "pie": [
           {
            "automargin": true,
            "type": "pie"
           }
          ],
          "scatter": [
           {
            "marker": {
             "line": {
              "color": "#283442"
             }
            },
            "type": "scatter"
           }
          ],
          "scatter3d": [
           {
            "line": {
             "colorbar": {
              "outlinewidth": 0,
              "ticks": ""
             }
            },
            "marker": {
             "colorbar": {
              "outlinewidth": 0,
              "ticks": ""
             }
            },
            "type": "scatter3d"
           }
          ],
          "scattercarpet": [
           {
            "marker": {
             "colorbar": {
              "outlinewidth": 0,
              "ticks": ""
             }
            },
            "type": "scattercarpet"
           }
          ],
          "scattergeo": [
           {
            "marker": {
             "colorbar": {
              "outlinewidth": 0,
              "ticks": ""
             }
            },
            "type": "scattergeo"
           }
          ],
          "scattergl": [
           {
            "marker": {
             "line": {
              "color": "#283442"
             }
            },
            "type": "scattergl"
           }
          ],
          "scattermap": [
           {
            "marker": {
             "colorbar": {
              "outlinewidth": 0,
              "ticks": ""
             }
            },
            "type": "scattermap"
           }
          ],
          "scattermapbox": [
           {
            "marker": {
             "colorbar": {
              "outlinewidth": 0,
              "ticks": ""
             }
            },
            "type": "scattermapbox"
           }
          ],
          "scatterpolar": [
           {
            "marker": {
             "colorbar": {
              "outlinewidth": 0,
              "ticks": ""
             }
            },
            "type": "scatterpolar"
           }
          ],
          "scatterpolargl": [
           {
            "marker": {
             "colorbar": {
              "outlinewidth": 0,
              "ticks": ""
             }
            },
            "type": "scatterpolargl"
           }
          ],
          "scatterternary": [
           {
            "marker": {
             "colorbar": {
              "outlinewidth": 0,
              "ticks": ""
             }
            },
            "type": "scatterternary"
           }
          ],
          "surface": [
           {
            "colorbar": {
             "outlinewidth": 0,
             "ticks": ""
            },
            "colorscale": [
             [
              0,
              "#0d0887"
             ],
             [
              0.1111111111111111,
              "#46039f"
             ],
             [
              0.2222222222222222,
              "#7201a8"
             ],
             [
              0.3333333333333333,
              "#9c179e"
             ],
             [
              0.4444444444444444,
              "#bd3786"
             ],
             [
              0.5555555555555556,
              "#d8576b"
             ],
             [
              0.6666666666666666,
              "#ed7953"
             ],
             [
              0.7777777777777778,
              "#fb9f3a"
             ],
             [
              0.8888888888888888,
              "#fdca26"
             ],
             [
              1,
              "#f0f921"
             ]
            ],
            "type": "surface"
           }
          ],
          "table": [
           {
            "cells": {
             "fill": {
              "color": "#506784"
             },
             "line": {
              "color": "rgb(17,17,17)"
             }
            },
            "header": {
             "fill": {
              "color": "#2a3f5f"
             },
             "line": {
              "color": "rgb(17,17,17)"
             }
            },
            "type": "table"
           }
          ]
         },
         "layout": {
          "annotationdefaults": {
           "arrowcolor": "#f2f5fa",
           "arrowhead": 0,
           "arrowwidth": 1
          },
          "autotypenumbers": "strict",
          "coloraxis": {
           "colorbar": {
            "outlinewidth": 0,
            "ticks": ""
           }
          },
          "colorscale": {
           "diverging": [
            [
             0,
             "#8e0152"
            ],
            [
             0.1,
             "#c51b7d"
            ],
            [
             0.2,
             "#de77ae"
            ],
            [
             0.3,
             "#f1b6da"
            ],
            [
             0.4,
             "#fde0ef"
            ],
            [
             0.5,
             "#f7f7f7"
            ],
            [
             0.6,
             "#e6f5d0"
            ],
            [
             0.7,
             "#b8e186"
            ],
            [
             0.8,
             "#7fbc41"
            ],
            [
             0.9,
             "#4d9221"
            ],
            [
             1,
             "#276419"
            ]
           ],
           "sequential": [
            [
             0,
             "#0d0887"
            ],
            [
             0.1111111111111111,
             "#46039f"
            ],
            [
             0.2222222222222222,
             "#7201a8"
            ],
            [
             0.3333333333333333,
             "#9c179e"
            ],
            [
             0.4444444444444444,
             "#bd3786"
            ],
            [
             0.5555555555555556,
             "#d8576b"
            ],
            [
             0.6666666666666666,
             "#ed7953"
            ],
            [
             0.7777777777777778,
             "#fb9f3a"
            ],
            [
             0.8888888888888888,
             "#fdca26"
            ],
            [
             1,
             "#f0f921"
            ]
           ],
           "sequentialminus": [
            [
             0,
             "#0d0887"
            ],
            [
             0.1111111111111111,
             "#46039f"
            ],
            [
             0.2222222222222222,
             "#7201a8"
            ],
            [
             0.3333333333333333,
             "#9c179e"
            ],
            [
             0.4444444444444444,
             "#bd3786"
            ],
            [
             0.5555555555555556,
             "#d8576b"
            ],
            [
             0.6666666666666666,
             "#ed7953"
            ],
            [
             0.7777777777777778,
             "#fb9f3a"
            ],
            [
             0.8888888888888888,
             "#fdca26"
            ],
            [
             1,
             "#f0f921"
            ]
           ]
          },
          "colorway": [
           "#636efa",
           "#EF553B",
           "#00cc96",
           "#ab63fa",
           "#FFA15A",
           "#19d3f3",
           "#FF6692",
           "#B6E880",
           "#FF97FF",
           "#FECB52"
          ],
          "font": {
           "color": "#f2f5fa"
          },
          "geo": {
           "bgcolor": "rgb(17,17,17)",
           "lakecolor": "rgb(17,17,17)",
           "landcolor": "rgb(17,17,17)",
           "showlakes": true,
           "showland": true,
           "subunitcolor": "#506784"
          },
          "hoverlabel": {
           "align": "left"
          },
          "hovermode": "closest",
          "mapbox": {
           "style": "dark"
          },
          "paper_bgcolor": "rgb(17,17,17)",
          "plot_bgcolor": "rgb(17,17,17)",
          "polar": {
           "angularaxis": {
            "gridcolor": "#506784",
            "linecolor": "#506784",
            "ticks": ""
           },
           "bgcolor": "rgb(17,17,17)",
           "radialaxis": {
            "gridcolor": "#506784",
            "linecolor": "#506784",
            "ticks": ""
           }
          },
          "scene": {
           "xaxis": {
            "backgroundcolor": "rgb(17,17,17)",
            "gridcolor": "#506784",
            "gridwidth": 2,
            "linecolor": "#506784",
            "showbackground": true,
            "ticks": "",
            "zerolinecolor": "#C8D4E3"
           },
           "yaxis": {
            "backgroundcolor": "rgb(17,17,17)",
            "gridcolor": "#506784",
            "gridwidth": 2,
            "linecolor": "#506784",
            "showbackground": true,
            "ticks": "",
            "zerolinecolor": "#C8D4E3"
           },
           "zaxis": {
            "backgroundcolor": "rgb(17,17,17)",
            "gridcolor": "#506784",
            "gridwidth": 2,
            "linecolor": "#506784",
            "showbackground": true,
            "ticks": "",
            "zerolinecolor": "#C8D4E3"
           }
          },
          "shapedefaults": {
           "line": {
            "color": "#f2f5fa"
           }
          },
          "sliderdefaults": {
           "bgcolor": "#C8D4E3",
           "bordercolor": "rgb(17,17,17)",
           "borderwidth": 1,
           "tickwidth": 0
          },
          "ternary": {
           "aaxis": {
            "gridcolor": "#506784",
            "linecolor": "#506784",
            "ticks": ""
           },
           "baxis": {
            "gridcolor": "#506784",
            "linecolor": "#506784",
            "ticks": ""
           },
           "bgcolor": "rgb(17,17,17)",
           "caxis": {
            "gridcolor": "#506784",
            "linecolor": "#506784",
            "ticks": ""
           }
          },
          "title": {
           "x": 0.05
          },
          "updatemenudefaults": {
           "bgcolor": "#506784",
           "borderwidth": 0
          },
          "xaxis": {
           "automargin": true,
           "gridcolor": "#283442",
           "linecolor": "#506784",
           "ticks": "",
           "title": {
            "standoff": 15
           },
           "zerolinecolor": "#283442",
           "zerolinewidth": 2
          },
          "yaxis": {
           "automargin": true,
           "gridcolor": "#283442",
           "linecolor": "#506784",
           "ticks": "",
           "title": {
            "standoff": 15
           },
           "zerolinecolor": "#283442",
           "zerolinewidth": 2
          }
         }
        },
        "title": {
         "text": "CPU bound with SSE: Response time distribution"
        },
        "xaxis": {
         "anchor": "y",
         "domain": [
          0,
          1
         ],
         "title": {
          "text": "Response time (s)"
         }
        },
        "yaxis": {
         "anchor": "x",
         "domain": [
          0,
          1
         ],
         "title": {
          "text": "probability density"
         }
        }
       }
      }
     },
     "metadata": {},
     "output_type": "display_data"
    }
   ],
   "source": [
    "# Overlayed distributions by framework for Heavy network and CPU bound scenarios\n",
    "import pandas as pd\n",
    "import numpy as np\n",
    "import plotly.express as px\n",
    "\n",
    "# Shared colors across all charts\n",
    "COLOR_MAP = {'Dash': '#636EFA', 'Flash': '#EF553B'}  # blue/red\n",
    "\n",
    "# Helper to build an overlay histogram with per-framework medians\n",
    "\n",
    "def overlay_hist(df_dash, df_flash, scenario_title: str, nbins: int = 50):\n",
    "    col = 'response-time'\n",
    "    # Prepare tidy data\n",
    "    d1 = df_dash[[col]].rename(columns={col: 'response_time'}).dropna().copy()\n",
    "    d1['framework'] = 'Dash'\n",
    "    d2 = df_flash[[col]].rename(columns={col: 'response_time'}).dropna().copy()\n",
    "    d2['framework'] = 'Flash'\n",
    "    dfc = pd.concat([d1, d2], ignore_index=True)\n",
    "\n",
    "    fig = px.histogram(\n",
    "        dfc,\n",
    "        x='response_time',\n",
    "        color='framework',\n",
    "        barmode='overlay',\n",
    "        histnorm='probability density',\n",
    "        nbins=nbins,\n",
    "        opacity=0.55,\n",
    "        color_discrete_map=COLOR_MAP,\n",
    "        labels={'response_time': 'Response time (s)', 'framework': 'Framework'},\n",
    "        title=f\"{scenario_title}: Response time distribution\"\n",
    "    )\n",
    "\n",
    "    # Add per-framework medians as reference lines\n",
    "    med_dash = d1['response_time'].median() if len(d1) else np.nan\n",
    "    med_flash = d2['response_time'].median() if len(d2) else np.nan\n",
    "    if pd.notna(med_dash):\n",
    "        fig.add_vline(\n",
    "            x=med_dash,\n",
    "            line_dash='dash',\n",
    "            line_color=COLOR_MAP['Dash'],\n",
    "            annotation_text=f\"Dash median {med_dash:.2f}s\",\n",
    "            annotation_position='top right'\n",
    "        )\n",
    "    if pd.notna(med_flash):\n",
    "        fig.add_vline(\n",
    "            x=med_flash,\n",
    "            line_dash='dash',\n",
    "            line_color=COLOR_MAP['Flash'],\n",
    "            annotation_text=f\"Flash median {med_flash:.2f}s\",\n",
    "            annotation_position='top left'\n",
    "        )\n",
    "\n",
    "    fig.update_layout(legend_title_text='')\n",
    "    return fig\n",
    "\n",
    "# Heavy network scenario (nhv_* data)\n",
    "fig_nhv = overlay_hist(nhv_dash, nhv_flash, 'Heavy network')\n",
    "fig_nhv.show()\n",
    "\n",
    "# CPU bound scenario (cpu_* data)\n",
    "fig_cpu = overlay_hist(cpu_dash, cpu_flash, 'CPU bound')\n",
    "fig_cpu.show()\n",
    "\n",
    "fig_cpu_w_sse = overlay_hist(cpu_w_sse_dash, cpu_w_sse_flash, 'CPU bound with SSE')\n",
    "fig_cpu_w_sse.show()\n"
   ]
  },
  {
   "cell_type": "code",
   "execution_count": 50,
   "id": "500738b5",
   "metadata": {},
   "outputs": [
    {
     "data": {
      "text/html": [
       "<style type=\"text/css\">\n",
       "#T_63ed8_row0_col0, #T_63ed8_row0_col1, #T_63ed8_row0_col2, #T_63ed8_row1_col0, #T_63ed8_row1_col1, #T_63ed8_row1_col2 {\n",
       "  font-size: 12pt;\n",
       "}\n",
       "#T_63ed8_row0_col3 {\n",
       "  background-color: #f7fbff;\n",
       "  color: #000000;\n",
       "  font-size: 12pt;\n",
       "}\n",
       "#T_63ed8_row1_col3 {\n",
       "  background-color: #08306b;\n",
       "  color: #f1f1f1;\n",
       "  font-size: 12pt;\n",
       "}\n",
       "</style>\n",
       "<table id=\"T_63ed8\">\n",
       "  <caption>Heavy network — totals</caption>\n",
       "  <thead>\n",
       "    <tr>\n",
       "      <th id=\"T_63ed8_level0_col0\" class=\"col_heading level0 col0\" >framework</th>\n",
       "      <th id=\"T_63ed8_level0_col1\" class=\"col_heading level0 col1\" >requests</th>\n",
       "      <th id=\"T_63ed8_level0_col2\" class=\"col_heading level0 col2\" >elapsed (s)</th>\n",
       "      <th id=\"T_63ed8_level0_col3\" class=\"col_heading level0 col3\" >req/s</th>\n",
       "    </tr>\n",
       "  </thead>\n",
       "  <tbody>\n",
       "    <tr>\n",
       "      <td id=\"T_63ed8_row0_col0\" class=\"data row0 col0\" >Dash</td>\n",
       "      <td id=\"T_63ed8_row0_col1\" class=\"data row0 col1\" >100</td>\n",
       "      <td id=\"T_63ed8_row0_col2\" class=\"data row0 col2\" >115.360000</td>\n",
       "      <td id=\"T_63ed8_row0_col3\" class=\"data row0 col3\" >0.866900</td>\n",
       "    </tr>\n",
       "    <tr>\n",
       "      <td id=\"T_63ed8_row1_col0\" class=\"data row1 col0\" >Flash</td>\n",
       "      <td id=\"T_63ed8_row1_col1\" class=\"data row1 col1\" >100</td>\n",
       "      <td id=\"T_63ed8_row1_col2\" class=\"data row1 col2\" >26.250000</td>\n",
       "      <td id=\"T_63ed8_row1_col3\" class=\"data row1 col3\" >3.808800</td>\n",
       "    </tr>\n",
       "  </tbody>\n",
       "</table>\n"
      ],
      "text/plain": [
       "<pandas.io.formats.style.Styler at 0x1182c12b0>"
      ]
     },
     "metadata": {},
     "output_type": "display_data"
    },
    {
     "data": {
      "text/html": [
       "<style type=\"text/css\">\n",
       "#T_864dc_row0_col0, #T_864dc_row0_col1, #T_864dc_row0_col2, #T_864dc_row1_col0, #T_864dc_row1_col1, #T_864dc_row1_col2 {\n",
       "  font-size: 12pt;\n",
       "}\n",
       "#T_864dc_row0_col3 {\n",
       "  background-color: #f7fbff;\n",
       "  color: #000000;\n",
       "  font-size: 12pt;\n",
       "}\n",
       "#T_864dc_row1_col3 {\n",
       "  background-color: #08306b;\n",
       "  color: #f1f1f1;\n",
       "  font-size: 12pt;\n",
       "}\n",
       "</style>\n",
       "<table id=\"T_864dc\">\n",
       "  <caption>CPU bound — totals</caption>\n",
       "  <thead>\n",
       "    <tr>\n",
       "      <th id=\"T_864dc_level0_col0\" class=\"col_heading level0 col0\" >framework</th>\n",
       "      <th id=\"T_864dc_level0_col1\" class=\"col_heading level0 col1\" >requests</th>\n",
       "      <th id=\"T_864dc_level0_col2\" class=\"col_heading level0 col2\" >elapsed (s)</th>\n",
       "      <th id=\"T_864dc_level0_col3\" class=\"col_heading level0 col3\" >req/s</th>\n",
       "    </tr>\n",
       "  </thead>\n",
       "  <tbody>\n",
       "    <tr>\n",
       "      <td id=\"T_864dc_row0_col0\" class=\"data row0 col0\" >Dash</td>\n",
       "      <td id=\"T_864dc_row0_col1\" class=\"data row0 col1\" >200</td>\n",
       "      <td id=\"T_864dc_row0_col2\" class=\"data row0 col2\" >48.210000</td>\n",
       "      <td id=\"T_864dc_row0_col3\" class=\"data row0 col3\" >4.148900</td>\n",
       "    </tr>\n",
       "    <tr>\n",
       "      <td id=\"T_864dc_row1_col0\" class=\"data row1 col0\" >Flash</td>\n",
       "      <td id=\"T_864dc_row1_col1\" class=\"data row1 col1\" >200</td>\n",
       "      <td id=\"T_864dc_row1_col2\" class=\"data row1 col2\" >42.550000</td>\n",
       "      <td id=\"T_864dc_row1_col3\" class=\"data row1 col3\" >4.700200</td>\n",
       "    </tr>\n",
       "  </tbody>\n",
       "</table>\n"
      ],
      "text/plain": [
       "<pandas.io.formats.style.Styler at 0x10e322390>"
      ]
     },
     "metadata": {},
     "output_type": "display_data"
    },
    {
     "data": {
      "text/html": [
       "<style type=\"text/css\">\n",
       "#T_66022_row0_col0, #T_66022_row0_col1, #T_66022_row0_col2, #T_66022_row1_col0, #T_66022_row1_col1, #T_66022_row1_col2 {\n",
       "  font-size: 12pt;\n",
       "}\n",
       "#T_66022_row0_col3 {\n",
       "  background-color: #f7fbff;\n",
       "  color: #000000;\n",
       "  font-size: 12pt;\n",
       "}\n",
       "#T_66022_row1_col3 {\n",
       "  background-color: #08306b;\n",
       "  color: #f1f1f1;\n",
       "  font-size: 12pt;\n",
       "}\n",
       "</style>\n",
       "<table id=\"T_66022\">\n",
       "  <caption>CPU bound with SSE — totals</caption>\n",
       "  <thead>\n",
       "    <tr>\n",
       "      <th id=\"T_66022_level0_col0\" class=\"col_heading level0 col0\" >framework</th>\n",
       "      <th id=\"T_66022_level0_col1\" class=\"col_heading level0 col1\" >requests</th>\n",
       "      <th id=\"T_66022_level0_col2\" class=\"col_heading level0 col2\" >elapsed (s)</th>\n",
       "      <th id=\"T_66022_level0_col3\" class=\"col_heading level0 col3\" >req/s</th>\n",
       "    </tr>\n",
       "  </thead>\n",
       "  <tbody>\n",
       "    <tr>\n",
       "      <td id=\"T_66022_row0_col0\" class=\"data row0 col0\" >Dash</td>\n",
       "      <td id=\"T_66022_row0_col1\" class=\"data row0 col1\" >200</td>\n",
       "      <td id=\"T_66022_row0_col2\" class=\"data row0 col2\" >62.970000</td>\n",
       "      <td id=\"T_66022_row0_col3\" class=\"data row0 col3\" >3.176000</td>\n",
       "    </tr>\n",
       "    <tr>\n",
       "      <td id=\"T_66022_row1_col0\" class=\"data row1 col0\" >Flash</td>\n",
       "      <td id=\"T_66022_row1_col1\" class=\"data row1 col1\" >200</td>\n",
       "      <td id=\"T_66022_row1_col2\" class=\"data row1 col2\" >43.450000</td>\n",
       "      <td id=\"T_66022_row1_col3\" class=\"data row1 col3\" >4.603000</td>\n",
       "    </tr>\n",
       "  </tbody>\n",
       "</table>\n"
      ],
      "text/plain": [
       "<pandas.io.formats.style.Styler at 0x10f1effe0>"
      ]
     },
     "metadata": {},
     "output_type": "display_data"
    },
    {
     "data": {
      "application/vnd.plotly.v1+json": {
       "config": {
        "plotlyServerURL": "https://plot.ly"
       },
       "data": [
        {
         "cliponaxis": false,
         "hovertemplate": "Framework=%{x}<br>Requests/sec=%{y}<br>text=%{text}<extra></extra>",
         "legendgroup": "Dash",
         "marker": {
          "color": "#636EFA",
          "pattern": {
           "shape": ""
          }
         },
         "name": "Dash",
         "orientation": "v",
         "showlegend": true,
         "text": [
          "0.867"
         ],
         "textposition": "outside",
         "type": "bar",
         "x": [
          "Dash"
         ],
         "xaxis": "x",
         "y": {
          "bdata": "AQUW7Fu96z8=",
          "dtype": "f8"
         },
         "yaxis": "y"
        },
        {
         "cliponaxis": false,
         "hovertemplate": "Framework=%{x}<br>Requests/sec=%{y}<br>text=%{text}<extra></extra>",
         "legendgroup": "Flash",
         "marker": {
          "color": "#EF553B",
          "pattern": {
           "shape": ""
          }
         },
         "name": "Flash",
         "orientation": "v",
         "showlegend": true,
         "text": [
          "3.809"
         ],
         "textposition": "outside",
         "type": "bar",
         "x": [
          "Flash"
         ],
         "xaxis": "x",
         "y": {
          "bdata": "J0OS3HJ4DkA=",
          "dtype": "f8"
         },
         "yaxis": "y"
        }
       ],
       "layout": {
        "barmode": "relative",
        "legend": {
         "title": {
          "text": "Framework"
         },
         "tracegroupgap": 0
        },
        "showlegend": false,
        "template": {
         "data": {
          "bar": [
           {
            "error_x": {
             "color": "#f2f5fa"
            },
            "error_y": {
             "color": "#f2f5fa"
            },
            "marker": {
             "line": {
              "color": "rgb(17,17,17)",
              "width": 0.5
             },
             "pattern": {
              "fillmode": "overlay",
              "size": 10,
              "solidity": 0.2
             }
            },
            "type": "bar"
           }
          ],
          "barpolar": [
           {
            "marker": {
             "line": {
              "color": "rgb(17,17,17)",
              "width": 0.5
             },
             "pattern": {
              "fillmode": "overlay",
              "size": 10,
              "solidity": 0.2
             }
            },
            "type": "barpolar"
           }
          ],
          "carpet": [
           {
            "aaxis": {
             "endlinecolor": "#A2B1C6",
             "gridcolor": "#506784",
             "linecolor": "#506784",
             "minorgridcolor": "#506784",
             "startlinecolor": "#A2B1C6"
            },
            "baxis": {
             "endlinecolor": "#A2B1C6",
             "gridcolor": "#506784",
             "linecolor": "#506784",
             "minorgridcolor": "#506784",
             "startlinecolor": "#A2B1C6"
            },
            "type": "carpet"
           }
          ],
          "choropleth": [
           {
            "colorbar": {
             "outlinewidth": 0,
             "ticks": ""
            },
            "type": "choropleth"
           }
          ],
          "contour": [
           {
            "colorbar": {
             "outlinewidth": 0,
             "ticks": ""
            },
            "colorscale": [
             [
              0,
              "#0d0887"
             ],
             [
              0.1111111111111111,
              "#46039f"
             ],
             [
              0.2222222222222222,
              "#7201a8"
             ],
             [
              0.3333333333333333,
              "#9c179e"
             ],
             [
              0.4444444444444444,
              "#bd3786"
             ],
             [
              0.5555555555555556,
              "#d8576b"
             ],
             [
              0.6666666666666666,
              "#ed7953"
             ],
             [
              0.7777777777777778,
              "#fb9f3a"
             ],
             [
              0.8888888888888888,
              "#fdca26"
             ],
             [
              1,
              "#f0f921"
             ]
            ],
            "type": "contour"
           }
          ],
          "contourcarpet": [
           {
            "colorbar": {
             "outlinewidth": 0,
             "ticks": ""
            },
            "type": "contourcarpet"
           }
          ],
          "heatmap": [
           {
            "colorbar": {
             "outlinewidth": 0,
             "ticks": ""
            },
            "colorscale": [
             [
              0,
              "#0d0887"
             ],
             [
              0.1111111111111111,
              "#46039f"
             ],
             [
              0.2222222222222222,
              "#7201a8"
             ],
             [
              0.3333333333333333,
              "#9c179e"
             ],
             [
              0.4444444444444444,
              "#bd3786"
             ],
             [
              0.5555555555555556,
              "#d8576b"
             ],
             [
              0.6666666666666666,
              "#ed7953"
             ],
             [
              0.7777777777777778,
              "#fb9f3a"
             ],
             [
              0.8888888888888888,
              "#fdca26"
             ],
             [
              1,
              "#f0f921"
             ]
            ],
            "type": "heatmap"
           }
          ],
          "histogram": [
           {
            "marker": {
             "pattern": {
              "fillmode": "overlay",
              "size": 10,
              "solidity": 0.2
             }
            },
            "type": "histogram"
           }
          ],
          "histogram2d": [
           {
            "colorbar": {
             "outlinewidth": 0,
             "ticks": ""
            },
            "colorscale": [
             [
              0,
              "#0d0887"
             ],
             [
              0.1111111111111111,
              "#46039f"
             ],
             [
              0.2222222222222222,
              "#7201a8"
             ],
             [
              0.3333333333333333,
              "#9c179e"
             ],
             [
              0.4444444444444444,
              "#bd3786"
             ],
             [
              0.5555555555555556,
              "#d8576b"
             ],
             [
              0.6666666666666666,
              "#ed7953"
             ],
             [
              0.7777777777777778,
              "#fb9f3a"
             ],
             [
              0.8888888888888888,
              "#fdca26"
             ],
             [
              1,
              "#f0f921"
             ]
            ],
            "type": "histogram2d"
           }
          ],
          "histogram2dcontour": [
           {
            "colorbar": {
             "outlinewidth": 0,
             "ticks": ""
            },
            "colorscale": [
             [
              0,
              "#0d0887"
             ],
             [
              0.1111111111111111,
              "#46039f"
             ],
             [
              0.2222222222222222,
              "#7201a8"
             ],
             [
              0.3333333333333333,
              "#9c179e"
             ],
             [
              0.4444444444444444,
              "#bd3786"
             ],
             [
              0.5555555555555556,
              "#d8576b"
             ],
             [
              0.6666666666666666,
              "#ed7953"
             ],
             [
              0.7777777777777778,
              "#fb9f3a"
             ],
             [
              0.8888888888888888,
              "#fdca26"
             ],
             [
              1,
              "#f0f921"
             ]
            ],
            "type": "histogram2dcontour"
           }
          ],
          "mesh3d": [
           {
            "colorbar": {
             "outlinewidth": 0,
             "ticks": ""
            },
            "type": "mesh3d"
           }
          ],
          "parcoords": [
           {
            "line": {
             "colorbar": {
              "outlinewidth": 0,
              "ticks": ""
             }
            },
            "type": "parcoords"
           }
          ],
          "pie": [
           {
            "automargin": true,
            "type": "pie"
           }
          ],
          "scatter": [
           {
            "marker": {
             "line": {
              "color": "#283442"
             }
            },
            "type": "scatter"
           }
          ],
          "scatter3d": [
           {
            "line": {
             "colorbar": {
              "outlinewidth": 0,
              "ticks": ""
             }
            },
            "marker": {
             "colorbar": {
              "outlinewidth": 0,
              "ticks": ""
             }
            },
            "type": "scatter3d"
           }
          ],
          "scattercarpet": [
           {
            "marker": {
             "colorbar": {
              "outlinewidth": 0,
              "ticks": ""
             }
            },
            "type": "scattercarpet"
           }
          ],
          "scattergeo": [
           {
            "marker": {
             "colorbar": {
              "outlinewidth": 0,
              "ticks": ""
             }
            },
            "type": "scattergeo"
           }
          ],
          "scattergl": [
           {
            "marker": {
             "line": {
              "color": "#283442"
             }
            },
            "type": "scattergl"
           }
          ],
          "scattermap": [
           {
            "marker": {
             "colorbar": {
              "outlinewidth": 0,
              "ticks": ""
             }
            },
            "type": "scattermap"
           }
          ],
          "scattermapbox": [
           {
            "marker": {
             "colorbar": {
              "outlinewidth": 0,
              "ticks": ""
             }
            },
            "type": "scattermapbox"
           }
          ],
          "scatterpolar": [
           {
            "marker": {
             "colorbar": {
              "outlinewidth": 0,
              "ticks": ""
             }
            },
            "type": "scatterpolar"
           }
          ],
          "scatterpolargl": [
           {
            "marker": {
             "colorbar": {
              "outlinewidth": 0,
              "ticks": ""
             }
            },
            "type": "scatterpolargl"
           }
          ],
          "scatterternary": [
           {
            "marker": {
             "colorbar": {
              "outlinewidth": 0,
              "ticks": ""
             }
            },
            "type": "scatterternary"
           }
          ],
          "surface": [
           {
            "colorbar": {
             "outlinewidth": 0,
             "ticks": ""
            },
            "colorscale": [
             [
              0,
              "#0d0887"
             ],
             [
              0.1111111111111111,
              "#46039f"
             ],
             [
              0.2222222222222222,
              "#7201a8"
             ],
             [
              0.3333333333333333,
              "#9c179e"
             ],
             [
              0.4444444444444444,
              "#bd3786"
             ],
             [
              0.5555555555555556,
              "#d8576b"
             ],
             [
              0.6666666666666666,
              "#ed7953"
             ],
             [
              0.7777777777777778,
              "#fb9f3a"
             ],
             [
              0.8888888888888888,
              "#fdca26"
             ],
             [
              1,
              "#f0f921"
             ]
            ],
            "type": "surface"
           }
          ],
          "table": [
           {
            "cells": {
             "fill": {
              "color": "#506784"
             },
             "line": {
              "color": "rgb(17,17,17)"
             }
            },
            "header": {
             "fill": {
              "color": "#2a3f5f"
             },
             "line": {
              "color": "rgb(17,17,17)"
             }
            },
            "type": "table"
           }
          ]
         },
         "layout": {
          "annotationdefaults": {
           "arrowcolor": "#f2f5fa",
           "arrowhead": 0,
           "arrowwidth": 1
          },
          "autotypenumbers": "strict",
          "coloraxis": {
           "colorbar": {
            "outlinewidth": 0,
            "ticks": ""
           }
          },
          "colorscale": {
           "diverging": [
            [
             0,
             "#8e0152"
            ],
            [
             0.1,
             "#c51b7d"
            ],
            [
             0.2,
             "#de77ae"
            ],
            [
             0.3,
             "#f1b6da"
            ],
            [
             0.4,
             "#fde0ef"
            ],
            [
             0.5,
             "#f7f7f7"
            ],
            [
             0.6,
             "#e6f5d0"
            ],
            [
             0.7,
             "#b8e186"
            ],
            [
             0.8,
             "#7fbc41"
            ],
            [
             0.9,
             "#4d9221"
            ],
            [
             1,
             "#276419"
            ]
           ],
           "sequential": [
            [
             0,
             "#0d0887"
            ],
            [
             0.1111111111111111,
             "#46039f"
            ],
            [
             0.2222222222222222,
             "#7201a8"
            ],
            [
             0.3333333333333333,
             "#9c179e"
            ],
            [
             0.4444444444444444,
             "#bd3786"
            ],
            [
             0.5555555555555556,
             "#d8576b"
            ],
            [
             0.6666666666666666,
             "#ed7953"
            ],
            [
             0.7777777777777778,
             "#fb9f3a"
            ],
            [
             0.8888888888888888,
             "#fdca26"
            ],
            [
             1,
             "#f0f921"
            ]
           ],
           "sequentialminus": [
            [
             0,
             "#0d0887"
            ],
            [
             0.1111111111111111,
             "#46039f"
            ],
            [
             0.2222222222222222,
             "#7201a8"
            ],
            [
             0.3333333333333333,
             "#9c179e"
            ],
            [
             0.4444444444444444,
             "#bd3786"
            ],
            [
             0.5555555555555556,
             "#d8576b"
            ],
            [
             0.6666666666666666,
             "#ed7953"
            ],
            [
             0.7777777777777778,
             "#fb9f3a"
            ],
            [
             0.8888888888888888,
             "#fdca26"
            ],
            [
             1,
             "#f0f921"
            ]
           ]
          },
          "colorway": [
           "#636efa",
           "#EF553B",
           "#00cc96",
           "#ab63fa",
           "#FFA15A",
           "#19d3f3",
           "#FF6692",
           "#B6E880",
           "#FF97FF",
           "#FECB52"
          ],
          "font": {
           "color": "#f2f5fa"
          },
          "geo": {
           "bgcolor": "rgb(17,17,17)",
           "lakecolor": "rgb(17,17,17)",
           "landcolor": "rgb(17,17,17)",
           "showlakes": true,
           "showland": true,
           "subunitcolor": "#506784"
          },
          "hoverlabel": {
           "align": "left"
          },
          "hovermode": "closest",
          "mapbox": {
           "style": "dark"
          },
          "paper_bgcolor": "rgb(17,17,17)",
          "plot_bgcolor": "rgb(17,17,17)",
          "polar": {
           "angularaxis": {
            "gridcolor": "#506784",
            "linecolor": "#506784",
            "ticks": ""
           },
           "bgcolor": "rgb(17,17,17)",
           "radialaxis": {
            "gridcolor": "#506784",
            "linecolor": "#506784",
            "ticks": ""
           }
          },
          "scene": {
           "xaxis": {
            "backgroundcolor": "rgb(17,17,17)",
            "gridcolor": "#506784",
            "gridwidth": 2,
            "linecolor": "#506784",
            "showbackground": true,
            "ticks": "",
            "zerolinecolor": "#C8D4E3"
           },
           "yaxis": {
            "backgroundcolor": "rgb(17,17,17)",
            "gridcolor": "#506784",
            "gridwidth": 2,
            "linecolor": "#506784",
            "showbackground": true,
            "ticks": "",
            "zerolinecolor": "#C8D4E3"
           },
           "zaxis": {
            "backgroundcolor": "rgb(17,17,17)",
            "gridcolor": "#506784",
            "gridwidth": 2,
            "linecolor": "#506784",
            "showbackground": true,
            "ticks": "",
            "zerolinecolor": "#C8D4E3"
           }
          },
          "shapedefaults": {
           "line": {
            "color": "#f2f5fa"
           }
          },
          "sliderdefaults": {
           "bgcolor": "#C8D4E3",
           "bordercolor": "rgb(17,17,17)",
           "borderwidth": 1,
           "tickwidth": 0
          },
          "ternary": {
           "aaxis": {
            "gridcolor": "#506784",
            "linecolor": "#506784",
            "ticks": ""
           },
           "baxis": {
            "gridcolor": "#506784",
            "linecolor": "#506784",
            "ticks": ""
           },
           "bgcolor": "rgb(17,17,17)",
           "caxis": {
            "gridcolor": "#506784",
            "linecolor": "#506784",
            "ticks": ""
           }
          },
          "title": {
           "x": 0.05
          },
          "updatemenudefaults": {
           "bgcolor": "#506784",
           "borderwidth": 0
          },
          "xaxis": {
           "automargin": true,
           "gridcolor": "#283442",
           "linecolor": "#506784",
           "ticks": "",
           "title": {
            "standoff": 15
           },
           "zerolinecolor": "#283442",
           "zerolinewidth": 2
          },
          "yaxis": {
           "automargin": true,
           "gridcolor": "#283442",
           "linecolor": "#506784",
           "ticks": "",
           "title": {
            "standoff": 15
           },
           "zerolinecolor": "#283442",
           "zerolinewidth": 2
          }
         }
        },
        "title": {
         "text": "Heavy network: Requests/sec (total)"
        },
        "uniformtext": {
         "minsize": 10,
         "mode": "hide"
        },
        "xaxis": {
         "anchor": "y",
         "categoryarray": [
          "Dash",
          "Flash"
         ],
         "categoryorder": "array",
         "domain": [
          0,
          1
         ],
         "title": {
          "text": "Framework"
         }
        },
        "yaxis": {
         "anchor": "x",
         "domain": [
          0,
          1
         ],
         "tickformat": ".2f",
         "title": {
          "text": "Requests/sec"
         }
        }
       }
      }
     },
     "metadata": {},
     "output_type": "display_data"
    },
    {
     "data": {
      "application/vnd.plotly.v1+json": {
       "config": {
        "plotlyServerURL": "https://plot.ly"
       },
       "data": [
        {
         "cliponaxis": false,
         "hovertemplate": "Framework=%{x}<br>Requests/sec=%{y}<br>text=%{text}<extra></extra>",
         "legendgroup": "Dash",
         "marker": {
          "color": "#636EFA",
          "pattern": {
           "shape": ""
          }
         },
         "name": "Dash",
         "orientation": "v",
         "showlegend": true,
         "text": [
          "4.149"
         ],
         "textposition": "outside",
         "type": "bar",
         "x": [
          "Dash"
         ],
         "xaxis": "x",
         "y": {
          "bdata": "25wnFHiYEEA=",
          "dtype": "f8"
         },
         "yaxis": "y"
        },
        {
         "cliponaxis": false,
         "hovertemplate": "Framework=%{x}<br>Requests/sec=%{y}<br>text=%{text}<extra></extra>",
         "legendgroup": "Flash",
         "marker": {
          "color": "#EF553B",
          "pattern": {
           "shape": ""
          }
         },
         "name": "Flash",
         "orientation": "v",
         "showlegend": true,
         "text": [
          "4.700"
         ],
         "textposition": "outside",
         "type": "bar",
         "x": [
          "Flash"
         ],
         "xaxis": "x",
         "y": {
          "bdata": "uHLpxv3MEkA=",
          "dtype": "f8"
         },
         "yaxis": "y"
        }
       ],
       "layout": {
        "barmode": "relative",
        "legend": {
         "title": {
          "text": "Framework"
         },
         "tracegroupgap": 0
        },
        "showlegend": false,
        "template": {
         "data": {
          "bar": [
           {
            "error_x": {
             "color": "#f2f5fa"
            },
            "error_y": {
             "color": "#f2f5fa"
            },
            "marker": {
             "line": {
              "color": "rgb(17,17,17)",
              "width": 0.5
             },
             "pattern": {
              "fillmode": "overlay",
              "size": 10,
              "solidity": 0.2
             }
            },
            "type": "bar"
           }
          ],
          "barpolar": [
           {
            "marker": {
             "line": {
              "color": "rgb(17,17,17)",
              "width": 0.5
             },
             "pattern": {
              "fillmode": "overlay",
              "size": 10,
              "solidity": 0.2
             }
            },
            "type": "barpolar"
           }
          ],
          "carpet": [
           {
            "aaxis": {
             "endlinecolor": "#A2B1C6",
             "gridcolor": "#506784",
             "linecolor": "#506784",
             "minorgridcolor": "#506784",
             "startlinecolor": "#A2B1C6"
            },
            "baxis": {
             "endlinecolor": "#A2B1C6",
             "gridcolor": "#506784",
             "linecolor": "#506784",
             "minorgridcolor": "#506784",
             "startlinecolor": "#A2B1C6"
            },
            "type": "carpet"
           }
          ],
          "choropleth": [
           {
            "colorbar": {
             "outlinewidth": 0,
             "ticks": ""
            },
            "type": "choropleth"
           }
          ],
          "contour": [
           {
            "colorbar": {
             "outlinewidth": 0,
             "ticks": ""
            },
            "colorscale": [
             [
              0,
              "#0d0887"
             ],
             [
              0.1111111111111111,
              "#46039f"
             ],
             [
              0.2222222222222222,
              "#7201a8"
             ],
             [
              0.3333333333333333,
              "#9c179e"
             ],
             [
              0.4444444444444444,
              "#bd3786"
             ],
             [
              0.5555555555555556,
              "#d8576b"
             ],
             [
              0.6666666666666666,
              "#ed7953"
             ],
             [
              0.7777777777777778,
              "#fb9f3a"
             ],
             [
              0.8888888888888888,
              "#fdca26"
             ],
             [
              1,
              "#f0f921"
             ]
            ],
            "type": "contour"
           }
          ],
          "contourcarpet": [
           {
            "colorbar": {
             "outlinewidth": 0,
             "ticks": ""
            },
            "type": "contourcarpet"
           }
          ],
          "heatmap": [
           {
            "colorbar": {
             "outlinewidth": 0,
             "ticks": ""
            },
            "colorscale": [
             [
              0,
              "#0d0887"
             ],
             [
              0.1111111111111111,
              "#46039f"
             ],
             [
              0.2222222222222222,
              "#7201a8"
             ],
             [
              0.3333333333333333,
              "#9c179e"
             ],
             [
              0.4444444444444444,
              "#bd3786"
             ],
             [
              0.5555555555555556,
              "#d8576b"
             ],
             [
              0.6666666666666666,
              "#ed7953"
             ],
             [
              0.7777777777777778,
              "#fb9f3a"
             ],
             [
              0.8888888888888888,
              "#fdca26"
             ],
             [
              1,
              "#f0f921"
             ]
            ],
            "type": "heatmap"
           }
          ],
          "histogram": [
           {
            "marker": {
             "pattern": {
              "fillmode": "overlay",
              "size": 10,
              "solidity": 0.2
             }
            },
            "type": "histogram"
           }
          ],
          "histogram2d": [
           {
            "colorbar": {
             "outlinewidth": 0,
             "ticks": ""
            },
            "colorscale": [
             [
              0,
              "#0d0887"
             ],
             [
              0.1111111111111111,
              "#46039f"
             ],
             [
              0.2222222222222222,
              "#7201a8"
             ],
             [
              0.3333333333333333,
              "#9c179e"
             ],
             [
              0.4444444444444444,
              "#bd3786"
             ],
             [
              0.5555555555555556,
              "#d8576b"
             ],
             [
              0.6666666666666666,
              "#ed7953"
             ],
             [
              0.7777777777777778,
              "#fb9f3a"
             ],
             [
              0.8888888888888888,
              "#fdca26"
             ],
             [
              1,
              "#f0f921"
             ]
            ],
            "type": "histogram2d"
           }
          ],
          "histogram2dcontour": [
           {
            "colorbar": {
             "outlinewidth": 0,
             "ticks": ""
            },
            "colorscale": [
             [
              0,
              "#0d0887"
             ],
             [
              0.1111111111111111,
              "#46039f"
             ],
             [
              0.2222222222222222,
              "#7201a8"
             ],
             [
              0.3333333333333333,
              "#9c179e"
             ],
             [
              0.4444444444444444,
              "#bd3786"
             ],
             [
              0.5555555555555556,
              "#d8576b"
             ],
             [
              0.6666666666666666,
              "#ed7953"
             ],
             [
              0.7777777777777778,
              "#fb9f3a"
             ],
             [
              0.8888888888888888,
              "#fdca26"
             ],
             [
              1,
              "#f0f921"
             ]
            ],
            "type": "histogram2dcontour"
           }
          ],
          "mesh3d": [
           {
            "colorbar": {
             "outlinewidth": 0,
             "ticks": ""
            },
            "type": "mesh3d"
           }
          ],
          "parcoords": [
           {
            "line": {
             "colorbar": {
              "outlinewidth": 0,
              "ticks": ""
             }
            },
            "type": "parcoords"
           }
          ],
          "pie": [
           {
            "automargin": true,
            "type": "pie"
           }
          ],
          "scatter": [
           {
            "marker": {
             "line": {
              "color": "#283442"
             }
            },
            "type": "scatter"
           }
          ],
          "scatter3d": [
           {
            "line": {
             "colorbar": {
              "outlinewidth": 0,
              "ticks": ""
             }
            },
            "marker": {
             "colorbar": {
              "outlinewidth": 0,
              "ticks": ""
             }
            },
            "type": "scatter3d"
           }
          ],
          "scattercarpet": [
           {
            "marker": {
             "colorbar": {
              "outlinewidth": 0,
              "ticks": ""
             }
            },
            "type": "scattercarpet"
           }
          ],
          "scattergeo": [
           {
            "marker": {
             "colorbar": {
              "outlinewidth": 0,
              "ticks": ""
             }
            },
            "type": "scattergeo"
           }
          ],
          "scattergl": [
           {
            "marker": {
             "line": {
              "color": "#283442"
             }
            },
            "type": "scattergl"
           }
          ],
          "scattermap": [
           {
            "marker": {
             "colorbar": {
              "outlinewidth": 0,
              "ticks": ""
             }
            },
            "type": "scattermap"
           }
          ],
          "scattermapbox": [
           {
            "marker": {
             "colorbar": {
              "outlinewidth": 0,
              "ticks": ""
             }
            },
            "type": "scattermapbox"
           }
          ],
          "scatterpolar": [
           {
            "marker": {
             "colorbar": {
              "outlinewidth": 0,
              "ticks": ""
             }
            },
            "type": "scatterpolar"
           }
          ],
          "scatterpolargl": [
           {
            "marker": {
             "colorbar": {
              "outlinewidth": 0,
              "ticks": ""
             }
            },
            "type": "scatterpolargl"
           }
          ],
          "scatterternary": [
           {
            "marker": {
             "colorbar": {
              "outlinewidth": 0,
              "ticks": ""
             }
            },
            "type": "scatterternary"
           }
          ],
          "surface": [
           {
            "colorbar": {
             "outlinewidth": 0,
             "ticks": ""
            },
            "colorscale": [
             [
              0,
              "#0d0887"
             ],
             [
              0.1111111111111111,
              "#46039f"
             ],
             [
              0.2222222222222222,
              "#7201a8"
             ],
             [
              0.3333333333333333,
              "#9c179e"
             ],
             [
              0.4444444444444444,
              "#bd3786"
             ],
             [
              0.5555555555555556,
              "#d8576b"
             ],
             [
              0.6666666666666666,
              "#ed7953"
             ],
             [
              0.7777777777777778,
              "#fb9f3a"
             ],
             [
              0.8888888888888888,
              "#fdca26"
             ],
             [
              1,
              "#f0f921"
             ]
            ],
            "type": "surface"
           }
          ],
          "table": [
           {
            "cells": {
             "fill": {
              "color": "#506784"
             },
             "line": {
              "color": "rgb(17,17,17)"
             }
            },
            "header": {
             "fill": {
              "color": "#2a3f5f"
             },
             "line": {
              "color": "rgb(17,17,17)"
             }
            },
            "type": "table"
           }
          ]
         },
         "layout": {
          "annotationdefaults": {
           "arrowcolor": "#f2f5fa",
           "arrowhead": 0,
           "arrowwidth": 1
          },
          "autotypenumbers": "strict",
          "coloraxis": {
           "colorbar": {
            "outlinewidth": 0,
            "ticks": ""
           }
          },
          "colorscale": {
           "diverging": [
            [
             0,
             "#8e0152"
            ],
            [
             0.1,
             "#c51b7d"
            ],
            [
             0.2,
             "#de77ae"
            ],
            [
             0.3,
             "#f1b6da"
            ],
            [
             0.4,
             "#fde0ef"
            ],
            [
             0.5,
             "#f7f7f7"
            ],
            [
             0.6,
             "#e6f5d0"
            ],
            [
             0.7,
             "#b8e186"
            ],
            [
             0.8,
             "#7fbc41"
            ],
            [
             0.9,
             "#4d9221"
            ],
            [
             1,
             "#276419"
            ]
           ],
           "sequential": [
            [
             0,
             "#0d0887"
            ],
            [
             0.1111111111111111,
             "#46039f"
            ],
            [
             0.2222222222222222,
             "#7201a8"
            ],
            [
             0.3333333333333333,
             "#9c179e"
            ],
            [
             0.4444444444444444,
             "#bd3786"
            ],
            [
             0.5555555555555556,
             "#d8576b"
            ],
            [
             0.6666666666666666,
             "#ed7953"
            ],
            [
             0.7777777777777778,
             "#fb9f3a"
            ],
            [
             0.8888888888888888,
             "#fdca26"
            ],
            [
             1,
             "#f0f921"
            ]
           ],
           "sequentialminus": [
            [
             0,
             "#0d0887"
            ],
            [
             0.1111111111111111,
             "#46039f"
            ],
            [
             0.2222222222222222,
             "#7201a8"
            ],
            [
             0.3333333333333333,
             "#9c179e"
            ],
            [
             0.4444444444444444,
             "#bd3786"
            ],
            [
             0.5555555555555556,
             "#d8576b"
            ],
            [
             0.6666666666666666,
             "#ed7953"
            ],
            [
             0.7777777777777778,
             "#fb9f3a"
            ],
            [
             0.8888888888888888,
             "#fdca26"
            ],
            [
             1,
             "#f0f921"
            ]
           ]
          },
          "colorway": [
           "#636efa",
           "#EF553B",
           "#00cc96",
           "#ab63fa",
           "#FFA15A",
           "#19d3f3",
           "#FF6692",
           "#B6E880",
           "#FF97FF",
           "#FECB52"
          ],
          "font": {
           "color": "#f2f5fa"
          },
          "geo": {
           "bgcolor": "rgb(17,17,17)",
           "lakecolor": "rgb(17,17,17)",
           "landcolor": "rgb(17,17,17)",
           "showlakes": true,
           "showland": true,
           "subunitcolor": "#506784"
          },
          "hoverlabel": {
           "align": "left"
          },
          "hovermode": "closest",
          "mapbox": {
           "style": "dark"
          },
          "paper_bgcolor": "rgb(17,17,17)",
          "plot_bgcolor": "rgb(17,17,17)",
          "polar": {
           "angularaxis": {
            "gridcolor": "#506784",
            "linecolor": "#506784",
            "ticks": ""
           },
           "bgcolor": "rgb(17,17,17)",
           "radialaxis": {
            "gridcolor": "#506784",
            "linecolor": "#506784",
            "ticks": ""
           }
          },
          "scene": {
           "xaxis": {
            "backgroundcolor": "rgb(17,17,17)",
            "gridcolor": "#506784",
            "gridwidth": 2,
            "linecolor": "#506784",
            "showbackground": true,
            "ticks": "",
            "zerolinecolor": "#C8D4E3"
           },
           "yaxis": {
            "backgroundcolor": "rgb(17,17,17)",
            "gridcolor": "#506784",
            "gridwidth": 2,
            "linecolor": "#506784",
            "showbackground": true,
            "ticks": "",
            "zerolinecolor": "#C8D4E3"
           },
           "zaxis": {
            "backgroundcolor": "rgb(17,17,17)",
            "gridcolor": "#506784",
            "gridwidth": 2,
            "linecolor": "#506784",
            "showbackground": true,
            "ticks": "",
            "zerolinecolor": "#C8D4E3"
           }
          },
          "shapedefaults": {
           "line": {
            "color": "#f2f5fa"
           }
          },
          "sliderdefaults": {
           "bgcolor": "#C8D4E3",
           "bordercolor": "rgb(17,17,17)",
           "borderwidth": 1,
           "tickwidth": 0
          },
          "ternary": {
           "aaxis": {
            "gridcolor": "#506784",
            "linecolor": "#506784",
            "ticks": ""
           },
           "baxis": {
            "gridcolor": "#506784",
            "linecolor": "#506784",
            "ticks": ""
           },
           "bgcolor": "rgb(17,17,17)",
           "caxis": {
            "gridcolor": "#506784",
            "linecolor": "#506784",
            "ticks": ""
           }
          },
          "title": {
           "x": 0.05
          },
          "updatemenudefaults": {
           "bgcolor": "#506784",
           "borderwidth": 0
          },
          "xaxis": {
           "automargin": true,
           "gridcolor": "#283442",
           "linecolor": "#506784",
           "ticks": "",
           "title": {
            "standoff": 15
           },
           "zerolinecolor": "#283442",
           "zerolinewidth": 2
          },
          "yaxis": {
           "automargin": true,
           "gridcolor": "#283442",
           "linecolor": "#506784",
           "ticks": "",
           "title": {
            "standoff": 15
           },
           "zerolinecolor": "#283442",
           "zerolinewidth": 2
          }
         }
        },
        "title": {
         "text": "CPU bound: Requests/sec (total)"
        },
        "uniformtext": {
         "minsize": 10,
         "mode": "hide"
        },
        "xaxis": {
         "anchor": "y",
         "categoryarray": [
          "Dash",
          "Flash"
         ],
         "categoryorder": "array",
         "domain": [
          0,
          1
         ],
         "title": {
          "text": "Framework"
         }
        },
        "yaxis": {
         "anchor": "x",
         "domain": [
          0,
          1
         ],
         "tickformat": ".2f",
         "title": {
          "text": "Requests/sec"
         }
        }
       }
      }
     },
     "metadata": {},
     "output_type": "display_data"
    },
    {
     "data": {
      "application/vnd.plotly.v1+json": {
       "config": {
        "plotlyServerURL": "https://plot.ly"
       },
       "data": [
        {
         "cliponaxis": false,
         "hovertemplate": "Framework=%{x}<br>Requests/sec=%{y}<br>text=%{text}<extra></extra>",
         "legendgroup": "Dash",
         "marker": {
          "color": "#636EFA",
          "pattern": {
           "shape": ""
          }
         },
         "name": "Dash",
         "orientation": "v",
         "showlegend": true,
         "text": [
          "3.176"
         ],
         "textposition": "outside",
         "type": "bar",
         "x": [
          "Dash"
         ],
         "xaxis": "x",
         "y": {
          "bdata": "UGcHr1poCUA=",
          "dtype": "f8"
         },
         "yaxis": "y"
        },
        {
         "cliponaxis": false,
         "hovertemplate": "Framework=%{x}<br>Requests/sec=%{y}<br>text=%{text}<extra></extra>",
         "legendgroup": "Flash",
         "marker": {
          "color": "#EF553B",
          "pattern": {
           "shape": ""
          }
         },
         "name": "Flash",
         "orientation": "v",
         "showlegend": true,
         "text": [
          "4.603"
         ],
         "textposition": "outside",
         "type": "bar",
         "x": [
          "Flash"
         ],
         "xaxis": "x",
         "y": {
          "bdata": "ogJaf3lpEkA=",
          "dtype": "f8"
         },
         "yaxis": "y"
        }
       ],
       "layout": {
        "barmode": "relative",
        "legend": {
         "title": {
          "text": "Framework"
         },
         "tracegroupgap": 0
        },
        "showlegend": false,
        "template": {
         "data": {
          "bar": [
           {
            "error_x": {
             "color": "#f2f5fa"
            },
            "error_y": {
             "color": "#f2f5fa"
            },
            "marker": {
             "line": {
              "color": "rgb(17,17,17)",
              "width": 0.5
             },
             "pattern": {
              "fillmode": "overlay",
              "size": 10,
              "solidity": 0.2
             }
            },
            "type": "bar"
           }
          ],
          "barpolar": [
           {
            "marker": {
             "line": {
              "color": "rgb(17,17,17)",
              "width": 0.5
             },
             "pattern": {
              "fillmode": "overlay",
              "size": 10,
              "solidity": 0.2
             }
            },
            "type": "barpolar"
           }
          ],
          "carpet": [
           {
            "aaxis": {
             "endlinecolor": "#A2B1C6",
             "gridcolor": "#506784",
             "linecolor": "#506784",
             "minorgridcolor": "#506784",
             "startlinecolor": "#A2B1C6"
            },
            "baxis": {
             "endlinecolor": "#A2B1C6",
             "gridcolor": "#506784",
             "linecolor": "#506784",
             "minorgridcolor": "#506784",
             "startlinecolor": "#A2B1C6"
            },
            "type": "carpet"
           }
          ],
          "choropleth": [
           {
            "colorbar": {
             "outlinewidth": 0,
             "ticks": ""
            },
            "type": "choropleth"
           }
          ],
          "contour": [
           {
            "colorbar": {
             "outlinewidth": 0,
             "ticks": ""
            },
            "colorscale": [
             [
              0,
              "#0d0887"
             ],
             [
              0.1111111111111111,
              "#46039f"
             ],
             [
              0.2222222222222222,
              "#7201a8"
             ],
             [
              0.3333333333333333,
              "#9c179e"
             ],
             [
              0.4444444444444444,
              "#bd3786"
             ],
             [
              0.5555555555555556,
              "#d8576b"
             ],
             [
              0.6666666666666666,
              "#ed7953"
             ],
             [
              0.7777777777777778,
              "#fb9f3a"
             ],
             [
              0.8888888888888888,
              "#fdca26"
             ],
             [
              1,
              "#f0f921"
             ]
            ],
            "type": "contour"
           }
          ],
          "contourcarpet": [
           {
            "colorbar": {
             "outlinewidth": 0,
             "ticks": ""
            },
            "type": "contourcarpet"
           }
          ],
          "heatmap": [
           {
            "colorbar": {
             "outlinewidth": 0,
             "ticks": ""
            },
            "colorscale": [
             [
              0,
              "#0d0887"
             ],
             [
              0.1111111111111111,
              "#46039f"
             ],
             [
              0.2222222222222222,
              "#7201a8"
             ],
             [
              0.3333333333333333,
              "#9c179e"
             ],
             [
              0.4444444444444444,
              "#bd3786"
             ],
             [
              0.5555555555555556,
              "#d8576b"
             ],
             [
              0.6666666666666666,
              "#ed7953"
             ],
             [
              0.7777777777777778,
              "#fb9f3a"
             ],
             [
              0.8888888888888888,
              "#fdca26"
             ],
             [
              1,
              "#f0f921"
             ]
            ],
            "type": "heatmap"
           }
          ],
          "histogram": [
           {
            "marker": {
             "pattern": {
              "fillmode": "overlay",
              "size": 10,
              "solidity": 0.2
             }
            },
            "type": "histogram"
           }
          ],
          "histogram2d": [
           {
            "colorbar": {
             "outlinewidth": 0,
             "ticks": ""
            },
            "colorscale": [
             [
              0,
              "#0d0887"
             ],
             [
              0.1111111111111111,
              "#46039f"
             ],
             [
              0.2222222222222222,
              "#7201a8"
             ],
             [
              0.3333333333333333,
              "#9c179e"
             ],
             [
              0.4444444444444444,
              "#bd3786"
             ],
             [
              0.5555555555555556,
              "#d8576b"
             ],
             [
              0.6666666666666666,
              "#ed7953"
             ],
             [
              0.7777777777777778,
              "#fb9f3a"
             ],
             [
              0.8888888888888888,
              "#fdca26"
             ],
             [
              1,
              "#f0f921"
             ]
            ],
            "type": "histogram2d"
           }
          ],
          "histogram2dcontour": [
           {
            "colorbar": {
             "outlinewidth": 0,
             "ticks": ""
            },
            "colorscale": [
             [
              0,
              "#0d0887"
             ],
             [
              0.1111111111111111,
              "#46039f"
             ],
             [
              0.2222222222222222,
              "#7201a8"
             ],
             [
              0.3333333333333333,
              "#9c179e"
             ],
             [
              0.4444444444444444,
              "#bd3786"
             ],
             [
              0.5555555555555556,
              "#d8576b"
             ],
             [
              0.6666666666666666,
              "#ed7953"
             ],
             [
              0.7777777777777778,
              "#fb9f3a"
             ],
             [
              0.8888888888888888,
              "#fdca26"
             ],
             [
              1,
              "#f0f921"
             ]
            ],
            "type": "histogram2dcontour"
           }
          ],
          "mesh3d": [
           {
            "colorbar": {
             "outlinewidth": 0,
             "ticks": ""
            },
            "type": "mesh3d"
           }
          ],
          "parcoords": [
           {
            "line": {
             "colorbar": {
              "outlinewidth": 0,
              "ticks": ""
             }
            },
            "type": "parcoords"
           }
          ],
          "pie": [
           {
            "automargin": true,
            "type": "pie"
           }
          ],
          "scatter": [
           {
            "marker": {
             "line": {
              "color": "#283442"
             }
            },
            "type": "scatter"
           }
          ],
          "scatter3d": [
           {
            "line": {
             "colorbar": {
              "outlinewidth": 0,
              "ticks": ""
             }
            },
            "marker": {
             "colorbar": {
              "outlinewidth": 0,
              "ticks": ""
             }
            },
            "type": "scatter3d"
           }
          ],
          "scattercarpet": [
           {
            "marker": {
             "colorbar": {
              "outlinewidth": 0,
              "ticks": ""
             }
            },
            "type": "scattercarpet"
           }
          ],
          "scattergeo": [
           {
            "marker": {
             "colorbar": {
              "outlinewidth": 0,
              "ticks": ""
             }
            },
            "type": "scattergeo"
           }
          ],
          "scattergl": [
           {
            "marker": {
             "line": {
              "color": "#283442"
             }
            },
            "type": "scattergl"
           }
          ],
          "scattermap": [
           {
            "marker": {
             "colorbar": {
              "outlinewidth": 0,
              "ticks": ""
             }
            },
            "type": "scattermap"
           }
          ],
          "scattermapbox": [
           {
            "marker": {
             "colorbar": {
              "outlinewidth": 0,
              "ticks": ""
             }
            },
            "type": "scattermapbox"
           }
          ],
          "scatterpolar": [
           {
            "marker": {
             "colorbar": {
              "outlinewidth": 0,
              "ticks": ""
             }
            },
            "type": "scatterpolar"
           }
          ],
          "scatterpolargl": [
           {
            "marker": {
             "colorbar": {
              "outlinewidth": 0,
              "ticks": ""
             }
            },
            "type": "scatterpolargl"
           }
          ],
          "scatterternary": [
           {
            "marker": {
             "colorbar": {
              "outlinewidth": 0,
              "ticks": ""
             }
            },
            "type": "scatterternary"
           }
          ],
          "surface": [
           {
            "colorbar": {
             "outlinewidth": 0,
             "ticks": ""
            },
            "colorscale": [
             [
              0,
              "#0d0887"
             ],
             [
              0.1111111111111111,
              "#46039f"
             ],
             [
              0.2222222222222222,
              "#7201a8"
             ],
             [
              0.3333333333333333,
              "#9c179e"
             ],
             [
              0.4444444444444444,
              "#bd3786"
             ],
             [
              0.5555555555555556,
              "#d8576b"
             ],
             [
              0.6666666666666666,
              "#ed7953"
             ],
             [
              0.7777777777777778,
              "#fb9f3a"
             ],
             [
              0.8888888888888888,
              "#fdca26"
             ],
             [
              1,
              "#f0f921"
             ]
            ],
            "type": "surface"
           }
          ],
          "table": [
           {
            "cells": {
             "fill": {
              "color": "#506784"
             },
             "line": {
              "color": "rgb(17,17,17)"
             }
            },
            "header": {
             "fill": {
              "color": "#2a3f5f"
             },
             "line": {
              "color": "rgb(17,17,17)"
             }
            },
            "type": "table"
           }
          ]
         },
         "layout": {
          "annotationdefaults": {
           "arrowcolor": "#f2f5fa",
           "arrowhead": 0,
           "arrowwidth": 1
          },
          "autotypenumbers": "strict",
          "coloraxis": {
           "colorbar": {
            "outlinewidth": 0,
            "ticks": ""
           }
          },
          "colorscale": {
           "diverging": [
            [
             0,
             "#8e0152"
            ],
            [
             0.1,
             "#c51b7d"
            ],
            [
             0.2,
             "#de77ae"
            ],
            [
             0.3,
             "#f1b6da"
            ],
            [
             0.4,
             "#fde0ef"
            ],
            [
             0.5,
             "#f7f7f7"
            ],
            [
             0.6,
             "#e6f5d0"
            ],
            [
             0.7,
             "#b8e186"
            ],
            [
             0.8,
             "#7fbc41"
            ],
            [
             0.9,
             "#4d9221"
            ],
            [
             1,
             "#276419"
            ]
           ],
           "sequential": [
            [
             0,
             "#0d0887"
            ],
            [
             0.1111111111111111,
             "#46039f"
            ],
            [
             0.2222222222222222,
             "#7201a8"
            ],
            [
             0.3333333333333333,
             "#9c179e"
            ],
            [
             0.4444444444444444,
             "#bd3786"
            ],
            [
             0.5555555555555556,
             "#d8576b"
            ],
            [
             0.6666666666666666,
             "#ed7953"
            ],
            [
             0.7777777777777778,
             "#fb9f3a"
            ],
            [
             0.8888888888888888,
             "#fdca26"
            ],
            [
             1,
             "#f0f921"
            ]
           ],
           "sequentialminus": [
            [
             0,
             "#0d0887"
            ],
            [
             0.1111111111111111,
             "#46039f"
            ],
            [
             0.2222222222222222,
             "#7201a8"
            ],
            [
             0.3333333333333333,
             "#9c179e"
            ],
            [
             0.4444444444444444,
             "#bd3786"
            ],
            [
             0.5555555555555556,
             "#d8576b"
            ],
            [
             0.6666666666666666,
             "#ed7953"
            ],
            [
             0.7777777777777778,
             "#fb9f3a"
            ],
            [
             0.8888888888888888,
             "#fdca26"
            ],
            [
             1,
             "#f0f921"
            ]
           ]
          },
          "colorway": [
           "#636efa",
           "#EF553B",
           "#00cc96",
           "#ab63fa",
           "#FFA15A",
           "#19d3f3",
           "#FF6692",
           "#B6E880",
           "#FF97FF",
           "#FECB52"
          ],
          "font": {
           "color": "#f2f5fa"
          },
          "geo": {
           "bgcolor": "rgb(17,17,17)",
           "lakecolor": "rgb(17,17,17)",
           "landcolor": "rgb(17,17,17)",
           "showlakes": true,
           "showland": true,
           "subunitcolor": "#506784"
          },
          "hoverlabel": {
           "align": "left"
          },
          "hovermode": "closest",
          "mapbox": {
           "style": "dark"
          },
          "paper_bgcolor": "rgb(17,17,17)",
          "plot_bgcolor": "rgb(17,17,17)",
          "polar": {
           "angularaxis": {
            "gridcolor": "#506784",
            "linecolor": "#506784",
            "ticks": ""
           },
           "bgcolor": "rgb(17,17,17)",
           "radialaxis": {
            "gridcolor": "#506784",
            "linecolor": "#506784",
            "ticks": ""
           }
          },
          "scene": {
           "xaxis": {
            "backgroundcolor": "rgb(17,17,17)",
            "gridcolor": "#506784",
            "gridwidth": 2,
            "linecolor": "#506784",
            "showbackground": true,
            "ticks": "",
            "zerolinecolor": "#C8D4E3"
           },
           "yaxis": {
            "backgroundcolor": "rgb(17,17,17)",
            "gridcolor": "#506784",
            "gridwidth": 2,
            "linecolor": "#506784",
            "showbackground": true,
            "ticks": "",
            "zerolinecolor": "#C8D4E3"
           },
           "zaxis": {
            "backgroundcolor": "rgb(17,17,17)",
            "gridcolor": "#506784",
            "gridwidth": 2,
            "linecolor": "#506784",
            "showbackground": true,
            "ticks": "",
            "zerolinecolor": "#C8D4E3"
           }
          },
          "shapedefaults": {
           "line": {
            "color": "#f2f5fa"
           }
          },
          "sliderdefaults": {
           "bgcolor": "#C8D4E3",
           "bordercolor": "rgb(17,17,17)",
           "borderwidth": 1,
           "tickwidth": 0
          },
          "ternary": {
           "aaxis": {
            "gridcolor": "#506784",
            "linecolor": "#506784",
            "ticks": ""
           },
           "baxis": {
            "gridcolor": "#506784",
            "linecolor": "#506784",
            "ticks": ""
           },
           "bgcolor": "rgb(17,17,17)",
           "caxis": {
            "gridcolor": "#506784",
            "linecolor": "#506784",
            "ticks": ""
           }
          },
          "title": {
           "x": 0.05
          },
          "updatemenudefaults": {
           "bgcolor": "#506784",
           "borderwidth": 0
          },
          "xaxis": {
           "automargin": true,
           "gridcolor": "#283442",
           "linecolor": "#506784",
           "ticks": "",
           "title": {
            "standoff": 15
           },
           "zerolinecolor": "#283442",
           "zerolinewidth": 2
          },
          "yaxis": {
           "automargin": true,
           "gridcolor": "#283442",
           "linecolor": "#506784",
           "ticks": "",
           "title": {
            "standoff": 15
           },
           "zerolinecolor": "#283442",
           "zerolinewidth": 2
          }
         }
        },
        "title": {
         "text": "CPU bound with SSE: Requests/sec (total)"
        },
        "uniformtext": {
         "minsize": 10,
         "mode": "hide"
        },
        "xaxis": {
         "anchor": "y",
         "categoryarray": [
          "Dash",
          "Flash"
         ],
         "categoryorder": "array",
         "domain": [
          0,
          1
         ],
         "title": {
          "text": "Framework"
         }
        },
        "yaxis": {
         "anchor": "x",
         "domain": [
          0,
          1
         ],
         "tickformat": ".2f",
         "title": {
          "text": "Requests/sec"
         }
        }
       }
      }
     },
     "metadata": {},
     "output_type": "display_data"
    }
   ],
   "source": [
    "# Requests/sec per framework and per scenario (no combined rows) — nicer presentation\n",
    "import pandas as pd\n",
    "import numpy as np\n",
    "import plotly.express as px\n",
    "from IPython.display import display\n",
    "\n",
    "# Reuse COLOR_MAP if defined earlier; else define here\n",
    "try:\n",
    "    COLOR_MAP\n",
    "except NameError:\n",
    "    COLOR_MAP = {'Dash': '#636EFA', 'Flash': '#EF553B'}\n",
    "\n",
    "\n",
    "def calc_rps(df: pd.DataFrame) -> tuple[int, float, float]:\n",
    "    n = len(df)\n",
    "    if 'offset' in df.columns and n > 1:\n",
    "        t_min = float(df['offset'].min())\n",
    "        t_max = float(df['offset'].max())\n",
    "        elapsed = max(1e-9, t_max - t_min)  # avoid divide-by-zero\n",
    "        rps = n / elapsed\n",
    "    else:\n",
    "        elapsed = float('nan')\n",
    "        rps = float('nan')\n",
    "    return n, elapsed, rps\n",
    "\n",
    "rows = []\n",
    "for scenario, (fw1, df1), (fw2, df2) in [\n",
    "    (\"Heavy network\", (\"Dash\", nhv_dash), (\"Flash\", nhv_flash)),\n",
    "    (\"CPU bound\", (\"Dash\", cpu_dash), (\"Flash\", cpu_flash)),\n",
    "    (\"CPU bound with SSE\", (\"Dash\", cpu_w_sse_dash), (\"Flash\", cpu_w_sse_flash)),\n",
    "]:\n",
    "    for fw, df in [(fw1, df1), (fw2, df2)]:\n",
    "        n, elapsed, rps = calc_rps(df)\n",
    "        rows.append({\n",
    "            'scenario': scenario,\n",
    "            'framework': fw,\n",
    "            'total_requests': n,\n",
    "            'elapsed_seconds': elapsed,\n",
    "            'requests_per_sec': rps,\n",
    "        })\n",
    "\n",
    "summary_rps = pd.DataFrame(rows)\n",
    "\n",
    "# Pretty tables per scenario (pandas-version compatible index hiding)\n",
    "\n",
    "def pretty_table(df: pd.DataFrame, title: str):\n",
    "    d = df.copy()\n",
    "    d['elapsed_seconds'] = d['elapsed_seconds'].round(2)\n",
    "    d['requests_per_sec'] = d['requests_per_sec'].round(4)\n",
    "    styler = (\n",
    "        d[['framework', 'total_requests', 'elapsed_seconds', 'requests_per_sec']]\n",
    "        .rename(columns={\n",
    "            'total_requests': 'requests',\n",
    "            'elapsed_seconds': 'elapsed (s)',\n",
    "            'requests_per_sec': 'req/s',\n",
    "        })\n",
    "        .style\n",
    "        .set_caption(title)\n",
    "        .background_gradient(subset=['req/s'], cmap='Blues')\n",
    "        .set_properties(**{'font-size': '12pt'})\n",
    "    )\n",
    "    # Try hide/hide_index if available; else CSS fallback\n",
    "    try:\n",
    "        if hasattr(styler, 'hide_index'):\n",
    "            styler = styler.hide_index()\n",
    "        elif hasattr(styler, 'hide'):\n",
    "            styler = styler.hide(axis='index')\n",
    "        else:\n",
    "            raise AttributeError\n",
    "    except Exception:\n",
    "        styler = styler.set_table_styles(\n",
    "            [\n",
    "                {'selector': 'th.row_heading', 'props': [('display', 'none')]},\n",
    "                {'selector': 'th.blank', 'props': [('display', 'none')]},\n",
    "            ],\n",
    "            overwrite=False,\n",
    "        )\n",
    "    display(styler)\n",
    "\n",
    "pretty_table(summary_rps.query(\"scenario == 'Heavy network'\"), \"Heavy network — totals\")\n",
    "pretty_table(summary_rps.query(\"scenario == 'CPU bound'\"), \"CPU bound — totals\")\n",
    "pretty_table(summary_rps.query(\"scenario == 'CPU bound with SSE'\"), \"CPU bound with SSE — totals\")\n",
    "\n",
    "# Bar charts per scenario with big labels\n",
    "\n",
    "def rps_bar(df: pd.DataFrame, scenario_title: str):\n",
    "    d = df.copy()\n",
    "    d['requests_per_sec'] = d['requests_per_sec'].astype(float)\n",
    "    fig = px.bar(\n",
    "        d,\n",
    "        x='framework', y='requests_per_sec', color='framework',\n",
    "        text=d['requests_per_sec'].map(lambda x: f\"{x:.3f}\"),\n",
    "        labels={'framework': 'Framework', 'requests_per_sec': 'Requests/sec'},\n",
    "        title=f\"{scenario_title}: Requests/sec (total)\",\n",
    "        color_discrete_map=COLOR_MAP,\n",
    "    )\n",
    "    fig.update_traces(textposition='outside', cliponaxis=False)\n",
    "    fig.update_layout(yaxis=dict(tickformat='.2f'), uniformtext_minsize=10, uniformtext_mode='hide', showlegend=False)\n",
    "    fig.show()\n",
    "\n",
    "rps_bar(summary_rps.query(\"scenario == 'Heavy network'\"), \"Heavy network\")\n",
    "rps_bar(summary_rps.query(\"scenario == 'CPU bound'\"), \"CPU bound\")\n",
    "rps_bar(summary_rps.query(\"scenario == 'CPU bound with SSE'\"), \"CPU bound with SSE\")"
   ]
  },
  {
   "cell_type": "code",
   "execution_count": 51,
   "id": "fddcacba",
   "metadata": {},
   "outputs": [
    {
     "data": {
      "application/vnd.plotly.v1+json": {
       "config": {
        "plotlyServerURL": "https://plot.ly"
       },
       "data": [
        {
         "hovertemplate": "=Dash<br>Time (s)=%{x}<br>Requests per second=%{y}<extra></extra>",
         "legendgroup": "Dash",
         "line": {
          "color": "#636EFA",
          "dash": "solid"
         },
         "marker": {
          "symbol": "circle"
         },
         "mode": "lines+markers",
         "name": "Dash",
         "orientation": "v",
         "showlegend": true,
         "type": "scatter",
         "x": {
          "bdata": "AAECAwQFBgcICQoLDA0ODxAREhMUFRYXGBkaGxwdHh8gISIjJCUmJygpKissLS4vMDEyMzQ1Njc4OTo7PD0+P0BBQkNERUZHSElKS0xNTk9QUVJTVFVWV1hZWltcXV5fYGFiY2RlZmdoaWprbG1ub3BxcnM=",
          "dtype": "i1"
         },
         "xaxis": "x",
         "y": {
          "bdata": "AAAAAAAAJEAAAAAAAADwPwAAAAAAAAAAAAAAAAAAAEAAAAAAAAAAAAAAAAAAAAAAAAAAAAAAAEAAAAAAAAAAAAAAAAAAAPA/AAAAAAAA8D8AAAAAAADwPwAAAAAAAPA/AAAAAAAAAAAAAAAAAADwPwAAAAAAAPA/AAAAAAAA8D8AAAAAAADwPwAAAAAAAPA/AAAAAAAAAAAAAAAAAAAAQAAAAAAAAAAAAAAAAAAA8D8AAAAAAADwPwAAAAAAAAAAAAAAAAAAAEAAAAAAAAAAAAAAAAAAAAAAAAAAAAAAAEAAAAAAAAAAAAAAAAAAAPA/AAAAAAAA8D8AAAAAAAAAAAAAAAAAAABAAAAAAAAA8D8AAAAAAADwPwAAAAAAAABAAAAAAAAAAAAAAAAAAAAAAAAAAAAAAPA/AAAAAAAA8D8AAAAAAAAAAAAAAAAAAABAAAAAAAAAAAAAAAAAAAAAAAAAAAAAAABAAAAAAAAAAAAAAAAAAADwPwAAAAAAAPA/AAAAAAAA8D8AAAAAAADwPwAAAAAAAPA/AAAAAAAA8D8AAAAAAAAAAAAAAAAAAPA/AAAAAAAA8D8AAAAAAAAAAAAAAAAAAAAAAAAAAAAAAEAAAAAAAAAAAAAAAAAAAPA/AAAAAAAA8D8AAAAAAADwPwAAAAAAAPA/AAAAAAAAAAAAAAAAAADwPwAAAAAAAPA/AAAAAAAAAAAAAAAAAAAAQAAAAAAAAAAAAAAAAAAA8D8AAAAAAADwPwAAAAAAAPA/AAAAAAAAAAAAAAAAAADwPwAAAAAAAPA/AAAAAAAAAAAAAAAAAAAAQAAAAAAAAAAAAAAAAAAA8D8AAAAAAAAAAAAAAAAAAPA/AAAAAAAA8D8AAAAAAAAAQAAAAAAAAAAAAAAAAAAAAEAAAAAAAAAAAAAAAAAAAPA/AAAAAAAA8D8AAAAAAAAAAAAAAAAAAABAAAAAAAAAAAAAAAAAAAAAAAAAAAAAAPA/AAAAAAAA8D8AAAAAAAAAAAAAAAAAAPA/AAAAAAAAAEAAAAAAAAAAAAAAAAAAAPA/AAAAAAAA8D8AAAAAAADwPwAAAAAAAAAAAAAAAAAAAAAAAAAAAAAAQAAAAAAAAAAAAAAAAAAAAAAAAAAAAAAAQAAAAAAAAAAAAAAAAAAA8D8AAAAAAADwPwAAAAAAAPA/AAAAAAAAAAAAAAAAAADwPwAAAAAAAPA/AAAAAAAAAAAAAAAAAADwPw==",
          "dtype": "f8"
         },
         "yaxis": "y"
        },
        {
         "hovertemplate": "=Flash<br>Time (s)=%{x}<br>Requests per second=%{y}<extra></extra>",
         "legendgroup": "Flash",
         "line": {
          "color": "#EF553B",
          "dash": "solid"
         },
         "marker": {
          "symbol": "circle"
         },
         "mode": "lines+markers",
         "name": "Flash",
         "orientation": "v",
         "showlegend": true,
         "type": "scatter",
         "x": {
          "bdata": "AAECAwQFBgcICQoLDA0ODxAREhMUFRYXGBkaGxwdHh8gISIjJCUmJygpKissLS4vMDEyMzQ1Njc4OTo7PD0+P0BBQkNERUZHSElKS0xNTk9QUVJTVFVWV1hZWltcXV5fYGFiY2RlZmdoaWprbG1ub3BxcnM=",
          "dtype": "i1"
         },
         "xaxis": "x",
         "y": {
          "bdata": "AAAAAAAAJEAAAAAAAAAIQAAAAAAAAABAAAAAAAAAGEAAAAAAAAAAQAAAAAAAABhAAAAAAAAAAEAAAAAAAAAUQAAAAAAAABBAAAAAAAAACEAAAAAAAAAQQAAAAAAAABRAAAAAAAAA8D8AAAAAAAAgQAAAAAAAAPA/AAAAAAAAAEAAAAAAAAAgQAAAAAAAAABAAAAAAAAAEEAAAAAAAAAIQAAAAAAAABBAAAAAAAAAFEAAAAAAAAAIQAAAAAAAAABAAAAAAAAAAEAAAAAAAAAAQAAAAAAAAPA/AAAAAAAAAAAAAAAAAAAAAAAAAAAAAAAAAAAAAAAAAAAAAAAAAAAAAAAAAAAAAAAAAAAAAAAAAAAAAAAAAAAAAAAAAAAAAAAAAAAAAAAAAAAAAAAAAAAAAAAAAAAAAAAAAAAAAAAAAAAAAAAAAAAAAAAAAAAAAAAAAAAAAAAAAAAAAAAAAAAAAAAAAAAAAAAAAAAAAAAAAAAAAAAAAAAAAAAAAAAAAAAAAAAAAAAAAAAAAAAAAAAAAAAAAAAAAAAAAAAAAAAAAAAAAAAAAAAAAAAAAAAAAAAAAAAAAAAAAAAAAAAAAAAAAAAAAAAAAAAAAAAAAAAAAAAAAAAAAAAAAAAAAAAAAAAAAAAAAAAAAAAAAAAAAAAAAAAAAAAAAAAAAAAAAAAAAAAAAAAAAAAAAAAAAAAAAAAAAAAAAAAAAAAAAAAAAAAAAAAAAAAAAAAAAAAAAAAAAAAAAAAAAAAAAAAAAAAAAAAAAAAAAAAAAAAAAAAAAAAAAAAAAAAAAAAAAAAAAAAAAAAAAAAAAAAAAAAAAAAAAAAAAAAAAAAAAAAAAAAAAAAAAAAAAAAAAAAAAAAAAAAAAAAAAAAAAAAAAAAAAAAAAAAAAAAAAAAAAAAAAAAAAAAAAAAAAAAAAAAAAAAAAAAAAAAAAAAAAAAAAAAAAAAAAAAAAAAAAAAAAAAAAAAAAAAAAAAAAAAAAAAAAAAAAAAAAAAAAAAAAAAAAAAAAAAAAAAAAAAAAAAAAAAAAAAAAAAAAAAAAAAAAAAAAAAAAAAAAAAAAAAAAAAAAAAAAAAAAAAAAAAAAAAAAAAAAAAAAAAAAAAAAAAAAAAAAAAAAAAAAAAAAAAAAAAAAAAAAAAAAAAAAAAAAAAAAAAAAAAAAAAAAAAAAAAAAAAAAAAAAAAAAAAAAAAAAAAAAAAAAAAAAAAAAAAAAAAAAAAAAAAAAAAAAA==",
          "dtype": "f8"
         },
         "yaxis": "y"
        }
       ],
       "layout": {
        "legend": {
         "title": {
          "text": ""
         },
         "tracegroupgap": 0
        },
        "template": {
         "data": {
          "bar": [
           {
            "error_x": {
             "color": "#f2f5fa"
            },
            "error_y": {
             "color": "#f2f5fa"
            },
            "marker": {
             "line": {
              "color": "rgb(17,17,17)",
              "width": 0.5
             },
             "pattern": {
              "fillmode": "overlay",
              "size": 10,
              "solidity": 0.2
             }
            },
            "type": "bar"
           }
          ],
          "barpolar": [
           {
            "marker": {
             "line": {
              "color": "rgb(17,17,17)",
              "width": 0.5
             },
             "pattern": {
              "fillmode": "overlay",
              "size": 10,
              "solidity": 0.2
             }
            },
            "type": "barpolar"
           }
          ],
          "carpet": [
           {
            "aaxis": {
             "endlinecolor": "#A2B1C6",
             "gridcolor": "#506784",
             "linecolor": "#506784",
             "minorgridcolor": "#506784",
             "startlinecolor": "#A2B1C6"
            },
            "baxis": {
             "endlinecolor": "#A2B1C6",
             "gridcolor": "#506784",
             "linecolor": "#506784",
             "minorgridcolor": "#506784",
             "startlinecolor": "#A2B1C6"
            },
            "type": "carpet"
           }
          ],
          "choropleth": [
           {
            "colorbar": {
             "outlinewidth": 0,
             "ticks": ""
            },
            "type": "choropleth"
           }
          ],
          "contour": [
           {
            "colorbar": {
             "outlinewidth": 0,
             "ticks": ""
            },
            "colorscale": [
             [
              0,
              "#0d0887"
             ],
             [
              0.1111111111111111,
              "#46039f"
             ],
             [
              0.2222222222222222,
              "#7201a8"
             ],
             [
              0.3333333333333333,
              "#9c179e"
             ],
             [
              0.4444444444444444,
              "#bd3786"
             ],
             [
              0.5555555555555556,
              "#d8576b"
             ],
             [
              0.6666666666666666,
              "#ed7953"
             ],
             [
              0.7777777777777778,
              "#fb9f3a"
             ],
             [
              0.8888888888888888,
              "#fdca26"
             ],
             [
              1,
              "#f0f921"
             ]
            ],
            "type": "contour"
           }
          ],
          "contourcarpet": [
           {
            "colorbar": {
             "outlinewidth": 0,
             "ticks": ""
            },
            "type": "contourcarpet"
           }
          ],
          "heatmap": [
           {
            "colorbar": {
             "outlinewidth": 0,
             "ticks": ""
            },
            "colorscale": [
             [
              0,
              "#0d0887"
             ],
             [
              0.1111111111111111,
              "#46039f"
             ],
             [
              0.2222222222222222,
              "#7201a8"
             ],
             [
              0.3333333333333333,
              "#9c179e"
             ],
             [
              0.4444444444444444,
              "#bd3786"
             ],
             [
              0.5555555555555556,
              "#d8576b"
             ],
             [
              0.6666666666666666,
              "#ed7953"
             ],
             [
              0.7777777777777778,
              "#fb9f3a"
             ],
             [
              0.8888888888888888,
              "#fdca26"
             ],
             [
              1,
              "#f0f921"
             ]
            ],
            "type": "heatmap"
           }
          ],
          "histogram": [
           {
            "marker": {
             "pattern": {
              "fillmode": "overlay",
              "size": 10,
              "solidity": 0.2
             }
            },
            "type": "histogram"
           }
          ],
          "histogram2d": [
           {
            "colorbar": {
             "outlinewidth": 0,
             "ticks": ""
            },
            "colorscale": [
             [
              0,
              "#0d0887"
             ],
             [
              0.1111111111111111,
              "#46039f"
             ],
             [
              0.2222222222222222,
              "#7201a8"
             ],
             [
              0.3333333333333333,
              "#9c179e"
             ],
             [
              0.4444444444444444,
              "#bd3786"
             ],
             [
              0.5555555555555556,
              "#d8576b"
             ],
             [
              0.6666666666666666,
              "#ed7953"
             ],
             [
              0.7777777777777778,
              "#fb9f3a"
             ],
             [
              0.8888888888888888,
              "#fdca26"
             ],
             [
              1,
              "#f0f921"
             ]
            ],
            "type": "histogram2d"
           }
          ],
          "histogram2dcontour": [
           {
            "colorbar": {
             "outlinewidth": 0,
             "ticks": ""
            },
            "colorscale": [
             [
              0,
              "#0d0887"
             ],
             [
              0.1111111111111111,
              "#46039f"
             ],
             [
              0.2222222222222222,
              "#7201a8"
             ],
             [
              0.3333333333333333,
              "#9c179e"
             ],
             [
              0.4444444444444444,
              "#bd3786"
             ],
             [
              0.5555555555555556,
              "#d8576b"
             ],
             [
              0.6666666666666666,
              "#ed7953"
             ],
             [
              0.7777777777777778,
              "#fb9f3a"
             ],
             [
              0.8888888888888888,
              "#fdca26"
             ],
             [
              1,
              "#f0f921"
             ]
            ],
            "type": "histogram2dcontour"
           }
          ],
          "mesh3d": [
           {
            "colorbar": {
             "outlinewidth": 0,
             "ticks": ""
            },
            "type": "mesh3d"
           }
          ],
          "parcoords": [
           {
            "line": {
             "colorbar": {
              "outlinewidth": 0,
              "ticks": ""
             }
            },
            "type": "parcoords"
           }
          ],
          "pie": [
           {
            "automargin": true,
            "type": "pie"
           }
          ],
          "scatter": [
           {
            "marker": {
             "line": {
              "color": "#283442"
             }
            },
            "type": "scatter"
           }
          ],
          "scatter3d": [
           {
            "line": {
             "colorbar": {
              "outlinewidth": 0,
              "ticks": ""
             }
            },
            "marker": {
             "colorbar": {
              "outlinewidth": 0,
              "ticks": ""
             }
            },
            "type": "scatter3d"
           }
          ],
          "scattercarpet": [
           {
            "marker": {
             "colorbar": {
              "outlinewidth": 0,
              "ticks": ""
             }
            },
            "type": "scattercarpet"
           }
          ],
          "scattergeo": [
           {
            "marker": {
             "colorbar": {
              "outlinewidth": 0,
              "ticks": ""
             }
            },
            "type": "scattergeo"
           }
          ],
          "scattergl": [
           {
            "marker": {
             "line": {
              "color": "#283442"
             }
            },
            "type": "scattergl"
           }
          ],
          "scattermap": [
           {
            "marker": {
             "colorbar": {
              "outlinewidth": 0,
              "ticks": ""
             }
            },
            "type": "scattermap"
           }
          ],
          "scattermapbox": [
           {
            "marker": {
             "colorbar": {
              "outlinewidth": 0,
              "ticks": ""
             }
            },
            "type": "scattermapbox"
           }
          ],
          "scatterpolar": [
           {
            "marker": {
             "colorbar": {
              "outlinewidth": 0,
              "ticks": ""
             }
            },
            "type": "scatterpolar"
           }
          ],
          "scatterpolargl": [
           {
            "marker": {
             "colorbar": {
              "outlinewidth": 0,
              "ticks": ""
             }
            },
            "type": "scatterpolargl"
           }
          ],
          "scatterternary": [
           {
            "marker": {
             "colorbar": {
              "outlinewidth": 0,
              "ticks": ""
             }
            },
            "type": "scatterternary"
           }
          ],
          "surface": [
           {
            "colorbar": {
             "outlinewidth": 0,
             "ticks": ""
            },
            "colorscale": [
             [
              0,
              "#0d0887"
             ],
             [
              0.1111111111111111,
              "#46039f"
             ],
             [
              0.2222222222222222,
              "#7201a8"
             ],
             [
              0.3333333333333333,
              "#9c179e"
             ],
             [
              0.4444444444444444,
              "#bd3786"
             ],
             [
              0.5555555555555556,
              "#d8576b"
             ],
             [
              0.6666666666666666,
              "#ed7953"
             ],
             [
              0.7777777777777778,
              "#fb9f3a"
             ],
             [
              0.8888888888888888,
              "#fdca26"
             ],
             [
              1,
              "#f0f921"
             ]
            ],
            "type": "surface"
           }
          ],
          "table": [
           {
            "cells": {
             "fill": {
              "color": "#506784"
             },
             "line": {
              "color": "rgb(17,17,17)"
             }
            },
            "header": {
             "fill": {
              "color": "#2a3f5f"
             },
             "line": {
              "color": "rgb(17,17,17)"
             }
            },
            "type": "table"
           }
          ]
         },
         "layout": {
          "annotationdefaults": {
           "arrowcolor": "#f2f5fa",
           "arrowhead": 0,
           "arrowwidth": 1
          },
          "autotypenumbers": "strict",
          "coloraxis": {
           "colorbar": {
            "outlinewidth": 0,
            "ticks": ""
           }
          },
          "colorscale": {
           "diverging": [
            [
             0,
             "#8e0152"
            ],
            [
             0.1,
             "#c51b7d"
            ],
            [
             0.2,
             "#de77ae"
            ],
            [
             0.3,
             "#f1b6da"
            ],
            [
             0.4,
             "#fde0ef"
            ],
            [
             0.5,
             "#f7f7f7"
            ],
            [
             0.6,
             "#e6f5d0"
            ],
            [
             0.7,
             "#b8e186"
            ],
            [
             0.8,
             "#7fbc41"
            ],
            [
             0.9,
             "#4d9221"
            ],
            [
             1,
             "#276419"
            ]
           ],
           "sequential": [
            [
             0,
             "#0d0887"
            ],
            [
             0.1111111111111111,
             "#46039f"
            ],
            [
             0.2222222222222222,
             "#7201a8"
            ],
            [
             0.3333333333333333,
             "#9c179e"
            ],
            [
             0.4444444444444444,
             "#bd3786"
            ],
            [
             0.5555555555555556,
             "#d8576b"
            ],
            [
             0.6666666666666666,
             "#ed7953"
            ],
            [
             0.7777777777777778,
             "#fb9f3a"
            ],
            [
             0.8888888888888888,
             "#fdca26"
            ],
            [
             1,
             "#f0f921"
            ]
           ],
           "sequentialminus": [
            [
             0,
             "#0d0887"
            ],
            [
             0.1111111111111111,
             "#46039f"
            ],
            [
             0.2222222222222222,
             "#7201a8"
            ],
            [
             0.3333333333333333,
             "#9c179e"
            ],
            [
             0.4444444444444444,
             "#bd3786"
            ],
            [
             0.5555555555555556,
             "#d8576b"
            ],
            [
             0.6666666666666666,
             "#ed7953"
            ],
            [
             0.7777777777777778,
             "#fb9f3a"
            ],
            [
             0.8888888888888888,
             "#fdca26"
            ],
            [
             1,
             "#f0f921"
            ]
           ]
          },
          "colorway": [
           "#636efa",
           "#EF553B",
           "#00cc96",
           "#ab63fa",
           "#FFA15A",
           "#19d3f3",
           "#FF6692",
           "#B6E880",
           "#FF97FF",
           "#FECB52"
          ],
          "font": {
           "color": "#f2f5fa"
          },
          "geo": {
           "bgcolor": "rgb(17,17,17)",
           "lakecolor": "rgb(17,17,17)",
           "landcolor": "rgb(17,17,17)",
           "showlakes": true,
           "showland": true,
           "subunitcolor": "#506784"
          },
          "hoverlabel": {
           "align": "left"
          },
          "hovermode": "closest",
          "mapbox": {
           "style": "dark"
          },
          "paper_bgcolor": "rgb(17,17,17)",
          "plot_bgcolor": "rgb(17,17,17)",
          "polar": {
           "angularaxis": {
            "gridcolor": "#506784",
            "linecolor": "#506784",
            "ticks": ""
           },
           "bgcolor": "rgb(17,17,17)",
           "radialaxis": {
            "gridcolor": "#506784",
            "linecolor": "#506784",
            "ticks": ""
           }
          },
          "scene": {
           "xaxis": {
            "backgroundcolor": "rgb(17,17,17)",
            "gridcolor": "#506784",
            "gridwidth": 2,
            "linecolor": "#506784",
            "showbackground": true,
            "ticks": "",
            "zerolinecolor": "#C8D4E3"
           },
           "yaxis": {
            "backgroundcolor": "rgb(17,17,17)",
            "gridcolor": "#506784",
            "gridwidth": 2,
            "linecolor": "#506784",
            "showbackground": true,
            "ticks": "",
            "zerolinecolor": "#C8D4E3"
           },
           "zaxis": {
            "backgroundcolor": "rgb(17,17,17)",
            "gridcolor": "#506784",
            "gridwidth": 2,
            "linecolor": "#506784",
            "showbackground": true,
            "ticks": "",
            "zerolinecolor": "#C8D4E3"
           }
          },
          "shapedefaults": {
           "line": {
            "color": "#f2f5fa"
           }
          },
          "sliderdefaults": {
           "bgcolor": "#C8D4E3",
           "bordercolor": "rgb(17,17,17)",
           "borderwidth": 1,
           "tickwidth": 0
          },
          "ternary": {
           "aaxis": {
            "gridcolor": "#506784",
            "linecolor": "#506784",
            "ticks": ""
           },
           "baxis": {
            "gridcolor": "#506784",
            "linecolor": "#506784",
            "ticks": ""
           },
           "bgcolor": "rgb(17,17,17)",
           "caxis": {
            "gridcolor": "#506784",
            "linecolor": "#506784",
            "ticks": ""
           }
          },
          "title": {
           "x": 0.05
          },
          "updatemenudefaults": {
           "bgcolor": "#506784",
           "borderwidth": 0
          },
          "xaxis": {
           "automargin": true,
           "gridcolor": "#283442",
           "linecolor": "#506784",
           "ticks": "",
           "title": {
            "standoff": 15
           },
           "zerolinecolor": "#283442",
           "zerolinewidth": 2
          },
          "yaxis": {
           "automargin": true,
           "gridcolor": "#283442",
           "linecolor": "#506784",
           "ticks": "",
           "title": {
            "standoff": 15
           },
           "zerolinecolor": "#283442",
           "zerolinewidth": 2
          }
         }
        },
        "title": {
         "text": "Heavy network: Requests per second over time"
        },
        "xaxis": {
         "anchor": "y",
         "domain": [
          0,
          1
         ],
         "title": {
          "text": "Time (s)"
         }
        },
        "yaxis": {
         "anchor": "x",
         "domain": [
          0,
          1
         ],
         "title": {
          "text": "Requests per second"
         }
        }
       }
      }
     },
     "metadata": {},
     "output_type": "display_data"
    },
    {
     "data": {
      "application/vnd.plotly.v1+json": {
       "config": {
        "plotlyServerURL": "https://plot.ly"
       },
       "data": [
        {
         "hovertemplate": "=Dash<br>Time (s)=%{x}<br>Requests per second=%{y}<extra></extra>",
         "legendgroup": "Dash",
         "line": {
          "color": "#636EFA",
          "dash": "solid"
         },
         "marker": {
          "symbol": "circle"
         },
         "mode": "lines+markers",
         "name": "Dash",
         "orientation": "v",
         "showlegend": true,
         "type": "scatter",
         "x": {
          "bdata": "AAECAwQFBgcICQoLDA0ODxAREhMUFRYXGBkaGxwdHh8gISIjJCUmJygpKissLS4vMA==",
          "dtype": "i1"
         },
         "xaxis": "x",
         "y": {
          "bdata": "AAAAAAAANkAAAAAAAAAAAAAAAAAAABBAAAAAAAAAIkAAAAAAAAAQQAAAAAAAAAhAAAAAAAAAIkAAAAAAAAAIQAAAAAAAACZAAAAAAAAAAAAAAAAAAAAQQAAAAAAAABBAAAAAAAAAHEAAAAAAAAAAAAAAAAAAAABAAAAAAAAAAEAAAAAAAAAIQAAAAAAAAAhAAAAAAAAAIEAAAAAAAAAAQAAAAAAAAAhAAAAAAAAAGEAAAAAAAAAIQAAAAAAAAABAAAAAAAAAKEAAAAAAAAAUQAAAAAAAABRAAAAAAAAA8D8AAAAAAAAIQAAAAAAAAABAAAAAAAAACEAAAAAAAAAAAAAAAAAAABRAAAAAAAAAFEAAAAAAAADwPwAAAAAAAABAAAAAAAAACEAAAAAAAAAUQAAAAAAAABBAAAAAAAAAEEAAAAAAAAAUQAAAAAAAABBAAAAAAAAAJEAAAAAAAAAAQAAAAAAAAAhAAAAAAAAA8D8AAAAAAAAAAAAAAAAAAAAAAAAAAAAA8D8=",
          "dtype": "f8"
         },
         "yaxis": "y"
        },
        {
         "hovertemplate": "=Flash<br>Time (s)=%{x}<br>Requests per second=%{y}<extra></extra>",
         "legendgroup": "Flash",
         "line": {
          "color": "#EF553B",
          "dash": "solid"
         },
         "marker": {
          "symbol": "circle"
         },
         "mode": "lines+markers",
         "name": "Flash",
         "orientation": "v",
         "showlegend": true,
         "type": "scatter",
         "x": {
          "bdata": "AAECAwQFBgcICQoLDA0ODxAREhMUFRYXGBkaGxwdHh8gISIjJCUmJygpKissLS4vMA==",
          "dtype": "i1"
         },
         "xaxis": "x",
         "y": {
          "bdata": "AAAAAAAAN0AAAAAAAAAIQAAAAAAAAPA/AAAAAAAACEAAAAAAAAAiQAAAAAAAABhAAAAAAAAAAEAAAAAAAAAAQAAAAAAAABhAAAAAAAAA8D8AAAAAAAAQQAAAAAAAACRAAAAAAAAAAAAAAAAAAAAQQAAAAAAAACJAAAAAAAAAKEAAAAAAAAAIQAAAAAAAAABAAAAAAAAAJEAAAAAAAAAAAAAAAAAAAAhAAAAAAAAAHEAAAAAAAAAIQAAAAAAAACRAAAAAAAAACEAAAAAAAAAcQAAAAAAAAABAAAAAAAAAKEAAAAAAAAAQQAAAAAAAAAhAAAAAAAAAHEAAAAAAAAAAAAAAAAAAAABAAAAAAAAA8D8AAAAAAAAAQAAAAAAAACBAAAAAAAAAAEAAAAAAAADwPwAAAAAAAABAAAAAAAAAEEAAAAAAAAAQQAAAAAAAAABAAAAAAAAA8D8AAAAAAAAAAAAAAAAAAAAAAAAAAAAAAAAAAAAAAAAAAAAAAAAAAAAAAAAAAAAAAAA=",
          "dtype": "f8"
         },
         "yaxis": "y"
        }
       ],
       "layout": {
        "legend": {
         "title": {
          "text": ""
         },
         "tracegroupgap": 0
        },
        "template": {
         "data": {
          "bar": [
           {
            "error_x": {
             "color": "#f2f5fa"
            },
            "error_y": {
             "color": "#f2f5fa"
            },
            "marker": {
             "line": {
              "color": "rgb(17,17,17)",
              "width": 0.5
             },
             "pattern": {
              "fillmode": "overlay",
              "size": 10,
              "solidity": 0.2
             }
            },
            "type": "bar"
           }
          ],
          "barpolar": [
           {
            "marker": {
             "line": {
              "color": "rgb(17,17,17)",
              "width": 0.5
             },
             "pattern": {
              "fillmode": "overlay",
              "size": 10,
              "solidity": 0.2
             }
            },
            "type": "barpolar"
           }
          ],
          "carpet": [
           {
            "aaxis": {
             "endlinecolor": "#A2B1C6",
             "gridcolor": "#506784",
             "linecolor": "#506784",
             "minorgridcolor": "#506784",
             "startlinecolor": "#A2B1C6"
            },
            "baxis": {
             "endlinecolor": "#A2B1C6",
             "gridcolor": "#506784",
             "linecolor": "#506784",
             "minorgridcolor": "#506784",
             "startlinecolor": "#A2B1C6"
            },
            "type": "carpet"
           }
          ],
          "choropleth": [
           {
            "colorbar": {
             "outlinewidth": 0,
             "ticks": ""
            },
            "type": "choropleth"
           }
          ],
          "contour": [
           {
            "colorbar": {
             "outlinewidth": 0,
             "ticks": ""
            },
            "colorscale": [
             [
              0,
              "#0d0887"
             ],
             [
              0.1111111111111111,
              "#46039f"
             ],
             [
              0.2222222222222222,
              "#7201a8"
             ],
             [
              0.3333333333333333,
              "#9c179e"
             ],
             [
              0.4444444444444444,
              "#bd3786"
             ],
             [
              0.5555555555555556,
              "#d8576b"
             ],
             [
              0.6666666666666666,
              "#ed7953"
             ],
             [
              0.7777777777777778,
              "#fb9f3a"
             ],
             [
              0.8888888888888888,
              "#fdca26"
             ],
             [
              1,
              "#f0f921"
             ]
            ],
            "type": "contour"
           }
          ],
          "contourcarpet": [
           {
            "colorbar": {
             "outlinewidth": 0,
             "ticks": ""
            },
            "type": "contourcarpet"
           }
          ],
          "heatmap": [
           {
            "colorbar": {
             "outlinewidth": 0,
             "ticks": ""
            },
            "colorscale": [
             [
              0,
              "#0d0887"
             ],
             [
              0.1111111111111111,
              "#46039f"
             ],
             [
              0.2222222222222222,
              "#7201a8"
             ],
             [
              0.3333333333333333,
              "#9c179e"
             ],
             [
              0.4444444444444444,
              "#bd3786"
             ],
             [
              0.5555555555555556,
              "#d8576b"
             ],
             [
              0.6666666666666666,
              "#ed7953"
             ],
             [
              0.7777777777777778,
              "#fb9f3a"
             ],
             [
              0.8888888888888888,
              "#fdca26"
             ],
             [
              1,
              "#f0f921"
             ]
            ],
            "type": "heatmap"
           }
          ],
          "histogram": [
           {
            "marker": {
             "pattern": {
              "fillmode": "overlay",
              "size": 10,
              "solidity": 0.2
             }
            },
            "type": "histogram"
           }
          ],
          "histogram2d": [
           {
            "colorbar": {
             "outlinewidth": 0,
             "ticks": ""
            },
            "colorscale": [
             [
              0,
              "#0d0887"
             ],
             [
              0.1111111111111111,
              "#46039f"
             ],
             [
              0.2222222222222222,
              "#7201a8"
             ],
             [
              0.3333333333333333,
              "#9c179e"
             ],
             [
              0.4444444444444444,
              "#bd3786"
             ],
             [
              0.5555555555555556,
              "#d8576b"
             ],
             [
              0.6666666666666666,
              "#ed7953"
             ],
             [
              0.7777777777777778,
              "#fb9f3a"
             ],
             [
              0.8888888888888888,
              "#fdca26"
             ],
             [
              1,
              "#f0f921"
             ]
            ],
            "type": "histogram2d"
           }
          ],
          "histogram2dcontour": [
           {
            "colorbar": {
             "outlinewidth": 0,
             "ticks": ""
            },
            "colorscale": [
             [
              0,
              "#0d0887"
             ],
             [
              0.1111111111111111,
              "#46039f"
             ],
             [
              0.2222222222222222,
              "#7201a8"
             ],
             [
              0.3333333333333333,
              "#9c179e"
             ],
             [
              0.4444444444444444,
              "#bd3786"
             ],
             [
              0.5555555555555556,
              "#d8576b"
             ],
             [
              0.6666666666666666,
              "#ed7953"
             ],
             [
              0.7777777777777778,
              "#fb9f3a"
             ],
             [
              0.8888888888888888,
              "#fdca26"
             ],
             [
              1,
              "#f0f921"
             ]
            ],
            "type": "histogram2dcontour"
           }
          ],
          "mesh3d": [
           {
            "colorbar": {
             "outlinewidth": 0,
             "ticks": ""
            },
            "type": "mesh3d"
           }
          ],
          "parcoords": [
           {
            "line": {
             "colorbar": {
              "outlinewidth": 0,
              "ticks": ""
             }
            },
            "type": "parcoords"
           }
          ],
          "pie": [
           {
            "automargin": true,
            "type": "pie"
           }
          ],
          "scatter": [
           {
            "marker": {
             "line": {
              "color": "#283442"
             }
            },
            "type": "scatter"
           }
          ],
          "scatter3d": [
           {
            "line": {
             "colorbar": {
              "outlinewidth": 0,
              "ticks": ""
             }
            },
            "marker": {
             "colorbar": {
              "outlinewidth": 0,
              "ticks": ""
             }
            },
            "type": "scatter3d"
           }
          ],
          "scattercarpet": [
           {
            "marker": {
             "colorbar": {
              "outlinewidth": 0,
              "ticks": ""
             }
            },
            "type": "scattercarpet"
           }
          ],
          "scattergeo": [
           {
            "marker": {
             "colorbar": {
              "outlinewidth": 0,
              "ticks": ""
             }
            },
            "type": "scattergeo"
           }
          ],
          "scattergl": [
           {
            "marker": {
             "line": {
              "color": "#283442"
             }
            },
            "type": "scattergl"
           }
          ],
          "scattermap": [
           {
            "marker": {
             "colorbar": {
              "outlinewidth": 0,
              "ticks": ""
             }
            },
            "type": "scattermap"
           }
          ],
          "scattermapbox": [
           {
            "marker": {
             "colorbar": {
              "outlinewidth": 0,
              "ticks": ""
             }
            },
            "type": "scattermapbox"
           }
          ],
          "scatterpolar": [
           {
            "marker": {
             "colorbar": {
              "outlinewidth": 0,
              "ticks": ""
             }
            },
            "type": "scatterpolar"
           }
          ],
          "scatterpolargl": [
           {
            "marker": {
             "colorbar": {
              "outlinewidth": 0,
              "ticks": ""
             }
            },
            "type": "scatterpolargl"
           }
          ],
          "scatterternary": [
           {
            "marker": {
             "colorbar": {
              "outlinewidth": 0,
              "ticks": ""
             }
            },
            "type": "scatterternary"
           }
          ],
          "surface": [
           {
            "colorbar": {
             "outlinewidth": 0,
             "ticks": ""
            },
            "colorscale": [
             [
              0,
              "#0d0887"
             ],
             [
              0.1111111111111111,
              "#46039f"
             ],
             [
              0.2222222222222222,
              "#7201a8"
             ],
             [
              0.3333333333333333,
              "#9c179e"
             ],
             [
              0.4444444444444444,
              "#bd3786"
             ],
             [
              0.5555555555555556,
              "#d8576b"
             ],
             [
              0.6666666666666666,
              "#ed7953"
             ],
             [
              0.7777777777777778,
              "#fb9f3a"
             ],
             [
              0.8888888888888888,
              "#fdca26"
             ],
             [
              1,
              "#f0f921"
             ]
            ],
            "type": "surface"
           }
          ],
          "table": [
           {
            "cells": {
             "fill": {
              "color": "#506784"
             },
             "line": {
              "color": "rgb(17,17,17)"
             }
            },
            "header": {
             "fill": {
              "color": "#2a3f5f"
             },
             "line": {
              "color": "rgb(17,17,17)"
             }
            },
            "type": "table"
           }
          ]
         },
         "layout": {
          "annotationdefaults": {
           "arrowcolor": "#f2f5fa",
           "arrowhead": 0,
           "arrowwidth": 1
          },
          "autotypenumbers": "strict",
          "coloraxis": {
           "colorbar": {
            "outlinewidth": 0,
            "ticks": ""
           }
          },
          "colorscale": {
           "diverging": [
            [
             0,
             "#8e0152"
            ],
            [
             0.1,
             "#c51b7d"
            ],
            [
             0.2,
             "#de77ae"
            ],
            [
             0.3,
             "#f1b6da"
            ],
            [
             0.4,
             "#fde0ef"
            ],
            [
             0.5,
             "#f7f7f7"
            ],
            [
             0.6,
             "#e6f5d0"
            ],
            [
             0.7,
             "#b8e186"
            ],
            [
             0.8,
             "#7fbc41"
            ],
            [
             0.9,
             "#4d9221"
            ],
            [
             1,
             "#276419"
            ]
           ],
           "sequential": [
            [
             0,
             "#0d0887"
            ],
            [
             0.1111111111111111,
             "#46039f"
            ],
            [
             0.2222222222222222,
             "#7201a8"
            ],
            [
             0.3333333333333333,
             "#9c179e"
            ],
            [
             0.4444444444444444,
             "#bd3786"
            ],
            [
             0.5555555555555556,
             "#d8576b"
            ],
            [
             0.6666666666666666,
             "#ed7953"
            ],
            [
             0.7777777777777778,
             "#fb9f3a"
            ],
            [
             0.8888888888888888,
             "#fdca26"
            ],
            [
             1,
             "#f0f921"
            ]
           ],
           "sequentialminus": [
            [
             0,
             "#0d0887"
            ],
            [
             0.1111111111111111,
             "#46039f"
            ],
            [
             0.2222222222222222,
             "#7201a8"
            ],
            [
             0.3333333333333333,
             "#9c179e"
            ],
            [
             0.4444444444444444,
             "#bd3786"
            ],
            [
             0.5555555555555556,
             "#d8576b"
            ],
            [
             0.6666666666666666,
             "#ed7953"
            ],
            [
             0.7777777777777778,
             "#fb9f3a"
            ],
            [
             0.8888888888888888,
             "#fdca26"
            ],
            [
             1,
             "#f0f921"
            ]
           ]
          },
          "colorway": [
           "#636efa",
           "#EF553B",
           "#00cc96",
           "#ab63fa",
           "#FFA15A",
           "#19d3f3",
           "#FF6692",
           "#B6E880",
           "#FF97FF",
           "#FECB52"
          ],
          "font": {
           "color": "#f2f5fa"
          },
          "geo": {
           "bgcolor": "rgb(17,17,17)",
           "lakecolor": "rgb(17,17,17)",
           "landcolor": "rgb(17,17,17)",
           "showlakes": true,
           "showland": true,
           "subunitcolor": "#506784"
          },
          "hoverlabel": {
           "align": "left"
          },
          "hovermode": "closest",
          "mapbox": {
           "style": "dark"
          },
          "paper_bgcolor": "rgb(17,17,17)",
          "plot_bgcolor": "rgb(17,17,17)",
          "polar": {
           "angularaxis": {
            "gridcolor": "#506784",
            "linecolor": "#506784",
            "ticks": ""
           },
           "bgcolor": "rgb(17,17,17)",
           "radialaxis": {
            "gridcolor": "#506784",
            "linecolor": "#506784",
            "ticks": ""
           }
          },
          "scene": {
           "xaxis": {
            "backgroundcolor": "rgb(17,17,17)",
            "gridcolor": "#506784",
            "gridwidth": 2,
            "linecolor": "#506784",
            "showbackground": true,
            "ticks": "",
            "zerolinecolor": "#C8D4E3"
           },
           "yaxis": {
            "backgroundcolor": "rgb(17,17,17)",
            "gridcolor": "#506784",
            "gridwidth": 2,
            "linecolor": "#506784",
            "showbackground": true,
            "ticks": "",
            "zerolinecolor": "#C8D4E3"
           },
           "zaxis": {
            "backgroundcolor": "rgb(17,17,17)",
            "gridcolor": "#506784",
            "gridwidth": 2,
            "linecolor": "#506784",
            "showbackground": true,
            "ticks": "",
            "zerolinecolor": "#C8D4E3"
           }
          },
          "shapedefaults": {
           "line": {
            "color": "#f2f5fa"
           }
          },
          "sliderdefaults": {
           "bgcolor": "#C8D4E3",
           "bordercolor": "rgb(17,17,17)",
           "borderwidth": 1,
           "tickwidth": 0
          },
          "ternary": {
           "aaxis": {
            "gridcolor": "#506784",
            "linecolor": "#506784",
            "ticks": ""
           },
           "baxis": {
            "gridcolor": "#506784",
            "linecolor": "#506784",
            "ticks": ""
           },
           "bgcolor": "rgb(17,17,17)",
           "caxis": {
            "gridcolor": "#506784",
            "linecolor": "#506784",
            "ticks": ""
           }
          },
          "title": {
           "x": 0.05
          },
          "updatemenudefaults": {
           "bgcolor": "#506784",
           "borderwidth": 0
          },
          "xaxis": {
           "automargin": true,
           "gridcolor": "#283442",
           "linecolor": "#506784",
           "ticks": "",
           "title": {
            "standoff": 15
           },
           "zerolinecolor": "#283442",
           "zerolinewidth": 2
          },
          "yaxis": {
           "automargin": true,
           "gridcolor": "#283442",
           "linecolor": "#506784",
           "ticks": "",
           "title": {
            "standoff": 15
           },
           "zerolinecolor": "#283442",
           "zerolinewidth": 2
          }
         }
        },
        "title": {
         "text": "CPU bound: Requests per second over time"
        },
        "xaxis": {
         "anchor": "y",
         "domain": [
          0,
          1
         ],
         "title": {
          "text": "Time (s)"
         }
        },
        "yaxis": {
         "anchor": "x",
         "domain": [
          0,
          1
         ],
         "title": {
          "text": "Requests per second"
         }
        }
       }
      }
     },
     "metadata": {},
     "output_type": "display_data"
    },
    {
     "data": {
      "application/vnd.plotly.v1+json": {
       "config": {
        "plotlyServerURL": "https://plot.ly"
       },
       "data": [
        {
         "hovertemplate": "=Dash<br>Time (s)=%{x}<br>Requests per second=%{y}<extra></extra>",
         "legendgroup": "Dash",
         "line": {
          "color": "#636EFA",
          "dash": "solid"
         },
         "marker": {
          "symbol": "circle"
         },
         "mode": "lines+markers",
         "name": "Dash",
         "orientation": "v",
         "showlegend": true,
         "type": "scatter",
         "x": {
          "bdata": "AAECAwQFBgcICQoLDA0ODxAREhMUFRYXGBkaGxwdHh8gISIjJCUmJygpKissLS4vMDEyMzQ1Njc4OTo7PD0+",
          "dtype": "i1"
         },
         "xaxis": "x",
         "y": {
          "bdata": "AAAAAAAANUAAAAAAAADwPwAAAAAAAAAAAAAAAAAAIEAAAAAAAAAQQAAAAAAAAABAAAAAAAAACEAAAAAAAAAYQAAAAAAAABRAAAAAAAAACEAAAAAAAAAIQAAAAAAAABBAAAAAAAAAAAAAAAAAAAAQQAAAAAAAACBAAAAAAAAAEEAAAAAAAAAIQAAAAAAAAPA/AAAAAAAAAAAAAAAAAADwPwAAAAAAABhAAAAAAAAAIEAAAAAAAAAAAAAAAAAAABBAAAAAAAAAAEAAAAAAAAAQQAAAAAAAAABAAAAAAAAA8D8AAAAAAAAIQAAAAAAAAABAAAAAAAAACEAAAAAAAAAAQAAAAAAAAPA/AAAAAAAAEEAAAAAAAADwPwAAAAAAAPA/AAAAAAAACEAAAAAAAAAIQAAAAAAAABhAAAAAAAAAAEAAAAAAAAAIQAAAAAAAAABAAAAAAAAAEEAAAAAAAAAQQAAAAAAAAABAAAAAAAAAFEAAAAAAAADwPwAAAAAAAABAAAAAAAAAAEAAAAAAAAAAQAAAAAAAAAhAAAAAAAAA8D8AAAAAAAAAAAAAAAAAAAhAAAAAAAAAAAAAAAAAAAAAQAAAAAAAAAhAAAAAAAAACEAAAAAAAAAmQAAAAAAAAAAAAAAAAAAA8D8AAAAAAAAIQAAAAAAAABBA",
          "dtype": "f8"
         },
         "yaxis": "y"
        },
        {
         "hovertemplate": "=Flash<br>Time (s)=%{x}<br>Requests per second=%{y}<extra></extra>",
         "legendgroup": "Flash",
         "line": {
          "color": "#EF553B",
          "dash": "solid"
         },
         "marker": {
          "symbol": "circle"
         },
         "mode": "lines+markers",
         "name": "Flash",
         "orientation": "v",
         "showlegend": true,
         "type": "scatter",
         "x": {
          "bdata": "AAECAwQFBgcICQoLDA0ODxAREhMUFRYXGBkaGxwdHh8gISIjJCUmJygpKissLS4vMDEyMzQ1Njc4OTo7PD0+",
          "dtype": "i1"
         },
         "xaxis": "x",
         "y": {
          "bdata": "AAAAAAAANkAAAAAAAAAQQAAAAAAAABhAAAAAAAAAHEAAAAAAAAAIQAAAAAAAABBAAAAAAAAAAAAAAAAAAAAAQAAAAAAAAPA/AAAAAAAAFEAAAAAAAADwPwAAAAAAACpAAAAAAAAAIEAAAAAAAAAYQAAAAAAAAAhAAAAAAAAA8D8AAAAAAAAIQAAAAAAAAPA/AAAAAAAAJkAAAAAAAAAQQAAAAAAAABBAAAAAAAAAFEAAAAAAAAAUQAAAAAAAABRAAAAAAAAAGEAAAAAAAAAUQAAAAAAAAPA/AAAAAAAAGEAAAAAAAAAoQAAAAAAAACBAAAAAAAAAIEAAAAAAAAAIQAAAAAAAAABAAAAAAAAAAEAAAAAAAAAUQAAAAAAAABBAAAAAAAAAAAAAAAAAAAAAAAAAAAAAAPA/AAAAAAAAHEAAAAAAAAAAQAAAAAAAAPA/AAAAAAAA8D8AAAAAAAAAQAAAAAAAAAAAAAAAAAAAAAAAAAAAAAAAAAAAAAAAAAAAAAAAAAAAAAAAAAAAAAAAAAAAAAAAAAAAAAAAAAAAAAAAAAAAAAAAAAAAAAAAAAAAAAAAAAAAAAAAAAAAAAAAAAAAAAAAAAAAAAAAAAAAAAAAAAAAAAAAAAAAAAAAAAAAAAAAAAAAAAAAAAAAAAAAAAAAAAAAAAAA",
          "dtype": "f8"
         },
         "yaxis": "y"
        }
       ],
       "layout": {
        "legend": {
         "title": {
          "text": ""
         },
         "tracegroupgap": 0
        },
        "template": {
         "data": {
          "bar": [
           {
            "error_x": {
             "color": "#f2f5fa"
            },
            "error_y": {
             "color": "#f2f5fa"
            },
            "marker": {
             "line": {
              "color": "rgb(17,17,17)",
              "width": 0.5
             },
             "pattern": {
              "fillmode": "overlay",
              "size": 10,
              "solidity": 0.2
             }
            },
            "type": "bar"
           }
          ],
          "barpolar": [
           {
            "marker": {
             "line": {
              "color": "rgb(17,17,17)",
              "width": 0.5
             },
             "pattern": {
              "fillmode": "overlay",
              "size": 10,
              "solidity": 0.2
             }
            },
            "type": "barpolar"
           }
          ],
          "carpet": [
           {
            "aaxis": {
             "endlinecolor": "#A2B1C6",
             "gridcolor": "#506784",
             "linecolor": "#506784",
             "minorgridcolor": "#506784",
             "startlinecolor": "#A2B1C6"
            },
            "baxis": {
             "endlinecolor": "#A2B1C6",
             "gridcolor": "#506784",
             "linecolor": "#506784",
             "minorgridcolor": "#506784",
             "startlinecolor": "#A2B1C6"
            },
            "type": "carpet"
           }
          ],
          "choropleth": [
           {
            "colorbar": {
             "outlinewidth": 0,
             "ticks": ""
            },
            "type": "choropleth"
           }
          ],
          "contour": [
           {
            "colorbar": {
             "outlinewidth": 0,
             "ticks": ""
            },
            "colorscale": [
             [
              0,
              "#0d0887"
             ],
             [
              0.1111111111111111,
              "#46039f"
             ],
             [
              0.2222222222222222,
              "#7201a8"
             ],
             [
              0.3333333333333333,
              "#9c179e"
             ],
             [
              0.4444444444444444,
              "#bd3786"
             ],
             [
              0.5555555555555556,
              "#d8576b"
             ],
             [
              0.6666666666666666,
              "#ed7953"
             ],
             [
              0.7777777777777778,
              "#fb9f3a"
             ],
             [
              0.8888888888888888,
              "#fdca26"
             ],
             [
              1,
              "#f0f921"
             ]
            ],
            "type": "contour"
           }
          ],
          "contourcarpet": [
           {
            "colorbar": {
             "outlinewidth": 0,
             "ticks": ""
            },
            "type": "contourcarpet"
           }
          ],
          "heatmap": [
           {
            "colorbar": {
             "outlinewidth": 0,
             "ticks": ""
            },
            "colorscale": [
             [
              0,
              "#0d0887"
             ],
             [
              0.1111111111111111,
              "#46039f"
             ],
             [
              0.2222222222222222,
              "#7201a8"
             ],
             [
              0.3333333333333333,
              "#9c179e"
             ],
             [
              0.4444444444444444,
              "#bd3786"
             ],
             [
              0.5555555555555556,
              "#d8576b"
             ],
             [
              0.6666666666666666,
              "#ed7953"
             ],
             [
              0.7777777777777778,
              "#fb9f3a"
             ],
             [
              0.8888888888888888,
              "#fdca26"
             ],
             [
              1,
              "#f0f921"
             ]
            ],
            "type": "heatmap"
           }
          ],
          "histogram": [
           {
            "marker": {
             "pattern": {
              "fillmode": "overlay",
              "size": 10,
              "solidity": 0.2
             }
            },
            "type": "histogram"
           }
          ],
          "histogram2d": [
           {
            "colorbar": {
             "outlinewidth": 0,
             "ticks": ""
            },
            "colorscale": [
             [
              0,
              "#0d0887"
             ],
             [
              0.1111111111111111,
              "#46039f"
             ],
             [
              0.2222222222222222,
              "#7201a8"
             ],
             [
              0.3333333333333333,
              "#9c179e"
             ],
             [
              0.4444444444444444,
              "#bd3786"
             ],
             [
              0.5555555555555556,
              "#d8576b"
             ],
             [
              0.6666666666666666,
              "#ed7953"
             ],
             [
              0.7777777777777778,
              "#fb9f3a"
             ],
             [
              0.8888888888888888,
              "#fdca26"
             ],
             [
              1,
              "#f0f921"
             ]
            ],
            "type": "histogram2d"
           }
          ],
          "histogram2dcontour": [
           {
            "colorbar": {
             "outlinewidth": 0,
             "ticks": ""
            },
            "colorscale": [
             [
              0,
              "#0d0887"
             ],
             [
              0.1111111111111111,
              "#46039f"
             ],
             [
              0.2222222222222222,
              "#7201a8"
             ],
             [
              0.3333333333333333,
              "#9c179e"
             ],
             [
              0.4444444444444444,
              "#bd3786"
             ],
             [
              0.5555555555555556,
              "#d8576b"
             ],
             [
              0.6666666666666666,
              "#ed7953"
             ],
             [
              0.7777777777777778,
              "#fb9f3a"
             ],
             [
              0.8888888888888888,
              "#fdca26"
             ],
             [
              1,
              "#f0f921"
             ]
            ],
            "type": "histogram2dcontour"
           }
          ],
          "mesh3d": [
           {
            "colorbar": {
             "outlinewidth": 0,
             "ticks": ""
            },
            "type": "mesh3d"
           }
          ],
          "parcoords": [
           {
            "line": {
             "colorbar": {
              "outlinewidth": 0,
              "ticks": ""
             }
            },
            "type": "parcoords"
           }
          ],
          "pie": [
           {
            "automargin": true,
            "type": "pie"
           }
          ],
          "scatter": [
           {
            "marker": {
             "line": {
              "color": "#283442"
             }
            },
            "type": "scatter"
           }
          ],
          "scatter3d": [
           {
            "line": {
             "colorbar": {
              "outlinewidth": 0,
              "ticks": ""
             }
            },
            "marker": {
             "colorbar": {
              "outlinewidth": 0,
              "ticks": ""
             }
            },
            "type": "scatter3d"
           }
          ],
          "scattercarpet": [
           {
            "marker": {
             "colorbar": {
              "outlinewidth": 0,
              "ticks": ""
             }
            },
            "type": "scattercarpet"
           }
          ],
          "scattergeo": [
           {
            "marker": {
             "colorbar": {
              "outlinewidth": 0,
              "ticks": ""
             }
            },
            "type": "scattergeo"
           }
          ],
          "scattergl": [
           {
            "marker": {
             "line": {
              "color": "#283442"
             }
            },
            "type": "scattergl"
           }
          ],
          "scattermap": [
           {
            "marker": {
             "colorbar": {
              "outlinewidth": 0,
              "ticks": ""
             }
            },
            "type": "scattermap"
           }
          ],
          "scattermapbox": [
           {
            "marker": {
             "colorbar": {
              "outlinewidth": 0,
              "ticks": ""
             }
            },
            "type": "scattermapbox"
           }
          ],
          "scatterpolar": [
           {
            "marker": {
             "colorbar": {
              "outlinewidth": 0,
              "ticks": ""
             }
            },
            "type": "scatterpolar"
           }
          ],
          "scatterpolargl": [
           {
            "marker": {
             "colorbar": {
              "outlinewidth": 0,
              "ticks": ""
             }
            },
            "type": "scatterpolargl"
           }
          ],
          "scatterternary": [
           {
            "marker": {
             "colorbar": {
              "outlinewidth": 0,
              "ticks": ""
             }
            },
            "type": "scatterternary"
           }
          ],
          "surface": [
           {
            "colorbar": {
             "outlinewidth": 0,
             "ticks": ""
            },
            "colorscale": [
             [
              0,
              "#0d0887"
             ],
             [
              0.1111111111111111,
              "#46039f"
             ],
             [
              0.2222222222222222,
              "#7201a8"
             ],
             [
              0.3333333333333333,
              "#9c179e"
             ],
             [
              0.4444444444444444,
              "#bd3786"
             ],
             [
              0.5555555555555556,
              "#d8576b"
             ],
             [
              0.6666666666666666,
              "#ed7953"
             ],
             [
              0.7777777777777778,
              "#fb9f3a"
             ],
             [
              0.8888888888888888,
              "#fdca26"
             ],
             [
              1,
              "#f0f921"
             ]
            ],
            "type": "surface"
           }
          ],
          "table": [
           {
            "cells": {
             "fill": {
              "color": "#506784"
             },
             "line": {
              "color": "rgb(17,17,17)"
             }
            },
            "header": {
             "fill": {
              "color": "#2a3f5f"
             },
             "line": {
              "color": "rgb(17,17,17)"
             }
            },
            "type": "table"
           }
          ]
         },
         "layout": {
          "annotationdefaults": {
           "arrowcolor": "#f2f5fa",
           "arrowhead": 0,
           "arrowwidth": 1
          },
          "autotypenumbers": "strict",
          "coloraxis": {
           "colorbar": {
            "outlinewidth": 0,
            "ticks": ""
           }
          },
          "colorscale": {
           "diverging": [
            [
             0,
             "#8e0152"
            ],
            [
             0.1,
             "#c51b7d"
            ],
            [
             0.2,
             "#de77ae"
            ],
            [
             0.3,
             "#f1b6da"
            ],
            [
             0.4,
             "#fde0ef"
            ],
            [
             0.5,
             "#f7f7f7"
            ],
            [
             0.6,
             "#e6f5d0"
            ],
            [
             0.7,
             "#b8e186"
            ],
            [
             0.8,
             "#7fbc41"
            ],
            [
             0.9,
             "#4d9221"
            ],
            [
             1,
             "#276419"
            ]
           ],
           "sequential": [
            [
             0,
             "#0d0887"
            ],
            [
             0.1111111111111111,
             "#46039f"
            ],
            [
             0.2222222222222222,
             "#7201a8"
            ],
            [
             0.3333333333333333,
             "#9c179e"
            ],
            [
             0.4444444444444444,
             "#bd3786"
            ],
            [
             0.5555555555555556,
             "#d8576b"
            ],
            [
             0.6666666666666666,
             "#ed7953"
            ],
            [
             0.7777777777777778,
             "#fb9f3a"
            ],
            [
             0.8888888888888888,
             "#fdca26"
            ],
            [
             1,
             "#f0f921"
            ]
           ],
           "sequentialminus": [
            [
             0,
             "#0d0887"
            ],
            [
             0.1111111111111111,
             "#46039f"
            ],
            [
             0.2222222222222222,
             "#7201a8"
            ],
            [
             0.3333333333333333,
             "#9c179e"
            ],
            [
             0.4444444444444444,
             "#bd3786"
            ],
            [
             0.5555555555555556,
             "#d8576b"
            ],
            [
             0.6666666666666666,
             "#ed7953"
            ],
            [
             0.7777777777777778,
             "#fb9f3a"
            ],
            [
             0.8888888888888888,
             "#fdca26"
            ],
            [
             1,
             "#f0f921"
            ]
           ]
          },
          "colorway": [
           "#636efa",
           "#EF553B",
           "#00cc96",
           "#ab63fa",
           "#FFA15A",
           "#19d3f3",
           "#FF6692",
           "#B6E880",
           "#FF97FF",
           "#FECB52"
          ],
          "font": {
           "color": "#f2f5fa"
          },
          "geo": {
           "bgcolor": "rgb(17,17,17)",
           "lakecolor": "rgb(17,17,17)",
           "landcolor": "rgb(17,17,17)",
           "showlakes": true,
           "showland": true,
           "subunitcolor": "#506784"
          },
          "hoverlabel": {
           "align": "left"
          },
          "hovermode": "closest",
          "mapbox": {
           "style": "dark"
          },
          "paper_bgcolor": "rgb(17,17,17)",
          "plot_bgcolor": "rgb(17,17,17)",
          "polar": {
           "angularaxis": {
            "gridcolor": "#506784",
            "linecolor": "#506784",
            "ticks": ""
           },
           "bgcolor": "rgb(17,17,17)",
           "radialaxis": {
            "gridcolor": "#506784",
            "linecolor": "#506784",
            "ticks": ""
           }
          },
          "scene": {
           "xaxis": {
            "backgroundcolor": "rgb(17,17,17)",
            "gridcolor": "#506784",
            "gridwidth": 2,
            "linecolor": "#506784",
            "showbackground": true,
            "ticks": "",
            "zerolinecolor": "#C8D4E3"
           },
           "yaxis": {
            "backgroundcolor": "rgb(17,17,17)",
            "gridcolor": "#506784",
            "gridwidth": 2,
            "linecolor": "#506784",
            "showbackground": true,
            "ticks": "",
            "zerolinecolor": "#C8D4E3"
           },
           "zaxis": {
            "backgroundcolor": "rgb(17,17,17)",
            "gridcolor": "#506784",
            "gridwidth": 2,
            "linecolor": "#506784",
            "showbackground": true,
            "ticks": "",
            "zerolinecolor": "#C8D4E3"
           }
          },
          "shapedefaults": {
           "line": {
            "color": "#f2f5fa"
           }
          },
          "sliderdefaults": {
           "bgcolor": "#C8D4E3",
           "bordercolor": "rgb(17,17,17)",
           "borderwidth": 1,
           "tickwidth": 0
          },
          "ternary": {
           "aaxis": {
            "gridcolor": "#506784",
            "linecolor": "#506784",
            "ticks": ""
           },
           "baxis": {
            "gridcolor": "#506784",
            "linecolor": "#506784",
            "ticks": ""
           },
           "bgcolor": "rgb(17,17,17)",
           "caxis": {
            "gridcolor": "#506784",
            "linecolor": "#506784",
            "ticks": ""
           }
          },
          "title": {
           "x": 0.05
          },
          "updatemenudefaults": {
           "bgcolor": "#506784",
           "borderwidth": 0
          },
          "xaxis": {
           "automargin": true,
           "gridcolor": "#283442",
           "linecolor": "#506784",
           "ticks": "",
           "title": {
            "standoff": 15
           },
           "zerolinecolor": "#283442",
           "zerolinewidth": 2
          },
          "yaxis": {
           "automargin": true,
           "gridcolor": "#283442",
           "linecolor": "#506784",
           "ticks": "",
           "title": {
            "standoff": 15
           },
           "zerolinecolor": "#283442",
           "zerolinewidth": 2
          }
         }
        },
        "title": {
         "text": "CPU bound with SSE: Requests per second over time"
        },
        "xaxis": {
         "anchor": "y",
         "domain": [
          0,
          1
         ],
         "title": {
          "text": "Time (s)"
         }
        },
        "yaxis": {
         "anchor": "x",
         "domain": [
          0,
          1
         ],
         "title": {
          "text": "Requests per second"
         }
        }
       }
      }
     },
     "metadata": {},
     "output_type": "display_data"
    }
   ],
   "source": [
    "# Requests per second (RPS) over time with consistent colors\n",
    "import pandas as pd\n",
    "import numpy as np\n",
    "import plotly.express as px\n",
    "\n",
    "try:\n",
    "    COLOR_MAP\n",
    "except NameError:\n",
    "    COLOR_MAP = {'Dash': '#636EFA', 'Flash': '#EF553B'}\n",
    "\n",
    "# We treat 'offset' (s) as the event time; group by floor-second to compute RPS\n",
    "\n",
    "def compute_rps(df: pd.DataFrame) -> pd.DataFrame:\n",
    "    if 'offset' not in df.columns:\n",
    "        raise ValueError('CSV missing required column: offset')\n",
    "    t = df['offset'].astype(float).values\n",
    "    sec = np.floor(t).astype(int)\n",
    "    rps = (\n",
    "        pd.DataFrame({'sec': sec})\n",
    "        .value_counts()\n",
    "        .rename('count')\n",
    "        .reset_index()\n",
    "        .sort_values('sec')\n",
    "    )\n",
    "    rps['rps'] = rps['count']\n",
    "    rps = rps[['sec', 'rps']]\n",
    "    return rps\n",
    "\n",
    "\n",
    "def overlay_rps(df_dash: pd.DataFrame, df_flash: pd.DataFrame, scenario_title: str):\n",
    "    rps_dash = compute_rps(df_dash)\n",
    "    rps_dash['framework'] = 'Dash'\n",
    "    rps_flash = compute_rps(df_flash)\n",
    "    rps_flash['framework'] = 'Flash'\n",
    "    rps_all = pd.concat([rps_dash, rps_flash], ignore_index=True)\n",
    "\n",
    "    full_index = pd.DataFrame({'sec': np.arange(rps_all['sec'].min(), rps_all['sec'].max() + 1)})\n",
    "    out = []\n",
    "    for fw, sub in rps_all.groupby('framework'):\n",
    "        m = full_index.merge(sub, on='sec', how='left')\n",
    "        m['framework'] = fw\n",
    "        m['rps'] = m['rps'].fillna(0)\n",
    "        out.append(m)\n",
    "    rps_all = pd.concat(out, ignore_index=True)\n",
    "\n",
    "    fig = px.line(\n",
    "        rps_all,\n",
    "        x='sec', y='rps', color='framework',\n",
    "        markers=True,\n",
    "        labels={'sec': 'Time (s)', 'rps': 'Requests per second', 'framework': ''},\n",
    "        title=f\"{scenario_title}: Requests per second over time\",\n",
    "        color_discrete_map=COLOR_MAP,\n",
    "    )\n",
    "    fig.update_traces(mode='lines+markers')\n",
    "    return fig\n",
    "\n",
    "# Heavy network (nhv_*)\n",
    "fig_rps_nhv = overlay_rps(nhv_dash, nhv_flash, 'Heavy network')\n",
    "fig_rps_nhv.show()\n",
    "\n",
    "# CPU bound (cpu_*)\n",
    "fig_rps_cpu = overlay_rps(cpu_dash, cpu_flash, 'CPU bound')\n",
    "fig_rps_cpu.show()\n",
    "\n",
    "# CPU bound with SSE (cpu_w_sse_*)\n",
    "fig_rps_cpu_w_sse = overlay_rps(cpu_w_sse_dash, cpu_w_sse_flash, 'CPU bound with SSE')\n",
    "fig_rps_cpu_w_sse.show()"
   ]
  },
  {
   "cell_type": "code",
   "execution_count": 52,
   "id": "c39ca73e",
   "metadata": {},
   "outputs": [
    {
     "data": {
      "application/vnd.plotly.v1+json": {
       "config": {
        "plotlyServerURL": "https://plot.ly"
       },
       "data": [
        {
         "bingroup": "x",
         "histnorm": "probability density",
         "hovertemplate": "response-time=%{x}<br>probability density=%{y}<extra></extra>",
         "legendgroup": "",
         "marker": {
          "color": "#EF553B",
          "opacity": 0.75,
          "pattern": {
           "shape": ""
          }
         },
         "name": "",
         "nbinsx": 60,
         "orientation": "v",
         "showlegend": false,
         "type": "histogram",
         "x": {
          "bdata": "Xf5D+u3r+D9d/kP67ev4P4BIv30dOPk/ppvEILBy+T9vEoPAyqH5PzGZKhiV1Pk/E/JBz2bV+T8rhxbZzvf5P8WPMXctIfo/5fIf0m9f+j8hH/RsVn36P5SHhVrTvPo/BTQRNjy9+j+fPCzUmub6P588LNSa5vo/Ad4CCYof+z/FjzF3LSH7Px1aZDvfT/s/jgbwFkhQ+z+Zu5aQD3r7P2dEaW/whfs/93XgnBGl+z+hZ7Pqc7X7P/kx5q4l5Ps/d76fGi/d+z8sZRniWBf8P+Y/pN++Dvw/1zTvOEVH/D8Mk6mCUUn8PygPC7Wmefw/CmgibHh6/D9rK/aX3ZP8P+5aQj7o2fw/RGlv8IXJ/D+ZKhiV1An9P+JYF7fRAP0/eVioNc07/T/DZKpgVFL9P6abxCCwcv0/Z0Rpb/CF/T8OLbKd76f9P9O84xQdyf0/iIVa07zj/T8N4C2QoPj9P6MBvAUSFP4/9P3UeOkm/j+/fR04Z0T+P7aEfNCzWf4/gQTFjzF3/j8DeAskKH7+P9Pe4AuTqf4/H/RsVn2u/j96pSxDHOv+P5YhjnVxG/8/kQ96Nqs+/z/4wmSqYFT/P240gLdAgv8/MuauJeSD/z8EVg4tsp3/PyPb+X5qvP8/NIC3QILi/z9/+zpwzggAQARWDi2yHQBAVOOlm8QgAECe76fGSzcAQO58PzVeOgBA5IOezapPAEBPQBNhw1MAQEi/fR04ZwBAsAPnjChtAEDvOEVHcnkAQDVeukkMggBA1edqK/aXAEAfhetRuJ4AQKvP1VbsrwBAgEi/fR24AEAdWmQ7388AQDtwzojS3gBAY+5aQj7oAEDiWBe30QABQGFUUiegCQFA+n5qvHQTAUAbDeAtkCABQLsnDwu1JgFAGQRWDi0yAUAZc9cS8kEBQHBfB84ZUQFA4XoUrkdhAUBGtvP91HgBQIxK6gQ0kQFAwhcmUwWjAUBL6gQ0EbYBQCnLEMe6uAFAT0ATYcPTAUC2hHzQs9kBQKK0N/jC5AFAldQJaCLsAUCmCkYldQICQNIA3gIJCgJA7Z48LNQaAkAsZRniWBcCQK5H4XoULgJAuB6F61E4AkCeXinLEEcCQKyt2F92TwJAE2HD0ytlAkAukKD4MWYCQM4ZUdobfAJAZF3cRgN4AkD3Bl+YTJUCQOwvuycPiwJAkxgEVg6tAkDCFyZTBaMCQO58PzVeugJA2qz6XG3FAkCR7Xw/Nd4CQLMMcayL2wJAbcX+snvyAkArhxbZzvcCQB4Wak3zDgNAj8L1KFwPA0DCFyZTBSMDQFdbsb/sHgNAqz5XW7E/A0A9CtejcD0DQGb35GGhVgNAT0ATYcNTA0C28/3UeGkDQJhMFYxKagNAZMxdS8iHA0BkzF1LyIcDQAfOGVHamwNAGw3gLZCgA0C4HoXrUbgDQDMzMzMzswNAX5hMFYzKA0BVMCqpE9ADQMrDQq1p3gNAKxiV1AnoA0BCPujZrPoDQHGsi9toAARAuECC4scYBEAv3SQGgRUEQDarPldbMQRANqs+V1sxBECh1jTvOEUEQOCcEaW9QQRA4XoUrkdhBEAgQfFjzF0EQEI+6NmsegRAK4cW2c53BEDfT42XbpIEQE2EDU+vlARA7Q2+MJmqBEDPZtXnaqsEQL99HThnxARA2qz6XG3FBECR7Xw/Nd4EQHRGlPYG3wRALv8h/fb1BEAep+hILv8EQIJzRpT2BgVAQxzr4jYaBUBoImx4eiUFQFHaG3xhMgVAyeU/pN8+BUBSSZ2AJkIFQH2utmJ/WQVADAIrhxZZBUA/V1uxv2wFQKabxCCwcgVA1XjpJjGIBUBX7C+7J48FQHUCmggbngVAf9k9eVioBUCyLm6jAbwFQE7RkVz+wwVA3pOHhVrTBUCVZYhjXdwFQJXUCWgi7AVAeqUsQxzrBUDLoUW28/0FQOY/pN++DgZATYQNT68UBkASpb3BFyYGQBWMSuoENAZAKcsQx7o4BkAFo5I6AU0GQOtztRX7SwZAT6+UZYhjBkAX2c73U2MGQCSX/5B+ewZAgnNGlPaGBkC+MJkqGJUGQECk374OnAZA5x2n6EiuBkBUUiegibAGQP5D+u3rwAZAJ8KGp1fKBkD/If32deAGQFmGONbF7QZAQj7o2az6BkCSy39Iv/0GQMUgsHJoEQdAjErqBDQRB0DtDb4wmSoHQAskKH6MOQdA2qz6XG1FB0DGbTSAt0AHQH2utmJ/WQdA7lpCPuhZB0BMpgpGJXUHQNv5fmq8dAdA5j+k376OB0C30QDeAokHQCzUmuYdpwdAkDF3LSGfB0A6kst/SL8HQDcawFsgwQdAOwFNhA3PB0CiRbbz/dQHQACRfvs68AdAqRPQRNjwB0BGJXUCmggIQA5Pr5RlCAhAW9O84xQdCEBN845TdCQIQDojSnuDLwhARPrt68A5CEBt5/up8VIIQIcW2c73UwhAi/1l9+RhCECwA+eMKG0IQIXrUbgehQhAFD/G3LWECEAHzhlR2psIQCntDb4wmQhA097gC5OpCEAcfGEyVbAIQEtZhjjWxQhAlPYGX5jMCEDHSzeJQeAIQBNhw9Mr5QhATKYKRiX1CECBBMWPMfcIQJkqGJXUCQlADr4wmSoYCUCMuWsJ+SAJQFtCPujZLAlACyQofow5CUCh1jTvOEUJQH2utmJ/WQlAwFsgQfFjCUBMpgpGJXUJQMRCrWnecQlAwTkjSnuDCUBaZDvfT40JQKRwPQrXowlAQBNhw9OrCUCutmJ/2b0JQBb7y+7JwwlARdjw9ErZCUAT8kHPZtUJQBrAWyBB8QlAGsBbIEHxCUC30QDeAgkKQIJzRpT2BgpAGw3gLZAgCkDMf0i/fR0KQJ7vp8ZLNwpACyQofow5CkDKVMGopE4KQOELk6mCUQpAi/1l9+RhCkBCz2bV52oKQJm7lpAPegpAnDOitDd4CkAsZRniWJcKQMiYu5aQjwpAHHxhMlWwCkD0/dR46aYKQM3MzMzMzApAfT81XrrJCkB9rrZif9kKQOviNhrA2wpA+aBns+rzCkBWDi2yne8KQATnjCjtDQtAWmQ7308NC0C7Jw8LtSYLQIlBYOXQIgtAih9j7lpCC0C/fR04Z0QLQGb35GGhVgtAUrgehetRC0B6pSxDHGsLQI/k8h/SbwtA1XjpJjGIC0B4CyQofowLQFFrmnecogtAvp8aL92kC0DufD81XroLQBx8YTJVsAtAXCBB8WPMC0CvJeSDns0LQNSa5h2n6AtALpCg+DHmC0Cz6nO1FfsLQBQ/xty1BAxARpT2Bl8YDEDIBz2bVR8MQPtcbcX+MgxAkKD4MeYuDEAFo5I6AU0MQMDsnjwsVAxA78nDQq1pDEANcayL22gMQLByaJHtfAxAukkMAiuHDEDwFkhQ/JgMQOauJeSDngxAMzMzMzOzDEASFD/G3LUMQLmNBvAWyAxAuY0G8BbIDEAJih9j7toMQC6QoPgx5gxA6Ugu/yH9DEDpSC7/If0MQArXo3A9Cg1AZDvfT40XDUBEi2zn+ykNQOOlm8QgMA1A9dvXgXNGDUA0orQ3+EINQJjdk4eFWg1Ax0s3iUFgDUBMpgpGJXUNQG3F/rJ7cg1AOUVHcvmPDUDsL7snD4sNQFFrmnecog1AYTJVMCqpDUA6kst/SL8NQOCcEaW9wQ1AT0ATYcPTDUB3LSEf9OwNQBTQRNjw9A1AB1+YTBUMDkDY8PRKWQYOQIbJVMGoJA5A93XgnBElDkD7y+7Jw0IBQCPb+X5qPA5ArrZif9k9DkBcIEHxY0wOQFYOLbKdbw5AzojS3uCLDkAVHcnlP6QOQC/dJAaBlfw/I9v5fmq8DkA2qz5XW7H/Pz55WKg1zQ5AufyH9NvXAED8qfHSTeIOQBZqTfOOU/8/9pfdk4cFD0BhVFInoIkBQARWDi2yHQ9AIv32deCc/j+NKO0NvjAPQKVOQBNhQw9ARUdy+Q9pD0B7FK5H4XoPQGsr9pfdkw9A4C2QoPixD0D4wmSqYFQCQLKd76fGyw9A9pfdk4eFAkCzDHGsi9sPQPT91HjpJvw/HqfoSC7/D0DSAN4CCQoQQPAWSFD8GBBAjnVxGw0gEEB0tRX7yy4QQOeMKO0NPhBAMCqpE9BEEEDjx5i7llAQQP8h/fZ1YBBAApoIG57eAkCV1AloImwQQH6MuWsJeRBA+FPjpZuEEEDFjzF3LaEAQJM6AU2EjRBAJ8KGp1fKAkBXW7G/7J4QQJhMFYxKqhBAEFg5tMi2EEC8BRIUP8YAQFr1udqKvRBA0gDeAgnKEEC0yHa+n9oQQOF6FK5H4RBAkX77OnDO+z+oV8oyxPEQQG40gLdAAhFArWnecYoOEUCfPCzUmmYAQBUdyeU/JBFAk6mCUUmdAkA4Z0RpbzARQMnlP6TfPgFAW7G/7J48EUBMN4lBYOUCQO7rwDkjShFAZvfkYaFWEUDc14FzRpQCQMPTK2UZYhFAXf5D+u3rAUA9m1Wfq20RQDAqqRPQRAVAeekmMQisBUB6xyk6kksFQO58PzVeuhFA/Yf029eB/j9NFYxK6sQRQBgmUwWjkv0/ETY8vVLWEUBPr5RliOMRQDarPldb8RFAGQRWDi2yA0AhH/RsVv0RQL7BFyZTBRJAvHSTGAQWEkA5tMh2vh8SQMzuycNCLRJARPrt68A5EkAUP8bctQQIQDSitDf4QhJAZRniWBe3AUAOT6+UZYgFQHEbDeAtUBJAGJXUCWhiEkClLEMc6+L9P3ctIR/0bBJA0SLb+X7qAUCX/5B++3oSQMbctYR8UAJAEce6uI2GEkDfT42XbpISQEXY8PRKmRJAw/UoXI/CAECYTBWMSqoSQIEExY8xtxJA54wo7Q2+B0A0orQ3+MISQDGZKhiV1AZAHhZqTfPOEkAT8kHPZtUSQFInoImw4RJAS+oENBG2BEDjpZvEIPASQPOOU3Qkl/s/s+pztRX7EkDxY8xdSwgTQGb35GGhFhNAysNCrWkeE0D4U+Olm0QBQD9XW7G/LBNA1edqK/YXA0BdbcX+sjsTQLmNBvAWSBNAmnecoiO5/T9rK/aX3VMTQPtcbcX+MghAVp+rrdhfE0CdEaW9wRf/P/JBz2bVZxNAMLsnDwu1BEAPnDOitHcTQLprCfmg5wJAbHh6pSyDE0ClTkATYUMFQB4Wak3zjhNAyJi7lpAP/z+WIY51cZsTQGRd3EYD+AZAwhcmUwWjE0B2Tx4Was0AQOLplbIMsRNABTQRNjy9AUB24JwRpb0TQPaX3ZOHBQJAWmQ730/NE0DLEMe6uI39PwwCK4cW2RNAUI2XbhIDBUA4+MJkquATQM6qz9VW7BNA8rBQa5r3E0CoNc07TtEJQLfRAN4CCRRA+u3rwDkjAkC+MJkqGBUUQFpkO99PDQlAat5xio4kFECOdXEbDWADQEVHcvkPKRRAn82qz9XWB0BkXdxGAzgUQFjKMsSxrglANKK0N/hCFEAu/yH99nUDQI/C9ShcTxRA2/l+arx0BUA5tMh2vl8UQIlBYOXQIgRAumsJ+aBnFEB0RpT2Bt8AQGDl0CLbeRRADeAtkKD4CUD5D+m3r4MUQPs6cM6IkhRAtoR80LOZFECfPCzUmqYUQO/Jw0Kt6QVAR3L5D+m3FEBvgQTFjzEEQMnlP6TfvhRAAiuHFtnOBUDsL7snD8sUQBdIUPwY8wJA5q4l5IOeA0AldQKaCNsUQMKGp1fKMv8/gZVDi2znFEC9UpYhjvUUQMDsnjwsVABAxLEubqMBFUDzH9JvXwcDQJayDHGsCxVAz/dT46UbFUDjNhrAWyAIQMPTK2UZIhVAZ9Xnait2A0Cmm8QgsDIVQM9m1edqKwhA/kP67etAFUBaZDvfT00VQLTIdr6fWhVAfdCzWfU5CEDD0ytlGWIVQIj029eBc/w/MzMzMzNzFUDsUbgehesGQK36XG3FfhVAaCJseHql/D+yne+nxosVQHWTGARWjgZAhJ7Nqs+VFUC0WfW52or6P03zjlN0pBVAlWWIY13cA0DHuriNBrAVQDMzMzMzswJAXW3F/rK7FUB/+zpwzogAQN/gC5OpwhVAOUVHcvmPCkCJ0t7gC9MVQF66SQwCKwNAAd4CCYrfFUBU46WbxKAIQM9m1edq6xVAgQTFjzH3FUBYqDXNO84FQOeMKO0N/hVA5j+k374OFkAsZRniWBcWQI/k8h/SbwJA3EYDeAskFkAhsHJoke0GQG3F/rJ7MhZAdCSX/5A+FkCWsgxxrEsWQH9qvHSTWBZAGlHaG3xhFkAZc9cS8kEFQM9m1edqaxZAtaZ5xyl6FkCeXinLEIcWQOjZrPpc7QNAMZkqGJWUFkBSJ6CJsOELQCV1ApoImxZAfT81XrpJ/j+V1AloIqwWQGN/2T152AlAgEi/fR24FkBhw9MrZZkCQNxoAG+BxBZAUiegibBhCUAbnl4py9AWQILix5i7FgtA6+I2GsDbFkBEi2zn+6kBQPyp8dJN4hZAbAn5oGfzFkBYObTIdv4WQGkAb4EEBRdApN++DpwzBEBNhA1PrxQXQIXrUbgehQJAOPjCZKogF0DhC5OpglEMQGEyVTAqKRdAVcGopE5A+T+z6nO1FTsXQNIA3gIJCgRASZ2AJsJGF0DEsS5uo4EEQN9PjZduUhdAY+5aQj7oCkA+6Nms+lwXQFYOLbKdbwpAz2bV52prF0C28/3UeOkCQNbFbTSAdxdAF0hQ/BhzAUCIY13cRoMXQGx4eqUswwlAsp3vp8aLF0BIv30dOOcIQM/3U+OlmxdAGCZTBaMSB0DD0ytlGaIXQJhuEoPASgJAOiNKe4OvF0BZhjjWxW0MQAfwFkhQvBdAe4MvTKbKF0AcfGEyVTANQHe+nxovXQVAn82qz9XWF0D+Q/rt60ADQBfZzvdT4xdAjnVxGw1gCUA6I0p7g+8XQIC3QILix/o/I9v5fmr8F0BCYOXQItv9PyUGgZVDCxhA+1xtxf4yB0DaG3xhMhUYQO5aQj7o2QNATfOOU3QkGECLbOf7qTEYQHlYqDXNOxhARiV1AppIGECU9gZfmEz8P02EDU+vVBhA4zYawFtgGEBa9bnain0EQCQofoy5axhAZmZmZmZmA0Au/yH99nUYQFInoImw4QdASZ2AJsKGGEAibHh6pawHQMNkqmBUkhhAirDh6ZWyBUAHzhlR2psYQC9uowG8BQNA9bnaiv2lGED/If32dWAKQE8eFmpNsxhA3NeBc0YUCUBpAG+BBMUYQLdif9k9+Q1AOwFNhA3PGEDgvg6cM6L5PwmKH2Pu2hhAcT0K16NwBkCYTBWMSuoYQIqw4emVsgVAn6ut2F/2GEBYqDXNO84CQN/gC5OpAhlAMnctIR90BkDwp8ZLNwkZQEHxY8xdywtADr4wmSoYGUAi/fZ14BwLQBfZzvdTIxlACmgibHh6AkA/V1uxvywZQDQRNjy90gxAlIeFWtM8GUBfKcsQx7oKQGkAb4EERRlAat5xio5kCUARNjy9UlYZQPyp8dJNYgVANIC3QIJiGUCrz9VW7C8FQFjKMsSxbhlAlrIMcawLBkBfKcsQx3oZQIj029eBcwhAjNtoAG+BGUBLyAc9m1UGQIcW2c73kxlAZ9Xnait2DkDuWkI+6JkZQB4Wak3zjglAQs9m1eeqGUCC4seYuxYLQC1DHOvithlA30+Nl26SC0AbL90kBsEZQOOlm8QgsP0/ylTBqKTOGUC0yHa+n9oZQJEPejarPgpAUWuad5ziGUCze/KwUOsEQKabxCCw8hlAQxzr4jYaC0CuR+F6FC4IQF66SQwCKw5ASZ2AJsIGGkCgibDh6RUaQLWmeccpugJAat5xio4kGkDsUbgehesMQAskKH6MeRNABFYOLbIdCUDsUbgehSsaQACRfvs6cApAsHJoke08GkC8BRIUP0YaQOtztRX7yw1ANBE2PL1SGkCppE5AE2EaQHnpJjEIbBpAn6ut2F/2CEBkXdxGA3gaQOCcEaW9gRpAMuauJeQDB0AIrBxaZDsBQKW9wRcmkxpAkzoBTYQNCECQMXctIZ8aQCbkg57NqhpAtTf4wmQqB0Di6ZWyDLEaQHS1FfvL7vs/xyk6ksu/GkBbsb/snrwFQDy9UpYhzhpA9pfdk4cFDUAJih9j7toaQC6QoPgx5hpAGCZTBaMSC0Di6ZWyDPEaQFtCPujZLAdAOpLLf0j/GkDsUbgehesDQHrHKTqSCxtA5dAi2/l+/j9Q/Bhz1xIbQGN/2T152AtAbVZ9rrYiG0DhehSuR+H6P13+Q/rtKxtASL99HTjnAkAQWDm0yDYbQM4ZUdobfPs/CtejcD2KB0CjAbwFEhT7P4bJVMGoJBVAgZVDi2xnDUDD0ytlGSIVQG8Sg8DKoQBAUdobfGHyFEDzjlN0JBcMQJJc/kP6LRVATDeJQWDl+j/kg57Nqs8UQFdbsb/sHgJAQj7o2aw6FUC28/3UeOn6P2dEaW/whRRAO99PjZduBEAijnVxGw0VQM07TtGRXApAhjjWxW30FEBMN4lBYOUBQKpgVFInoP0/ejarPlebFEBzaJHtfL8MQLMMcayLmxRAw2SqYFTSFUCfPCzUmmYKQIEmwoanlxVAsAPnjCjtBEDtnjws1JoUQKK0N/jCpBVAS+oENBE2FUB7gy9MpsoUQEaU9gZfGANAOGdEaW+wFUDr4jYawBsVQHDOiNLeYABANxrAWyBBFUBGlPYGXxgCQEw3iUFgZRVA6gQ0ETa8FECmm8QgsHL8P2Kh1jTv+BRAeqUsQxzrB0DJdr6fGq8VQPOOU3Qklw5AC0YldQJaFUD1SlmGONYNQJXUCWgi7BVAbqMBvAUSBkA0ETY8vRIVQOjZrPpcrRVAr5RliGMdFUASFD/G3LUKQM/3U+OlWxNAhslUwaikE0DXEvJBzyYVQNxoAG+BBA1AorQ3+MKkE0BLWYY41kUJQP7UeOkmcRVAMnctIR/0/T8tQxzr4jYTQM9m1edqK/8/KcsQx7q4FUAZBFYOLbILQD9XW7G/7BJAkzoBTYSNBEB9PzVeukkWQMSxLm6jAQNA1sVtNIC3FEBBguLHmDsBQOzAOSNKexVAKVyPwvUoBEApyxDHurgUQNXnaiv2l/o/6bevA+dMFEBZF7fRAF4GQH4dOGdEaRNA097gC5OpA0DLoUW2830VQLsnDwu1JgZA93XgnBFlFUA/NV66SQwBQGuad5yioxVARGlv8IVJBEB3vp8aL10TQJ2AJsKGpwhALbKd76fGFUBQjZduEoMDQF3cRgN4yxNAWYY41sXtAUCDUUmdgKYTQO2ePCzUGghAZF3cRgM4FECOdXEbDWAHQBSuR+F61BRAF0hQ/BjzC0CJQWDl0KIVQH3Qs1n1uQVAoBov3SRGFEBGtvP91HgHQAtGJXUCWhVANjy9UpahA0Af9GxWfe4UQEymCkYl9QlAgLdAguIHFEAm5IOezeoVQLgehetRuABA1XjpJjEIFEBSJ6CJsOEFQAK8BRIUfxVAbHh6pSyDFEC0WfW52ooVQDqSy39IfxVAcF8HzhkRFkDyQc9m1ecDQIts5/up8QFAzTtO0ZFcFkBkO99PjZcGQMcpOpLL/xVAv30dOGfEA0D2KFyPwrUWQILix5i7FhdAO3DOiNLe/T9FR3L5D6kWQAtGJXUCmvk/qvHSTWKQFkAK16NwPQr/Pyv2l92ThxVARIts5/upBkBNFYxK6sQUQIqO5PIf0v4//fZ14JzRFUA0ETY8vdILQA1xrIvbqBZAWMoyxLEuAEBcIEHxY0wVQKYKRiV1AgZABcWPMXetFUC8dJMYBFb/P3xhMlUwqhZAApoIG54eFUDnHafoSC76P+AtkKD4cRdA78nDQq2pFUCCc0aU9gYHQMDsnjwsVBZA8kHPZtVnA0CUh4Va0zwWQCL99nXgHARAt9EA3gKJFkBd/kP67ev/P7G/7J48rBdAmN2Th4VaA0A8vVKWIU4WQKvP1VbsrwFA/yH99nUgFkCXkA96NusWQGiR7Xw/Nfw/3SQGgZUDF0BCYOXQItsBQIXrUbgehQJAMCqpE9DEBkDQRNjw9MoEQIj029eB8wdARGlv8IVJCUAUrkfhehQLQGHD0ytlmQhAke18PzVe/D+dgCbChicAQHctIR/0bPs/JuSDns2q+T9oke18PzUHQEI+6NmsegVA48eYu5YQCkCNl24Sg8ABQC9uowG8BQtA+n5qvHST/D9GlPYGXxgAQH0/NV66Sf4/16NwPQrXAEBWfa62Yn/8PzY8vVKWoQFAb4EExY8x+j9fKcsQxzoJQME5I0p7gwJAEoPAyqFFAUCh+DHmrmUVQDQRNjy9khZAke18PzXeBkDx9EpZhngRQPvL7snDghNAVg4tsp3v+z/7XG3F/rIXQIbJVMGoZBJAPujZrPpcE0BaZDvfT40WQPMf0m9fhwBAt2J/2T15DEB0tRX7y24BQBWMSuoEtBRAKqkT0ETY+z+oxks3iUEKQPhT46WbhBdAhetRuB6FBUC8dJMYBFYKQClcj8L1KAhAAU2EDU+vFUB/arx0kxgDQM07TtGRXABAGeJYF7fR/T9os+pztRX8PyNKe4MvTBZAkKD4MeYuEkCfzarP1dYGQKRwPQrX4xJARUdy+Q8pFkC8dJMYBFb8Pyo6kst/SBNAC7WmecepA0AW+8vuyQMWQIPAyqFF9hRAkQ96Nqs+FEBtxf6ye7ISQDvfT42XbgtAs3vysFCrF0AVjErqBLQLQNobfGEyFRNA/yH99nXgBkC5/If021cYQG3F/rJ7cgdAIbByaJHtFkDwhclUwagJQEI+6NmsuhhAKcsQx7q4C0Aj2/l+ajwFQMZtNIC3gBZAHThnRGnvB0BU46WbxCAXQNJvXwfOmQhARdjw9EqZFUBR2ht8YTIUQI2XbhKDwAdAyAc9m1WfA0BJnYAmwgYYQMnlP6TfvgBAIR/0bFb9F0C+nxov3SQGQF+YTBWMihRAdLUV+8tuB0Dl8h/Sb18ZQJHtfD81XgtAQBNhw9MrE0CF61G4HoUKQLHh6ZWyDBlA5q4l5IMeCEBCPujZrLoWQKHWNO84xQRAdEaU9gafGUDRkVz+Q/r8P/fkYaHW9BVAYhBYObTI/j/1SlmGOFYDQD0K16NwPQpA1XjpJjEI/D/pJjEIrBwJQLfRAN4CCfw/UPwYc9eSD0DXEvJBz2YGQJvmHafoCBRAOGdEaW/w+z8CK4cW2Y4RQJ2AJsKGJwdAbxKDwMohF0Dwp8ZLN4kFQGlv8IXJlBlAlrIMcayLDEBXW7G/7F4UQOviNhrAWwBA8rBQa5r3F0BkXdxGA/gEQJT2Bl+YzBNAdk8eFmrNAEBApN++DtwSQA4tsp3vpwxAE/JBz2YVF0AUrkfhehQEQHDOiNLeIBBAqMZLN4lBCUBb07zjFJ0OQFjKMsSxLgVAZmZmZmbmDkBPHhZqTfMFQMPTK2UZ4hdA2c73U+OlCUCRD3o2q74SQILix5i7FgxAoyO5/Id0EEBeukkMAiv9P/W52or9JRZAsHJoke18DECMSuoENBEKQEaU9gZfGAxAhA1Pr5TlBUAB3gIJip8LQJOpglFJHQ9AQBNhw9OrBEC9UpYhjvUGQO/Jw0Kt6QBAKH6MuWsJGECcM6K0NzgXQBpR2ht84Q9ATtGRXP5D+T/DZKpgVFIZQA+cM6K0NxtATfOOU3SkCkBq3nGKjiQZQBniWBe30QlA3gIJih/jBUCcoiO5/EcXQAAAAAAAAABAbjSAt0DCEED3deCcEaUFQERpb/CFSQNA9+Rhoda0GUAVHcnlP2QVQB3J5T+k3wZA/yH99nXgBECz6nO1FbsSQK8l5IOejRdAxm00gLfAAUBYObTIdn4UQLPqc7UVewZAFYxK6gQ0CkAep+hILn8AQMNkqmBU0hNA1edqK/aX/j8FxY8xd60KQIofY+5awgVA/kP67evAF0By+Q/pt6/+PyEf9GxWfQ1AysNCrWleAUDUK2UZ4lgWQBrAWyBB8f4/KxiV1AnoDkDlYaHWNO8LQIts5/upMRlArIvbaADvC0ApyxDHurgOQCzUmuYdp/o/gQTFjzG3GkCNl24Sg8AGQEcDeAskKBRAHqfoSC7/BEAgQfFjzN0VQNQrZRniWPw/V1uxv+yeGkCLbOf7qfEIQFyPwvUoHBlAutqK/WX3CkAtsp3vp8YPQKfoSC7/oQNAEHo2qz7XAkD7y+7Jw8IHQBE2PL1SFgRAd76fGi/dAUDcRgN4C+QbQPhT46WbxANAUrgehetRBkD/snvysNAGQO58PzVeOgpABcWPMXct/D8s1JrmHaccQBBYObTIdgxAqaROQBOhEEBDHOviNhr5P7TIdr6fGgNAVg4tsp3v/T9jf9k9eRgaQCUGgZVDiwtA/Yf029fBGkBVMCqpE1AMQDarPldbMQhAHOviNhrAAkAX2c73U6MXQLgehetRuAdA+Q/pt69DEEBTBaOSOoEDQPKwUGua9wNA0NVW7C87DEDyQc9m1WcXQBIUP8bctQxAETY8vVIWEEDswDkjSvsOQHgLJCh+DAxARUdy+Q/pGUBbQj7o2awEQH6MuWsJORVAaCJseHolCkDP91PjpZsEQLWmeccp+hNACyQofow5BUDEsS5uo8EYQI2XbhKDwApApN++DpzzGUAT8kHPZtUIQA3gLZCgeAZAAAAAAAAADEBHA3gLJKgNQARWDi2ynQJAwcqhRbazEECWIY51cZsKQCfChqdXihFAmnecoiM5DkBEi2zn+6kLQDy9UpYhDgBAeekmMQisGUDA7J48LFQFQLHh6ZWyjBhA7C+7Jw+LD0DCFyZTBSMIQPCFyVTBKABA+THmriXkDkDXo3A9CtcLQDvfT42XbhxAUdobfGGyBUBg5dAi2/kHQOjZrPpc7QpAnYAmwoZnF0DMXUvIB70YQB4Wak3zDgdAFmpN847TE0D5oGez6nMKQLaEfNCz2RRAiUFg5dAi/D8HzhlR2psHQFJJnYAmQhFAOGdEaW9wBkBv8IXJVEEEQOXQItv5vhNATtGRXP5D/T8CK4cW2c4HQD9XW7G/bAhAHhZqTfMODUBwzojS3uACQGEyVTAq6RZAZapgVFInBECsi9toAG8EQBzr4jYawBNAdnEbDeAtBkB2cRsN4C0EQNobfGEy1QRAT0ATYcNTC0CVZYhjXVwEQBiV1Alo4hlAD5wzorQ3DkCTqYJRSd0UQKVOQBNhQwFAwaikTkATD0DAWyBB8SMdQBNhw9Mr5QJAsHJoke38E0C+nxov3ST+P0w3iUFgZRlAGlHaG3zhCkDImLuWkI8dQPtcbcX+sv0/taZ5xym6CEANcayL22gLQJ0Rpb3BlxxAqRPQRNjw/D/l8h/Sb18fQDPEsS5uoxNAfGEyVTAqEUBvEoPAyqH9P1OWIY51MRZAPSzUmuYd/z+30QDeAokLQDEIrBxa5BFADAIrhxbZCUCUh4Va07wUQBBYObTINhtAWDm0yHa+CUAGEhQ/xlwdQJLLf0i//QpA097gC5OpDkACK4cW2c4VQI/C9ShcjwVAXdxGA3iLC0AwuycPCzUDQPW52or9JRdAY3/ZPXlY/D/HKTqSyz8bQN9PjZduEvs/pb3BFybTH0DF/rJ78jAFQL1SliGO9RlAT0ATYcPTAkBgdk8eFmocQM9m1edqK/s/S8gHPZsVIEBmZmZmZuYBQMBbIEHxIx1A5/up8dJNBUBWfa62Yj8aQN5xio7kcgxAysNCrWneGUBmZmZmZmYFQLHh6ZWyDBZAGeJYF7dRBECNKO0NvvAfQDeJQWDl0ANAiIVa07yjH0D7OnDOiNIHQKK0N/jCZAtAD5wzorS3AEB4eqUsQxwIQGEyVTAqKQhAhA1Pr5SlGEB56SYxCKwMQFfsL7snzx9AhxbZzvdTB0D129eBc0YYQCgPC7Wm+QFArkfhehSuDED1SlmGONb/P1TjpZvEIAtAAAAAAAAACUDf4AuTqYIbQH9qvHSTGAtAhlrTvONUHEBzaJHtfD8HQA1xrIvbKB1AFD/G3LWEBkDQ1VbsL3sgQHuDL0ymighAQ61p3nEKD0DNzMzMzMwFQOC+DpwzYhRABOeMKO0NBkDdJAaBlcMXQKRwPQrXowVAObTIdr4fE0Drc7UV+8v6P2kAb4EEhRdAfGEyVTCqDEDeAgmKH2McQKyt2F92zwhAAJF++zowEUBg5dAi2/n7P68l5IOezRJAxY8xdy0hA0Dc14FzRlQXQGDl0CLb+QpAMuauJeRDH0BvgQTFjzEUQKqCUUmdgANAw/UoXI8CFUBWDi2yne8WQLbz/dR46QhAb/CFyVSBHUD9h/Tb1wECQMsQx7q4DRJApHA9CtcjC0Bd/kP67WsCQEJg5dAimx1ADAIrhxbZAkCGONbFbfQeQCnLEMe6uP4/mnecoiO5G0Bv8IXJVGEgQDy9UpYhDhRA16NwPQrXAUA7AU2EDc8CQPCnxks3yRpApU5AE2FDAUC8dJMYBFYRQLG/7J487BFAHcnlP6RfCUCsHFpkO98AQISezarPVR9AoyO5/Id0BkDG3LWEfNAUQEi/fR045wpABoGVQ4tsEUDFjzF3LSECQNc07zhFRw1AlIeFWtO8CEBsCfmgZ3MgQMxdS8gHvRxAPE7RkVz+B0BxGw3gLVAWQHrHKTqSSwRA9pfdk4cFE0Dek4eFWtMTQC0hH/RsVh5Ae4MvTKaKDECGyVTBqGQfQET67evAOQFAkQ96Nqt+F0Bpb/CFyVQEQMKGp1fKMh9A54wo7Q3+GUACmggbnl4CQKabxCCw8hBA5x2n6EguAkAi/fZ14BwEQE7RkVz+Q/s/AU2EDU8vBkBt5/up8VIBQEGC4seYOwRA16NwPQrXAEAdOGdEae8VQMgHPZtVnwRAdEaU9gZfEUAukKD4MWYMQDSAt0CCIhJAQKTfvg6cAUA9m1Wfq+0dQHQkl/+QfgJAMlUwKqnTF0A0orQ3+ML5P2N/2T15mBdAD5wzorR3EECutmJ/2T0CQPXb14FzhhJAs+pztRX7BkDMf0i/fV0WQGB2Tx4WahxAjLlrCfkgAkBWfa62Yj8gQDvfT42Xrh9Agy9MpgqmIUCn6Egu/6EgQBsv3SQGARRApb3BFybTB0Byio7k8h8PQCfChqdXShZAN4lBYOXQAEDHSzeJQSATQF+YTBWMyghAi2zn+6nx/D9TliGOdTEYQNO84xQdyQdAn82qz9VWFkAi/fZ14BwAQCNKe4MvTB5AiUFg5dAi/z/GbTSAtwAWQB3J5T+knxZAR3L5D+nXIUDVCWgibPggQNbFbTSA9xdA4L4OnDOiC0BYyjLEsW4VQJhMFYxKagBACfmgZ7OqFkDbiv1l9+T8P/Mf0m9fhxRAwaikTkAzIkCJQWDl0CL7PzY8vVKWYRRAumsJ+aDnBEBlqmBUUqcgQBZqTfOOU/0/qoJRSZ3AIUAjSnuDL0z9P4y5awn54B1AswxxrIvb+T9E+u3rwHkTQOXQItv5fgBATfOOU3RkIkAZc9cS8sEaQECk374O3B9AGy/dJAaBEEDNO07RkVz5P1dbsb/sXhZAHHxhMlVQIEBGtvP91HgHQHe+nxovnSFAGy/dJAaBBkDswDkjSpshQFyPwvUoXARAp3nHKTqSG0C5/If029f/Pz7o2az63BtAJ8KGp1dKBUBNhA1PrxQWQEaU9gZfmPw/oImw4elVHUCoxks3iUEIQApoImx4OhdA2T15WKg1A0A730+Nl+4UQEw3iUFg5QRAbVZ9rrYiGEDSAN4CCYoYQF1txf6yeyJApHA9CtdjEkA0gLdAgmIAQFRSJ6CJcB5AqmBUUidAIkCNl24Sg0AKQGZmZmZm5hZAbef7qfHS/z8bDeAtkIAgQNlfdk8eVhRAW7G/7J48FEDXNO84RUcXQKMBvAUSFAVAK4cW2c63IkAs1JrmHScUQBniWBe3UQNAOiNKe4OPIkARx7q4jUYhQD0s1JrmnQpARrbz/dS4IkCe76fGS7cSQC/dJAaBlQRAcM6I0t5gHkAPC7WmeUcGQOLplbIMMRpAFYxK6gS0CUBv8IXJVAETQNzXgXNGFABAv30dOGeEEkAtQxzr4rYJQMrDQq1pXgFASZ2AJsKGHkAcfGEyVTAXQNxoAG+BhAlAQfFjzF1LE0DByqFFtvMAQNUJaCJs2CJAhetRuB6FBUC94xQdyeUhQK36XG3FfglAJJf/kH77CUC0yHa+nxoVQOxRuB6FaxtAkxgEVg6tAECRfvs6cA4hQDBMpgpGpQFArkfhehSuE0Ba9bnaiv0JQH/ZPXlYCCFAsb/snjws+z/FILByaFEhQM/3U+OlGwZAexSuR+G6H0CWQ4ts5/sLQAskKH6MORZABTQRNjw9BUDWxW00gPceQB04Z0Rpbx9A54wo7Q1+FEDChqdXyjIUQF5LyAc9m/o/+zpwzoiSEkC0yHa+n9oXQFjKMsSxbhhA5q4l5IOe/D9MN4lBYGUaQHrHKTqSixpAEHo2qz5XG0Dn+6nx0k0MQG8Sg8DK4RxAwoanV8qSIECDUUmdgCb/P4Lix5i7lh5A0SLb+X5qAkAQejarPlcgQJEPejarvgZAKe0NvjBZFEAvbqMBvEUXQGq8dJMYBBZARdjw9EpZFkBaZDvfT40LQA5Pr5RlSB5Aak3zjlM0FUCmCkYldUIgQAN4CyQo/gZAxSCwcmiRDkC30QDeAokJQGsr9pfd0xVALv8h/fb1AkBTliGOdfEQQKrx0k1ikA1AduCcEaU9DkBCz2bV52oLQC0hH/RsFh1A/7J78rDQCkAjSnuDLwwXQDLmriXkgwhALGUZ4lgXGkCYTBWMSmoIQE8eFmpNcw9A78nDQq3pC0CjkjoBTYQdQH4dOGdEaQtALpCg+DEmIEB0tRX7y24DQI4G8BZI0B5Au7iNBvAWCkBkO99PjZcfQPCnxks3if8/zqrP1VasIEBCYOXQItsJQIxK6gQ0ERxADeAtkKD4CkB5WKg1zXsdQCKOdXEbjQFA097gC5MpGUCxv+yePCz6P1D8GHPXsiBAysNCrWleCkDarPpcbUUhQF+YTBWMygVAvHSTGAQWIECIY13cRoMEQL1SliGO9R1Ag8DKoUW2BkD+ZffkYWEYQBDpt68D5wZAj8L1KFyPEECUh4Va07z/P+AtkKD4sRVAtMh2vp8aCECEDU+vlGUgQEa28/3UeAdAKVyPwvUoGEBq3nGKjmQLQCNKe4MvTBtAaW/whck0IEDZzvdT46UCQCEf9GxWPRBA2/l+arx0AUCuR+F6FI4hQIcW2c73UwlAbVZ9rrYiF0ASpb3BFyb/P6vP1Vbs7xxAhA1Pr5RlBkAqqRPQRJgaQO5aQj7oWQFAINJvXweOHUA+6Nms+twDQOxRuB6FaxFAhJ7Nqs9VAUDBOSNKe0MbQHQkl/+QfgJAAJF++zowEUAPnDOitDf/P3zysFBrWh5AeJyiI7l8CkD2KFyPwrUgQNlfdk8eFgBA2c73U+OlEkAofoy5awn/P0Mc6+I2WiBAhjjWxW20DEAsZRniWNcaQH9qvHSTGA1AgZVDi2znEUBqvHSTGAQAQGKh1jTvmCFAexSuR+F6CkA4+MJkqiARQAkbnl4py/0/8x/Sb19HGkAUP8bctQQAQLRZ9bnaChtAgy9MpgrGCEDo2az6XG0gQI/k8h/S7wlApgpGJXUCHkAQejarPtcKQE+vlGWIwyBAhJ7Nqs9VC0CGWtO841QZQIJzRpT2BgVA3nGKjuQSIUBYObTIdr4LQHUCmggbXhZArthfdk8e/T/SAN4CCYoVQLyWkA96tgdA4JwRpb0BIUBDHOviNhohQKs+V1uxPwNA+n5qvHSTIUBB8WPMXUv7P8GopE5AUxZACtejcD0KBUCTOgFNhA0fQCEf9GxW/QdA0gDeAglqIUDT3uALk6kKQAIrhxbZThJAnzws1JrmC0CLbOf7qfEKQCbkg57NKhtANV66SQxCHEANcayL2ygfQECk374OnP8/vHSTGAR2IkCt+lxtxX4CQGb35GGh1glAnDOitDf4HUAYJlMFo1IWQCfChqdXygRAZDvfT40XGUB4eqUsQxwHQOC+DpwzQiJAAJF++zrwIEBSuB6F69EfQF3+Q/rtKyBAI0p7gy9MBkAZ4lgXt1ESQL6fGi/dJAVAEFg5tMj2G0A0orQ3+IIZQOxRuB6F6wpAkzoBTYStIUDXNO84RQcaQE+vlGWIgyFAe4MvTKZKIEAIrBxaZDsHQMBbIEHxgyFABFYOLbKd/z+0yHa+n5oaQNIA3gIJihdASnuDL0zmGEC9UpYhjvUDQKd5xyk6Uh1AmSoYldQJAkA2qz5XW/EbQGiz6nO1Ffs/dLUV+8tuH0AgQfFjzB0gQNzXgXNGlAxA5q4l5IMeGEDWVuwvuyf8PxWMSuoEtCBAJzEIrBxaAkCq8dJNYvAgQG40gLdAAgZAKH6MuWsJIUDRItv5fmoKQPmgZ7Pqsx5APQrXo3A9A0AVjErqBDQTQKRwPQrXowNAHqfoSC6fIUAH8BZIUPwAQAkbnl4piyBAoImw4emV+z9cj8L1KDwhQE9AE2HDUwJAMEymCkalIkBOYhBYObQJQLfRAN4CKSFA4C2QoPixCEBIUPwYc5cUQBniWBe3UQtA9P3UeOkmHkCKjuTyH9IDQF3cRgN4Sx9AArwFEhQ/AUAkl/+QflshQGfV52ordgdA2qz6XG1FE0B9PzVeukn8P+jZrPpcbRVAeVioNc07DEBVMCqpExAjQCPb+X5qvABAhXzQs1m1GkDFILByaBEHQArXo3A9igpAu7iNBvCWIkCQoPgx5i4KQOQUHcnlfxhAINJvXwdOAUBQ/Bhz1/IhQKK0N/jCZAlA6Nms+lxtE0C+wRcmU4UGQAK8BRIU3yBAFNBE2PB0HEA2qz5XW7EFQB/0bFZ9bhVAPujZrPr8IEARNjy9UhYGQLraiv1ltxNAUWuad5wiA0CamZmZmRkbQKs+V1uxPwxAEOm3rwMnGUDTvOMUHckGQFioNc07jhZAodY07zhFCUDjx5i7ltAYQEHxY8xdSwFAx7q4jQYwGUCV1AloIuwEQPwYc9cSMhRA0SLb+X5q/j+eXinLEIccQEXY8PRK2QhAuECC4sdYFEAijnVxG40FQFCNl24SAxxAxLEubqMBC0CjkjoBTUQZQA6+MJkqGABADXGsi9soF0DOqs/VVmwIQPT91HjpJhZAx0s3iUFg/z+OdXEbDSAaQOVhodY07wlAAwmKH2PuFECWsgxxrAsCQAisHFpkuxlAu7iNBvAWC0Bcj8L1KFwZQARWDi2ynQZAnzws1JpmFEB/arx0kxj6P3lYqDXN+xVAbcX+sntyAUDWVuwvuycXQBE2PL1SFgRAwcqhRbZzFEB9PzVeukkCQJqZmZmZmRdAwcqhRbbzCUD67evAOeMWQMiYu5aQDxRA3bWEfNCzBkBxPQrXo3AXQD0s1JrmnQpAdCSX/5C+F0CHFtnO91P9P+hqK/aXHRZA4umVsgzxA0C6awn5oKcVQIV80LNZ9QxAEce6uI3GE0C0WfW52soUQG40gLdAQhVAFmpN845TDEBmZmZmZmYUQCntDb4wWRRA1XjpJjEI/j8PnDOitHcUQHL5D+m3bxVA7nw/NV66+T+WIY51cZsDQOQUHcnlPwZAtoR80LNZ+j9Q/Bhz1xICQH3Qs1n1eRVAc2iR7Xw/F0BLWYY41kUFQGIQWDm0yBRAufyH9NtXCkDarPpcbUUYQFjKMsSxbhdAA3gLJCj+B0Dwp8ZLNwkXQKHWNO84hRVAvw6cM6K0FUBeukkMAqsVQEjhehSuRwpA3bWEfNDzF0C1pnnHKToXQIPAyqFFthVAUiegibBhCkCcxCCwcugXQJHtfD81XgNATmIQWDm0FUASg8DKoUUDQGpN845T9BdAwFsgQfFjBEAldQKaCFsXQI51cRsNYAdATDeJQWBlFUAeFmpN844AQMpUwaikThVAveMUHcmlFUCgGi/dJAYHQPCnxks3CRZAUiegibBhA0Ac6+I2GoAVQNO84xQdCRZAguLHmLuW+j/y0k1iEFj7P1kXt9EAnhZAiGNd3EbDFkAUrkfhehQEQMrDQq1pXghA4L4OnDPiFUAOT6+UZYgWQFvTvOMUHfw/ZapgVFInDEAsZRniWNcVQNuK/WX3pBRAhlrTvOPUFEAbL90kBoH/P+LplbIMsRNAGsBbIEGxE0D7XG3F/rIEQGZmZmZm5hVA6gQ0ETa8AEBwXwfOGVEUQL1SliGO9QVAApoIG54eFUBFR3L5D+kKQJtVn6utmBNAhlrTvOMUBEBb07zjFF0UQBQ/xty1hAFAcayL22jAFUB56SYxCKwJQIts5/up8RRAeekmMQis+j+28/3UeGkVQJ88LNSa5gFA7uvAOSMKFkDNO07RkVwFQAwCK4cW2RVAFR3J5T+k/D+5jQbwFggUQKCJsOHplQFA/yH99nUgFECJQWDl0CIDQGgibHh65RRAUI2XbhKDFEDqlbIMcawAQOkmMQisnBVATmIQWDm0FEAkl/+QfjsVQAYSFD/GnBVAy6FFtvP9FUCZu5aQD/oUQL99HThnxBZAnMQgsHJoDEDvOEVHcjkVQL3jFB3JZQZAQBNhw9NrFUCwcmiR7fwDQA5Pr5RlCBVAbef7qfHSC0Dwp8ZLNwkWQM3MzMzMzAlAxf6ye/LwFUD0/dR46aYUQIofY+5awgJADi2yne8nFUD+1HjpJjH+P18pyxDHugpATtGRXP6DFUCU9gZfmEwGQIbJVMGoJBZAV+wvuycP/T/mP6Tfvs4WQIBIv30duARAzczMzMxMF0AKaCJseDoVQD/G3LWEPBdAKH6MuWsJF0BNFYxK6gT6PyEf9GxWvRVAUrgehetRFkBCz2bV56oXQNGRXP5DOhVAf2q8dJMYF0D4wmSqYJQWQOkmMQisHAhAnDOitDe4FUBXW7G/7J7+P/Xb14FzxhdAt9EA3gKJCUAVHcnlP2QXQME5I0p7gwlAi/1l9+ShF0Btxf6ye/L8P3DOiNLeoBZAfPKwUGsaCUBiEFg5tMgWQJp3nKIjufw/oImw4enVFUBxPQrXo/AXQFdbsb/sHgZAEOm3rwOnF0DXNO84RccDQEVHcvkP6fo/EOm3rwNnAEAFxY8xdy0FQNSa5h2naAtA9P3UeOkmBECitDf4wmQDQAskKH6MOQVA3nGKjuRyB0B0tRX7y24KQJHtfD81XgRATDeJQWDlBUC1FfvL7kkHQE2EDU+vlP8/i2zn+6nx+j8v3SQGgZX/PxpR2ht8YQxA5IOezarPBEDBqKROQBMGQLhAguLHGANALSEf9GxWBkC+MJkqGBUEQG40gLdAgglA48eYu5YQC0CYbhKDwMoCQC0hH/RslhRARUdy+Q8pFkDLEMe6uE0WQEmdgCbCxhRANV66SQwCB0DpJjEIrBwXQB+F61G4HgpA0LNZ9blaFUC5/If021cBQGN/2T15GBVA/Yf029cBB0BeukkMAisRQLN78rBQ6wlAH4XrUbgeFEAawFsgQfH8P1RSJ6CJ8BFA3pOHhVrTAkCgGi/dJAYMQJSHhVrT/BNAqMZLN4lBAEAeFmpN884TQHnpJjEIrP4/aCJseHplF0D+ZffkYaELQHicoiO5fBJAuB6F61G4CECuR+F6FC4RQNUJaCJseAtAI0p7gy8MFUCBlUOLbOcJQGq8dJMYBAJA9GxWfa52F0BPr5RliOMKQG8Sg8DKIRJAHThnRGlv/D8bnl4py1AUQBueXinLUBRA4lgXt9GACUB6Nqs+V1sYQGEyVTAqqfs/INJvXwdOCkD35GGh1vQUQAyTqYJRiRZA3pOHhVrT/z/kFB3J5f8XQCGwcmiR7fo/guLHmLsWFkBTBaOSOoEJQC1DHOvi9hZA4XoUrkfh/j96xyk6kksYQIEmwoanlxVAETY8vVIWBECX/5B++/oRQDEIrBxaZANA9dvXgXOGE0ARx7q4jQYHQLraiv1lNxJAj8L1KFyPAUAPnDOitDcEQKRwPQrXowhA1JrmHadoC0ASpb3BF6YEQHqlLEMcqxhAWvW52oo9GEDOqs/VVmwMQDJ3LSEfNBdAu7iNBvBWE0D+Q/rt64AUQKMjufyHdAlAFR3J5T/kF0CI9NvXgfMJQNO84xQdiRNAhslUwagkCkBn1edqKzYWQDLmriXkAwdAFD/G3LXEFUAbL90kBoEKQOeMKO0N/hZAKqkT0ETY+j8ibHh6pewSQJ7vp8ZLNxhA+aBns+rzCkDiWBe30YAZQE+vlGWI4wlAgLdAguJHCkDufD81XroEQFfsL7snjxZAIGPuWkK+CUA2zTtO0dEUQOVhodY0LxhAorQ3+MJkBUAAkX77OrAVQKK0N/jCZAVAVFInoIlwFUArGJXUCWgFQMxdS8gHPQtA24r9ZfekFEBRa5p3nCIBQPJBz2bVpxZAio7k8h/SCkDb+X5qvPQVQBDpt68DJxhAw9MrZRliBkAMAiuHFtkUQD7o2az63AFANqs+V1vxF0CuR+F6FK4KQAXFjzF37RhAC7WmecepBECcxCCwcmgEQI2XbhKDwANAlkOLbOf7GEC7uI0G8JYBQFvTvOMUXRJACD2bVZ+rBECrz9VW7C8WQCbkg57NKgdAZvfkYaGWFEDpJjEIrBz6PwU0ETY8PQxAQmDl0CLbA0AhH/RsVn3+P7mNBvAWiBVAYVRSJ6BJFkBGlPYGX5gJQGB2Tx4WqhVAorQ3+MLkCEDQ1VbsL7sYQDxO0ZFc/glAbVZ9rrYiGEAzMzMzMzMJQPyp8dJN4hpAUrgehetRDED/snvysFARQEmdgCbChgdAUrgehetRBUDr4jYawJsSQHNoke18Pw9AvsEXJlMF+z8OT6+UZQgaQCo6kst/yAlAI0p7gy+MEkBU46WbxCAFQNobfGEy1QVAJCh+jLnrBEB0JJf/kD4QQLpJDAIrhwFAescpOpLLB0C4HoXrUbgFQNNNYhBYuRBA/7J78rDQC0AB3gIJip8GQDhnRGlvcApA9ihcj8J1FEBxPQrXo3AHQN0kBoGVQxFAyXa+nxovDUCDL0ymCgYSQEtZhjjWRQlAAJF++zqwFUCDwMqhRbYCQNk9eVioNRhAqRPQRNhwB0BWfa62Yr8RQJLLf0i//QBAeekmMQgsFUDuWkI+6FkHQFK4HoXrURJARGlv8IVJAkBQjZduEoMVQHrHKTqSSwhA1sVtNIA3CkBt5/up8ZIaQFmGONbF7QFACtejcD0KE0AsZRniWBf/P6+UZYhj3RFAfGEyVTCqA0AgY+5aQv4VQE2EDU+vlBlA48eYu5YQCUCze/KwUGsPQHZxGw3grQhAvp8aL90kGUAbDeAtkCAAQKCJsOHpVRlAQxzr4jYaC0Dwp8ZLN4kJQHzysFBrmvw/TDeJQWDlD0CdgCbChqcBQA4tsp3vpwhAs3vysFDrB0C0yHa+n5oaQOoENBE2vARANe84RUfyFkBmiGNd3MYBQGTMXUvIhw1AB/AWSFD8AkAep+hILn8DQFkXt9EAXgZA7Z48LNQaEUDLoUW28/0IQC9uowG8hQVAUwWjkjoB/T8Spb3BF6YPQE5iEFg5tP4/9GxWfa62DkBmiGNd3MYKQN0kBoGVQxlAylTBqKTOBEDmP6Tfvs4UQGIQWDm0yABAj1N0JJc/HUBMN4lBYOUEQJhuEoPAShFA9P3UeOkmAkBb07zjFF0UQHGsi9toAAxAmG4Sg8DKEEAgQfFjzF38P4Y41sVttAlArIvbaADvE0B5WKg1zfsQQBKlvcEXpgNAo5I6AU0EGkBeukkMAisIQHQkl/+QvhpAklz+Q/qtE0AAAAAAAAAMQCo6kst/iBtAf9k9eVioC0AukKD4MWYPQIts5/up8fw/CtejcD0KHEACmggbnl4LQG3n+6nxUhVAUkmdgCbC+z+1FfvL7kkIQF8pyxDHugRAp+hILv+hEkAqqRPQRNgVQM6I0t7giwNA5j+k375OHUBt5/up8dIDQPwYc9cSMh5Ac9cS8kHPCEANcayL26gcQCL99nXgHANAtvP91Hjp+j+94xQdyeUIQD0K16NwPQZAqaROQBNhEUB1kxgEVg7/PwyTqYJRyQxAduCcEaW9+j83GsBbIAEUQHNoke18P/8/nKIjufxHGkAbL90kBoECQL7BFyZTBRBAyxDHuriNB0CuR+F6FO4WQJvmHafoyAhApgpGJXWCFECKjuTyH1IGQMZtNIC3wBxAkX77OnBOCUD7XG3F/rIIQPyp8dJNYv0/MlUwKqkTCUDKMsSxLu4SQK1p3nGKjvw/P8bctYS8G0Ai/fZ14Jz6PwCRfvs6MBNAhslUwagkA0CP5PIf0u8WQGQ730+NlwtA6Gor9pfdE0BQjZduEoMBQCcxCKwcmhdATKYKRiV1GEBYqDXNO04CQIhjXdxGgw9AidLe4AsTDUC28/3UeGkHQPCFyVTBKAlADAIrhxbZB0Abnl4pyxAFQOxRuB6F6wBAg8DKoUW2EUC0yHa+n5oTQCntDb4wWR5APnlYqDXN/D/jNhrAW+AXQPhT46WbxP4/bHh6pSwDFkAAAAAAAAAcQCPb+X5qvP8/30+Nl24SCUAlBoGVQwsLQLN78rBQaxtA2IFzRpR2DUBlqmBUUqcHQBkEVg4tMh9AzhlR2ht8C0CjAbwFEtQRQC7/If329QBAMQisHFpkC0DcRgN4CyQHQC9uowG8xRdAcF8HzhnRBECgGi/dJIYRQD0K16NwPQdASS7/If32EUAQejarPtcJQLAD54woLRxA/Knx0k1iBkDHKTqSy/8cQFyPwvUo3BhA4C2QoPixC0B1ApoIG94QQC1DHOviNgVAukkMAiuHGUASg8DKoUUBQO/Jw0KtqRlAeAskKH4MAkDSb18HzpkGQIy5awn5IAtAvsEXJlOFEEAhsHJoke36P9Sa5h2naBxADi2yne+n/D/dJAaBlQMgQNZW7C+7pwRAUwWjkjoBEUCoxks3iUEKQDeJQWDl0P4/oyO5/If0HUAtQxzr4jYHQAU0ETY8PQ1Ake18PzVeAkCP5PIf0u8PQEjhehSuRwhAObTIdr6fDUCfPCzUmuYZQJ7vp8ZLNwdANe84RUdyE0CdgCbChqcLQAU0ETY8/RtADJOpglFJC0C4rwPnjGgSQC6QoPgxZgZA78nDQq2JIEDXNO84RUf7P7yWkA96tgpATYQNT68UAkD99nXgnLEgQHE9CtejcARAguLHmLsWC0DXo3A9CtcAQFTjpZvEIBtAoWez6nP1G0AIPZtVn+sQQEa28/3UeAZAfa62Yn+ZGEBGlPYGXxgCQKabxCCwch9AvJaQD3q2AECrPldbsT8WQCKOdXEbjQxAUrgehetRCkB88rBQa5oZQKAaL90kBhBAcT0K16NwBkAi/fZ14BwSQKfoSC7/oQZAYVRSJ6CJGkAXt9EA3oILQFMFo5I6ARJAgy9MpgqGE0DChqdXyvIYQKqCUUmdgCBAZF3cRgN4GUBMN4lBYOX/P3RGlPYG3xxAHThnRGnvA0Bgdk8eFmocQNNNYhBYOf4/3SQGgZVDFUC62or9ZfcJQLu4jQbwVhZAM8SxLm4jA0ChZ7Pqc1UgQIZa07zjFAxAtaZ5xyl6GUBt5/up8dL/P8x/SL99nQtAUiegibDhA0DGbTSAt8APQNnO91PjpQFAtaZ5xynaIEC4QILixxgKQDcawFsggRNALpCg+DFmBkB56SYxCKwOQHQkl/+QfgpAtoR80LPZDEARNjy9UhYEQDj4wmSq4BNAIGPuWkI+BkBuowG8BTIhQLgehetRuAFAmpmZmZlZFEBMN4lBYGUYQC1DHOviNgVAkxgEVg4tBUCSy39Iv/0OQClcj8L1KAZA5j+k377OEEBuowG8BdIeQME5I0p7gwNAl5APejYrCkD99nXgnJEdQJ7vp8ZLNx1Axf6ye/IwBkAzMzMzMzMRQDC7Jw8LNQhAeJyiI7l8BkA/NV66SQwNQAYSFD/GnBZAGJXUCWgiDECIhVrTvKMcQOkmMQisnBFA/mX35GFhHkAgQfFjzF0DQA6+MJkqWBZA8fRKWYa4BEBmiGNd3MYfQBUdyeU/JApAObTIdr7fIUB6xyk6kksLQLbz/dR46QdAsp3vp8ZL+z8LJCh+jHkhQO0NvjCZKv8/3bWEfNBzFkCtad5xig4AQOviNhrAGxJACKwcWmQ7/T+q8dJNYlAZQOcdp+hIrgRAysNCrWmeIEBeukkMAisCQH3Qs1n1ORFAlrIMcayLAEDImLuWkE8VQJZDi2zn+wNAtMh2vp8aH0C5/If021cAQK36XG3F/hdAtaZ5xyk6A0D8GHPXEnIgQDC7Jw8LNQtACD2bVZ+rH0DgLZCg+LEBQDhnRGlv8B1AtvP91HjpCEDhehSuR2EWQPs6cM6I0gxANBE2PL1SGkAUP8bctYQAQGRd3EYDOBBApHA9CtejBkAdyeU/pB8aQO/Jw0Kt6QJAFmpN844TGkCb5h2n6Ej/P2b35GGhlhNA0LNZ9bnaC0DufD81XjocQABvgQTFDwRAwOyePCzUFUC1FfvL7skdQAyTqYJRCRVAZohjXdzGF0DQRNjw9MoEQMcpOpLL3yFAeAskKH6M+z8ijnVxGw0LQBDpt68D5wNA/Bhz1xKyHkDl0CLb+X4EQKCJsOHp1R5AxEKtad5x+j81XrpJDAIUQBE2PL1SlgRAqvHSTWKQFUBxPQrXo3AAQKJFtvP9VBNAUdobfGGyAUA730+Nl24aQIMvTKYKxgRAg8DKoUU2H0CAt0CC4sf+P7UV+8vuyRtAV+wvuyePB0A0ETY8vbIgQLTIdr6fGgFASL99HTiHIEAkl/+QfjsWQGuad5yiowlALbKd76fGF0DHSzeJQWALQFInoImwoRhAm1Wfq63YA0BKDAIrh3YiQLRZ9bnaigdAg8DKoUW2CkCkcD0K16MJQLTIdr6fmiJAO3DOiNLeIkC4HoXrUbgFQFwgQfFjjBVAofgx5q6lB0CY3ZOHhZoeQHZxGw3gLfs/G55eKcvQIUAAb4EExY8EQE5iEFg5NBVAVHQkl/8QAUB6pSxDHCsdQA3gLZCgeARAat5xio5kFUAN4C2QoPgRQHS1FfvLbgRAGy/dJAYBIUAnwoanV4oXQPFjzF1LSANAdnEbDeAtIEDWxW00gDcAQDeJQWDlUBxArkfhehQuIkAQ6bevA+f/P7Pqc7UV2yFAS8gHPZsVGEBPQBNhw1MGQMNkqmBUkhpAvjCZKhjVF0BN845TdCQLQKwcWmQ7Xx5AbcX+sntyBkAydy0hH7QeQI2XbhKDQBtARUdy+Q+pGkDNO07RkRwSQCNKe4MvTAxAF9nO91PjH0A7AU2EDc8IQN9PjZdukhFAQxzr4jaaCEBO0ZFc/gMaQDMzMzMzMwlA5fIf0m/fDUAkufyH9Nv7P7TIdr6fmhpAMzMzMzMzAEALtaZ5x6kXQI/k8h/S7wpAk6mCUUndGUArhxbZzvcFQFRSJ6CJcBZAS1mGONZFF0C30QDeAokCQAmKH2Pumh9Ak6mCUUmd/D/gvg6cM+IdQMSxLm6jAQFAeekmMQgsFECI9NvXgfMLQNZW7C+7px9AkX77OnDO+z8730+Nl+4dQFR0JJf/0BlA7Q2+MJnqEkDtnjws1JoVQB+F61G4nhhA7uvAOSOKF0Coxks3iUEIQN0kBoGVQxhA9P3UeOkmDUBrmnecoqMdQPyp8dJNYhNAI0p7gy9M+T+KsOHplXIZQMpUwaikThVAPQrXo3A9FECPwvUoXI8IQH9qvHSTmBVAofgx5q6lBkAOLbKd7yceQCzUmuYdJwZA1QloImy4FEChZ7Pqc7UAQLx0kxgEVhlAZmZmZmbmAECF61G4HoUaQOPHmLuWkP0/rkfhehSuH0BvgQTFj/EaQLHh6ZWyTBpAEOm3rwMnGkCZu5aQD/oBQO7rwDkjSiBA6Gor9pfdCkCdgCbChmcTQAFNhA1PLwpAhlrTvONUH0BWn6ut2F8CQGIQWDm0SBVAxm00gLfACEDLEMe6uM0UQClcj8L1KABAF9nO91PjF0Cze/KwUOsEQEOtad5xChxAvjCZKhiVA0AdWmQ7308PQDLmriXkAwVA9P3UeOmmG0D99nXgnJEKQELPZtXnqhFA6Gor9pddC0C62or9ZfcVQPkP6bevAwJANxrAWyABFUDwFkhQ/BgKQHqlLEMcKxFA5x2n6EiuAUB56SYxCKweQJJc/kP67QtAe4MvTKZKHkC7Jw8LtSYMQA1xrIvbqBZAzO7Jw0Kt/z9zaJHtfD8aQHe+nxovXQVAS+oENBEWIECgGi/dJAYCQIbJVMGopBRACtejcD0KCUDQRNjw9EoUQCcxCKwcWv4/j8L1KFwPEEBtVn2utmIBQBUdyeU/ZBxAZohjXdzGAECx4emVsswWQNPe4AuTqf0/xLEubqPBFkDpt68D54wFQJoIG55eaRFAaLPqc7UV/T9cj8L1KNwdQP+ye/Kw0AxA0LNZ9bmaEkBGtvP91HgBQHS1FfvL7hRAf9k9eVio/D+PwvUoXK8gQJMYBFYOLQBAjSjtDb5wHkBEi2zn+6kBQEp7gy9MZhxAx0s3iUFgC0CFfNCzWbUbQC9uowG8BQdAb4EExY9xIUAUrkfhehQJQIlBYOXQohlAK/aX3ZMHDEAN4C2QoHgYQBPyQc9m1QZAyxDHurhNIUA5tMh2vl8hQN6Th4VaExJAJzEIrBxaCECFfNCzWbUSQKJFtvP91P4/ZohjXdxGHEB9PzVeugkhQC2yne+nxgRAtRX7y+5JH0A4+MJkqiAWQBSuR+F6FAxASL99HThHIUCjkjoBTQQAQAAAAAAAABJAB84ZUdobDEBoImx4euUQQI9TdCSXfwxAqoJRSZ1AHUCF61G4HgUBQMbctYR8EBdAx7q4jQbw/T91kxgEVo4eQHL5D+m3LwtAYqHWNO94E0BNhA1Pr5T7P/yp8dJNYh9AqaROQBPhBkCrz9VW7O8gQOXQItv5/hlAdZMYBFaOGEB9rrZif1kKQNJvXwfOOSFA46WbxCDwIECpE9BE2BAgQJM6AU2EjQZATDeJQWDlEUClTkATYSMgQHDOiNLeACFAmggbnl7pFUB24JwRpT0LQJeQD3o2yyFAZapgVFInAkCoV8oyxPEaQLx0kxgEVgxA2IFzRpQWIEAxCKwcWmQRQLIubqMBvAtAAiuHFtnOHkAnwoanV8r7P/s6cM6IkhdA+MJkqmBUAkBm9+RhoZYfQDxO0ZFcPhZANe84RUeyHEAYJlMFo3IgQH/7OnDOiAFAxty1hHwQHEAgQfFjzD0hQPCnxks3iQFAImx4eqWMIUAhsHJoke3+PzxO0ZFcvhFAZapgVFInAkDsUbgehesfQLdif9k9efs/W0I+6NksG0CPwvUoXI8GQI0o7Q2+cBRAvsEXJlOFAkAhsHJoke0cQM9m1edqK/8/b4EExY/xHkBt5/up8dIAQJtVn6utGBhA4C2QoPixBUA3iUFg5VAXQOwvuycPCxxAw9MrZRliDEAK16NwPUohQAfOGVHamwJAp+hILv+hAEAAkX77OjASQOXQItv5fghAgZVDi2znCUBR2ht8YbIBQNxGA3gLJAhARpT2Bl8YCUCx4emVsgz+P1CNl24SgwZA1edqK/ZXFEDufD81XroIQJM6AU2ELSBAgEi/fR24AkB/+zpwzsgZQPMf0m9fhwJA1CtlGeI4IUBpAG+BBMUKQL99HThnZCBARUdy+Q+pFUDjpZvEIPAiQOkmMQisHBpAsp3vp8bLIkDvycNCrckhQJayDHGsSx1AbVZ9rrZi/j8xCKwcWmQaQMZtNIC3QBxAvp8aL90kI0DF/rJ78jACQGiz6nO1lR9AA3gLJCheIUBlGeJYFzcCQJM6AU2ELSFAIv32deC8IUD+ZffkYeEcQMKGp1fKMvs/umsJ+aAHIUCQoPgx5i4AQNXnaiv21xRAZRniWBc3BkC8lpAPepYhQJJc/kP6rRhAcF8HzhlRGkBseHqlLAMZQGfV52or9gJARrbz/dR4HECfq63YX7YbQLMMcayLmxtAArwFEhR/FkByio7k8p8DQA4tsp3vpxZAg8DKoUU2G0AwTKYKRmUaQLraiv1ltxNA5x2n6EiuAUCdEaW9wZcZQJEPejarvhtAofgx5q6lDECWQ4ts53sVQMuhRbbz/RNAveMUHcklFkBkXdxGA/gEQA5Pr5RlSBVAd76fGi/dC0AYldQJaOIUQKJFtvP91BZAtTf4wmRqFEABTYQNT68TQGq8dJMYBBVAQs9m1edqBEAlBoGVQ4sTQBlz1xLyARdAyeU/pN9+FUASg8DKoUUDQKH4MeaupRZAd76fGi/d/j/kFB3J5f8WQB04Z0Rp7wZAFR3J5T9kE0ClTkATYUMJQB3J5T+kHxZAMEymCkblFkApXI/C9SgCQEa28/3U+BNAI9v5fmq8+j8Wak3zjhMWQGiR7Xw/NQhApSxDHOsiGEDjpZvEILAEQET67evA+RVApHA9CtejC0AxCKwcWmQUQAfwFkhQPBhAumsJ+aAnFEDG3LWEfJAXQGUZ4lgXt/o/h6dXyjKEF0AZBFYOLTIYQKqCUUmdQBdAI9v5fmo8FEBkzF1LyEcWQJVliGNdXAhA7MA5I0o7F0BsCfmgZzMCQGwJ+aBnsxZA6Ugu/yH9FEBuowG8BVIXQK7YX3ZPXhVALNSa5h2nFUAOT6+UZQgEQDhnRGlv8BRAveMUHcklFkBDHOviNloWQKqCUUmdgPs/2V92Tx7WFEC+wRcmUwULQI0o7Q2+8BVAd76fGi9dFUDsUbgehWsIQHWTGARWjhVAvsEXJlMFAEDsL7snD4sWQArXo3A9ChZAo5I6AU2E/j+GWtO845QUQPfkYaHWdBVAPzVeukmME0AwTKYKRqULQFvTvOMUXRNASOF6FK7HE0DRItv5fmoEQOM2GsBb4BVAh6dXyjLE+j/oaiv2lx0WQPYoXI/C9RNAfa62Yn8ZFEBPr5RliOMLQCSX/5B+uxVAfT81XrpJCEBxPQrXo3AVQIEExY8xd/w/cT0K16NwFEDvycNCrekHQF3cRgN4ixZAX5hMFYxKFEAwKqkT0MQJQLx0kxgEVhVAd76fGi/dB0Akl/+QfjsVQHQkl/+QfgRAyjLEsS6uFUAOLbKd7ycUQPjCZKpglBZA9ihcj8L1FUCHFtnO91MVQECk374O3BVAhetRuB6FFEBDHOviNtoWQPyp8dJNYhRAukkMAiuHCUB3vp8aL10VQPYoXI/CdRVAWmQ730+NFUBRa5p3nCIVQMRCrWnesRVAUWuad5yi/z/i6ZWyDHH/P/Cnxks3iRVAJQaBlUOL+j/FILByaJEVQNGRXP5DuhRA2c73U+OlAUD9h/Tb1wEVQH0/NV66SRZAexSuR+F6FkACmggbnp4VQC7/If329QJAmpmZmZkZFUDoaiv2l90HQBZqTfOOkxZAayv2l92TCUAnoImw4akVQG+BBMWP8RVAbAn5oGfzFUC9UpYhjnUWQLgehetROBZAETY8vVKWFkD8GHPXErIVQOXQItv5/hRAiGNd3EYDE0Dpt68D58wRQMiYu5aQjxFAwcqhRbbzEUAfhetRuJ4SQJtVn6ut2Pw/gZVDi2wnEkDecYqO5HITQPCnxks3yRNAxLEubqMB/j+8lpAPerYIQMUgsHJoERZAeHqlLEMc/z+QoPgx5i4KQHzysFBr2hVA+Q/pt6+DEkCcM6K0N/j9P73jFB3JJRVAt2J/2T15AUBkO99PjZcUQG3n+6nxUhNAfa62Yn9ZA0AXSFD8GDMUQHQkl/+Q/gtA9wZfmEwVFUAj2/l+arwTQJ/Nqs/VVhZAPE7RkVz+CUDEsS5uo0EUQBSuR+F6FANAcF8HzhkRFEC8dJMYBNYWQJayDHGsiwhAiUFg5dAiFUDV52or9lcUQPwYc9cS8vo/5dAi2/k+FkDlYaHWNC8VQG40gLdAggZAodY07zhFBUB+HThnROkXQBBYObTIdgVAio7k8h/SFkAkKH6MuesKQPLSTWIQ2BdA097gC5MpCkBZF7fRAN4WQPRsVn2uNhZApb3BFybTBEAnMQisHFoYQJf/kH77ehhAOPjCZKogF0CiRbbz/dQIQCuHFtnOdxdAP8bctYT8AkAFxY8xdy3+P4hjXdxGgxhAmpmZmZmZ/z83GsBbIAEXQIiFWtO8IxlA6Ugu/yE9GEDTTWIQWLkGQOhqK/aXnRVAh6dXyjIEF0CeXinLEMcYQH3Qs1n1+RZArIvbaACvFkBseHqlLEMHQKpgVFInoAxA63O1FftLDEAE54wo7Q39PyfChqdXSgxAqvHSTWIQF0CJ0t7gC9MWQOJYF7fRgAxAtaZ5xyk6GUDlYaHWNC8aQOviNhrAGxdAL90kBoGVF0DmriXkgx4aQNNNYhBYOQpATDeJQWDlDUBeukkMAisPQJvmHafoiBlAZmZmZmZmC0CGyVTBqKQWQDsBTYQNTxFAm1Wfq60YGEDIBz2bVd8WQA5Pr5RlCBVA2/l+arw0EUCBlUOLbGcQQClcj8L1KPo/TRWMSuoEEUCh1jTvOEUVQIV80LNZdRpAgQTFjzG3F0CamZmZmZkIQMsQx7q4zRdANKK0N/gCEUDgvg6cM2ITQKg1zTtOERdAm+Ydp+hIF0A8vVKWIQ4CQE+vlGWI4xpA2V92Tx5WF0BDrWnecQoPQN6Th4VaExdAnMQgsHJoA0BxPQrXo/AVQAU0ETY8PRpA9pfdk4fFEUC28/3UeOkNQKYKRiV1gglACKwcWmQ7DEAukKD4MeYaQO2ePCzUGgRAodY07ziFE0DwhclUwSgbQJAxdy0h3xZAcT0K16NwEUAwuycPCzUJQFuxv+yePBJAf2q8dJOYAUAkKH6MuWsYQJMYBFYOLQhAeekmMQhsFECKjuTyH9IZQGDl0CLb+QJAlPYGX5jMA0DM7snDQi0OQM/3U+OlmxJALpCg+DHmGkBWDi2yne8DQAkbnl4pCxtAqRPQRNhwA0As1JrmHScaQNPe4AuTqQxAbef7qfHS+z+BBMWPMXcCQHicoiO5fAJAvw6cM6J0FkAXSFD8GPMIQNv5fmq8dAhAl/+Qfvs6AUDdJAaBlcMSQMZtNIC3QPo/GsBbIEHxCEBO0ZFc/sMTQMP1KFyPwghAbxKDwMqhAkCZu5aQD/oKQNZW7C+7pwdAKjqSy3/IC0AUP8bctcQaQBiV1AloogdAPzVeukkMAkBfmEwVjMoPQBBYObTINhxAJzEIrBzaEkA17zhFR3IMQDVeukkMghRAnYAmwoZnFUAIPZtVn+sZQGpN845TNBFATDeJQWDlGEDDZKpgVJIXQBsv3SQGgRBAVOOlm8TgFEAj2/l+ajwAQGlv8IXJ1AZAFR3J5T9kFkDZzvdT46UNQD0K16NwPRdAB/AWSFA8FkBU46WbxCAbQLmNBvAWCBhAm1Wfq60YEUBHcvkP6bcIQFTjpZvEIBVA/kP67esAHEAB3gIJip8EQAwCK4cW2QVAAAAAAACAGEAHX5hMFQweQFTjpZvEIAdAjZduEoNAEkDRItv5fmoMQH0/NV66yRxA5/up8dJNBkAQWDm0yPYdQDJ3LSEf9AdA1CtlGeJYBUDlYaHWNC8VQDm0yHa+nxFA16NwPQrXB0CHFtnO99MTQEHxY8xdyxdA/Knx0k1iA0B56SYxCKwcQIXrUbgeBR9AHcnlP6TfB0Ce76fGS3cZQKfoSC7/oRtAtMh2vp8aCEB6pSxDHCsSQIqw4emVchJAYOXQItv5F0CR7Xw/Nd4cQOauJeSDnhFA+n5qvHSTBUApXI/C9SgMQET67evAeRtAVTAqqRNQCECjAbwFElQRQNBE2PD0yhVAoImw4emV/D9U46WbxKAcQHqlLEMc6/o/RIts5/upB0AdyeU/pF8FQF66SQwCqwRAdnEbDeCtF0DQs1n1uRoXQHqlLEMcKxtA7FG4HoXrC0A2zTtO0ZEZQEI+6NmsehNAgy9MpgoGHEDjpZvEIDAXQLsnDwu1Jg5ACRueXikLGUDYgXNGlHYUQKOSOgFNBA1AXdxGA3hLGEBR2ht8YXIbQAkbnl4pSxRAnMQgsHLoFEDQRNjw9EoVQFR0JJf/kBpA2IFzRpR2C0Db+X5qvPQTQPH0SlmGuA1AQKTfvg7cGEA9CtejcD0YQDtwzojSnhRA3pOHhVoTE0Byio7k8p8ZQIV80LNZNRBAak3zjlO0HED3deCcEaUSQNUJaCJsOBFAVTAqqRNQEUD4U+Olm8QHQE5iEFg5tBpA0ETY8PQKE0D6fmq8dJMPQNiBc0aUdhpAeqUsQxwrHECjkjoBTUQcQGpN845TdBtADk+vlGWIE0C0yHa+nxoXQCnLEMe6OABAl/+Qfvv6G0A730+Nl24FQLn8h/TblxtAy6FFtvP9F0Bj7lpCPmgIQAdfmEwVDB1A3+ALk6kCDkCHFtnO99MYQOxRuB6FaxRAat5xio7kE0DOiNLe4EsaQDtwzojSXhdAn6ut2F/2DEBL6gQ0EbYIQFJJnYAmwgpA7FG4HoVrHEDLoUW2830RQOwvuycPiwNASOF6FK5HG0Av3SQGgRUJQPCFyVTBqBtA7zhFR3I5HkBSJ6CJsKEUQBzr4jYaAB1ABFYOLbKdHUBSJ6CJsCEZQDMzMzMzMxVANKK0N/jCF0Av3SQGgZURQPXb14FzxgtA/kP67esAGEAUrkfhehQNQOkmMQisnBRA/tR46SZxG0Coxks3iUEIQKg1zTtO0RpAbef7qfFSGEAijnVxG00eQBiV1AloIgdAD5wzorT3E0BYObTIdr77P0w3iUFg5R5AhetRuB4FFUCrz9VW7K8AQMZtNIC3gBJAz/dT46WbDUDIBz2bVV8eQAkbnl4pCxNA/yH99nXgE0BwzojS3qAVQJMYBFYOrR9A16NwPQpXHkA0orQ3+IIRQNxoAG+BxBJAx7q4jQZwCkAFxY8xd+0RQM07TtGRXApAp+hILv+hAkDsUbgehWsIQDMzMzMzMwtAc2iR7Xw/EkDKw0KtaV4WQE3zjlN0ZBtA9GxWfa72E0AIPZtVn6sIQMHKoUW28x9AWDm0yHY+HUCh1jTvOEUJQOoENBE2PBRA5j+k376OCkDy0k1iENgZQFJJnYAmwgtA3gIJih/jFEDEsS5uo8EZQGIQWDm0yBpAlkOLbOd7AUApXI/C9SgUQCS5/If0WwZAx7q4jQYwIEDkFB3J5X8ZQN9PjZdukhhAMzMzMzOzEUDecYqO5HIWQBB6Nqs+VwlAMCqpE9AEGkCBJsKGp5cRQCGwcmiR7RRA097gC5NpGUBXW7G/7J4SQArXo3A9SiBAg8DKoUU2IEAoDwu1pvkbQMuhRbbz/QBAGXPXEvKBFEDD0ytlGWIDQJ7vp8ZLNxZAke18PzXeHECSXP5D+q0YQJoIG55e6R1ARUdy+Q+pFUAmUwWjkroBQKVOQBNhwx5AgEi/fR24GEDmP6Tfvs4eQOF6FK5H4RpACtejcD2KG0BMN4lBYGUYQO84RUdyORFAidLe4AvTFUBEaW/whUkOQG1Wfa624iBAXCBB8WOMH0Ba9bnaiv0CQE8eFmpN8wlAJ6CJsOEpGkAKaCJseLofQCuHFtnOdxhAd76fGi/dH0BzaJHtfD8eQIEmwoanlxNAEHo2qz43IEApyxDHurgPQEJg5dAiGxdAhA1Pr5TlBUBwzojS3mAhQJyiI7n8xyBA3GgAb4FEE0CIhVrTvCMbQC9uowG8xRVAwhcmUwUjGkAjSnuDL8wfQO84RUdyOR9AtvP91HjpE0D7XG3F/jIXQNnO91PjpR9ARGlv8IVJB0DM7snDQi0SQIofY+5aQhtAXW3F/rL7CkCfPCzUmqYeQBUdyeU/pBBAf9k9eVjoFEBB8WPMXYsTQG8Sg8DKIRxA7FG4HoXrG0A3iUFg5VAZQLpJDAIrBx1AhXzQs1k1GkAOvjCZKtgcQJkqGJXUSR9AXkvIBz3bHkDRItv5fmoJQJzEILByaAxAZmZmZmbmIEAK16NwPQoAQP7UeOkmsRRA5j+k375OGkAHX5hMFQwQQG3n+6nx0hNAZohjXdwGEUC7uI0G8FYZQP8h/fZ1oBVAzojS3uDLE0C2hHzQs5kfQBzr4jYagB9AiIVa07yjH0Aj2/l+arwcQFjKMsSx7hdA4QuTqYJRIUBLWYY41sUTQNZW7C+7Zx5AiIVa07wjGUB0tRX7y64YQAK8BRIUfx9ADi2yne8nCUBUUiegiXAeQNBE2PD0ihdA5WGh1jRvGUAXSFD8GLMcQAaBlUOLbBhAarx0kxgEIkCUh4Va0/whQFioNc07jhBARdjw9EpZHUD6fmq8dBMcQD0K16NwvRFA1xLyQc+mFkBU46WbxKAVQIPAyqFFtgNA7Z48LNSaG0AsZRniWDchQO0NvjCZahZASL99HTjnCEAPnDOitPcSQOXQItv5fh9Az2bV52prFUCDUUmdgGYfQCUGgZVDiwVA2/l+arz0HEAIrBxaZLsXQOlILv8hfRFAF7fRAN4CE0ANcayL26ghQE0VjErqJCFAyxDHurhNHED4U+Olm8QaQCUGgZVDixhAObTIdr6fE0DZzvdT4yUWQI2XbhKDwBlA/tR46SYxEECcoiO5/OciQINRSZ2AZh5APQrXo3C9FkDV52or9pf6P2ZmZmZmZiBAYOXQItt5HEDsUbgehQsjQDJ3LSEfVCBAK4cW2c73HkCY3ZOHhRoZQFwgQfFjTCFAyjLEsS6uFkDysFBrmvcSQJp3nKIj+R5AduCcEaXdIEALRiV1AloWQKrx0k1iUCJAmpmZmZmZGEDnjCjtDf4ZQOtztRX7ayNAliGOdXEbE0CYbhKDwMoXQLbz/dR4aR9AdLUV+8tuC0D2l92Th0UbQC1DHOvidiJAarx0kxjkIUBsCfmgZzMaQHQkl/+QfgBAMzMzMzMzGEDXEvJBzyYaQMuhRbbz/RhA16NwPQrX/T/RItv5fuobQCBj7lpCvh5A6+I2GsB7IkB0RpT2Bj8gQNGRXP5DuhJAPzVeukmMHED2KFyPwvUgQPXb14Fz5iJA8tJNYhBYG0CQoPgx5k4gQFr1udqKvRpAg8DKoUW2BEBCz2bV56ohQIY41sVttANA/Bhz1xLyF0DTTWIQWDkZQNO84xQdyQlAHcnlP6Q/JEDV52or9lcaQJHtfD81niFANqs+V1sRIECZu5aQD3oWQMZtNIC3YCJABcWPMXdtHUBVwaikTsAXQC2yne+nxhtAFR3J5T9kEkCV1AloIiwZQGiR7Xw/NR1AArwFEhR/GUAPnDOitPcbQPjCZKpglBpAFR3J5T9kE0BYObTIdr4YQK36XG3F/h1AyXa+nxqvG0DsUbgehWsYQL3jFB3JpRVAi2zn+6lxG0DyQc9m1ecZQKMBvAUS1BxACKwcWmT7HkCSy39Iv30ZQMP1KFyPQhNAirDh6ZXyEkDi6ZWyDDEYQAAAAAAAABNA2c73U+OlE0AE54wo7Y0TQL6fGi/dpBNASL99HTjnF0AYldQJaCIWQJtVn6utGBNAGXPXEvKBE0DNzMzMzEwXQM6I0t7gSxdAswxxrIsbF0C8dJMYBBYVQC2yne+nxhNAPSzUmuadAUAgY+5aQj4UQOXyH9Jv3wNAm1Wfq61YFECmCkYldcIUQAwCK4cW2RVAP8bctYS8E0CUh4Va07wTQJ2AJsKG5xVAMnctIR+0FEDb+X5qvPQVQME5I0p7wxJAXwfOGVHaFUDmP6Tfvs4TQJHtfD813hJAxSCwcmiRE0DJ5T+k3/4TQCBj7lpCPhNAPQrXo3C9FEAawFsgQTEUQBDpt68D5wVAmG4Sg8BKE0DmriXkg54TQNSa5h2naBVAW7G/7J68E0DPZtXnausTQIzbaABvQRNA/Bhz1xIyFEB5WKg1zXsUQFkXt9EA3gtAj8L1KFwPFECYTBWMSuoTQOPHmLuWEABAY3/ZPXkYFUDhehSuR+EGQFK4HoXrURVAwcqhRbbzFECfq63YX7YTQM6qz9VWbBRAUI2XbhKDFEDZzvdT42UVQFK4HoXrURRAlrIMcazLE0DhehSuR+EUQET67evA+RNAYcPTK2VZFED2KFyPwvUUQNcS8kHPJhVAwTkjSntDEkDV52or9tcQQGQ730+NlxFARIts5/upEECLbOf7qXEUQPCFyVTBKAlAdy0hH/SsEkD0bFZ9rnYRQNCzWfW52hNATDeJQWDlEkCSy39Iv/0SQI0o7Q2+cBFA3GgAb4FEEkCh1jTvOAURQLByaJHt/BBAPzVeukkME0C0yHa+n5oSQEjhehSuxxNA5q4l5IMeEkCsi9toAK8RQLHh6ZWyTBJA16NwPQqXE0C8dJMYBNYSQMl2vp8aL/4/7nw/NV66E0BqTfOOUzQUQMZtNIC3wBNATRWMSupEFEAMk6mCUYkRQG1Wfa62ohNAlWWIY12cEkCmm8QgsPIRQBdIUPwYsxRAPujZrPpcEkBOYhBYObQUQGsr9pfd0xFAzczMzMzMBED7XG3F/rISQInS3uALUxJA8x/Sb18HFUAbDeAtkCATQBSuR+F6FAFAarx0kxgEEkAAb4EExU8TQNv5fmq8dBNAf2q8dJOYE0AQ6bevAycTQMdLN4lB4BNA2V92Tx5WFUALRiV1ApoKQEmdgCbCxhJAqvHSTWIQFUC0yHa+n5oSQFkXt9EA3hRA9P3UeOkm+j9miGNd3MYUQDvfT42X7hVAY3/ZPXkYFkDuWkI+6JkWQOVhodY0LxdA6bevA+dMFEBtxf6ye/IVQFTjpZvEIBRACKwcWmS7FUDEsS5uo4EVQApoImx4egtAbVZ9rraiFkDBqKROQNMVQFjKMsSxrhZA3EYDeAskFkAN4C2QoDgVQIzbaABvARhADi2yne+nFkCiRbbz/VQVQCL99nXgHBhAfh04Z0RpGECt+lxtxb4VQA4tsp3vpxdAgy9MpgoGF0DHSzeJQWAYQKUsQxzr4ghAbVZ9rrYiFUAkKH6MuSsTQLHh6ZWyzBJAjNtoAG9BEUAH8BZIUDwXQLKd76fGyxZAeHqlLEOcGEA2PL1SlqEUQARWDi2yHRNAEOm3rwOnEEArGJXUCagWQMZtNIC3QBJAtMh2vp+aEEC28/3UeGkOQOY/pN++ThJACmgibHi6FUCYbhKDwMoPQAtGJXUCWhNAlIeFWtN8F0BKDAIrhxYUQKvP1VbsLxVAFK5H4XqUEEAkKH6MuesUQFTjpZvEoBBA7FG4HoXrD0A4+MJkqiARQLx0kxgE1hNA6SYxCKwcDkCTOgFNhI0RQFYOLbKdbxRAYqHWNO/4FEAlBoGVQ8sTQNQrZRniWBZAeJyiI7n8EUAlBoGVQwsUQJCg+DHmbhJAVTAqqRPQEEB3vp8aL90UQNEi2/l+6hVAcayL22hAFECt+lxtxf4WQC0hH/RslhZAtMh2vp+aEUCZKhiV1AkMQGkAb4EExQ9AIbByaJHtEUCgibDh6dUSQG/whclUwRBAaW/whcnUD0Coxks3iUEGQGpN845T9AxAWDm0yHZ+EUCLbOf7qfELQMUgsHJoERNAb/CFyVRBEUCPwvUoXI8EQKs+V1uxvxBAi2zn+6nxD0AnoImw4WkKQB+F61G4nhZAa5p3nKIjBUDswDkjSrsTQOhqK/aXHRRAnzws1JpmDUDVeOkmMQgYQJoIG55eKQ9ADAIrhxbZE0AbL90kBoEUQG3F/rJ7cghApgpGJXVCFEA9CtejcD0PQBBYObTIthFA6SYxCKwcGEA2qz5XWzEMQCBj7lpCvgpAjZduEoPAB0CbVZ+rrVgSQKabxCCwcgpAQmDl0CLbB0Dn+6nx0k0KQEw3iUFgZQ1AdQKaCBueAUC8lpAPejYRQG/whclUQQFAC0YldQIaCkD0/dR46eYYQLsnDwu1JgtAvVKWIY71CUCV1AloImwNQHicoiO5fBhAqvHSTWIQE0C4HoXrUbj+P5kqGJXUSRVAKe0NvjDZF0AijnVxG40BQMuhRbbz/RBA/kP67esAGUBMpgpGJbUWQOm3rwPnTBhAOdbFbTSACkDGbTSAt0AWQFCNl24Sgw1AuB6F61E4GUAbDeAtkCADQMuhRbbz/QxA6Nms+lztAEDG3LWEfFAWQC/dJAaBlQpAj8L1KFyPBkDYgXNGlHYZQLKd76fGSwVAZmZmZmZmAECq8dJNYpASQPwYc9cSchhAg8DKoUU2F0C7uI0G8FYWQJZDi2zn+wJAMLsnDwu1FkD8GHPXErIVQHNoke18vwpAMnctIR80F0AmUwWjkroEQGq8dJMYhBdAk6mCUUmdCUDHSzeJQeAUQPOOU3QkVxJABcWPMXdtEkDXNO84RQcRQPH0SlmGuAVAv30dOGfECUDkFB3J5X8UQKyL22gALxBACYofY+5aB0ApXI/C9agZQB04Z0RpbxlAXI/C9ShcC0CR7Xw/NV4aQNNNYhBYOQdAcayL22hAFECtad5xig4KQPjCZKpgFBpAukkMAiuHF0CYbhKDwEoWQL7BFyZThQlACYofY+7aB0Bt5/up8dIJQLwFEhQ/hhZAObTIdr4fFkCppE5AE+EHQC2yne+nxhBAeHqlLENcGEBGJXUCmsgRQJYhjnVxGxVASnuDL0xmGkCUh4Va0/wWQLraiv1l9w1AcM6I0t4gGUCWsgxxrEsTQAwCK4cWWRVAz/dT46WbCEANcayL2ygYQM/3U+OlmxJAU5YhjnVxFECneccpOhIMQGDl0CLbeRJAAAAAAAAAGkB3vp8aL90WQJqZmZmZGRlAaW/whcnUDECHFtnO91MRQPXb14FzxhZAsp3vp8ZLBUA8TtGRXL4RQMcpOpLLfxtAt9EA3gIJFUDZPXlYqHUSQKYKRiV1QhZAdy0hH/SsGECsHFpkO18XQKkT0ETYcABAR3L5D+l3EkBI4XoUrkcWQGQ730+NFxhAKxiV1AloFEAQWDm0yHYaQEa28/3UeBJArBxaZDvfGkBGtvP91HgcQN6Th4VaExRAT0ATYcPTGkBt5/up8dIZQJ88LNSaZg9ATDeJQWBlHUCXkA96NmsTQPCFyVTB6BdAdZMYBFYOC0AUP8bctUQcQAfwFkhQPBRA/mX35GEhC0B8YTJVMCoZQDojSnuDbxdAGJXUCWgiDkAv3SQGgRUcQPCnxks3iRxALGUZ4liXC0DHKTqSy38SQKyL22gALxNA46WbxCCwEEA3iUFg5dAJQIqw4emVchxAXW3F/rL7CkCoxks3iUEZQFTjpZvEoBtAlrIMcazLFUDsUbgehesSQGaIY13cRhNAe4MvTKbKFEACmggbnt4FQPT91HjpJg1A001iEFg5GUCgGi/dJAYVQOzAOSNKuxtASZ2AJsKGDkCt+lxtxX4GQM3MzMzMzBpAJ8KGp1cKE0BuowG8BVIQQMoyxLEubg1A1XjpJjEIE0CASL99HXgSQI/C9ShcDxBATDeJQWDlGUBqTfOOU7QXQHlYqDXN+xhAYOXQItt5EECEns2qz1UJQDMzMzMzsxJAc2iR7Xy/GkDHSzeJQeAXQKK0N/jCpBhAHcnlP6SfFECitDf4wuQRQOoENBE2vAhAokW28/3UHECJ0t7gC9MWQNiBc0aU9hhA2IFzRpT2HUC6SQwCK4f8P8WPMXctYR1AZDvfT42XE0DcaABvgcQRQOkmMQisHB9ArkfhehSuB0B/+zpwzkgeQEhQ/BhzVx9AKVyPwvWoFECJQWDl0CIPQAfwFkhQPB5AArwFEhR/EUBKe4MvTCYNQKUsQxzrIhBAWKg1zTuOHECR7Xw/NV4YQEVHcvkP6QpAvp8aL90kGkDKw0KtaR4TQE5iEFg5tBVAowG8BRLUHkCAt0CC4qcgQFCNl24SgxZAiGNd3EbDHEAxmSoYldQJQAfwFkhQvBJAXI/C9ShcFUAlBoGVQwseQLgehetROBtAU5YhjnVxG0Bq3nGKjmQPQFCNl24SwyBAhJ7Nqs+1IEA/NV66SQwUQNejcD0K1xhA5/up8dLNG0AFxY8xd20SQDY8vVKWYRtAOGdEaW9wHkDQ1VbsLzsUQMUgsHJokRxAofgx5q6lFUCLbOf7qTEgQKRwPQrXIx5ATKYKRiW1EECcM6K0N7gaQIts5/upcRBAnMQgsHLoHUA9CtejcL0XQFCNl24SgxxAqvHSTWIQEUDXNO84RQcUQNV46SYxCBpAnl4pyxCHE0CgGi/dJIYRQC/dJAaBVSFAppvEILByHUBB8WPMXYsfQLKd76fGyxJAz/dT46UbFkBJnYAmwsYYQFpkO99PjRVAIEHxY8ydGkA+6Nms+lwUQBe30QDeIiFAnYAmwoZnF0CppE5AE2EUQHicoiO5HCFAI0p7gy9MIUC4HoXrUbgYQEjhehSuRwtAXrpJDAKrHEDD0ytlGWISQDVeukkMAhZAxY8xdy1hEkDpJjEIrBwaQNxoAG+BRBBAliGOdXH7IUB56SYxCKwcQJkqGJXUCRRAYcPTK2V5IEBWDi2yne8eQEa28/3UeBxAgZVDi2znIEB9PzVeuskUQEymCkYltRdAldQJaCKsGUAOLbKd76cbQClcj8L1KAtA+n5qvHQTFkCkcD0K16MWQLx0kxgEVg9AuB6F61G4DUBMpgpGJTUYQM/3U+OlmwZAArwFEhT/EkBkXdxGA7gYQJoIG55e6RpAliGOdXGbE0AgY+5aQr4XQDSitDf4ghtAGy/dJAYBG0CSXP5D+i0XQCGwcmiR7RtAYcPTK2VZGkAbL90kBoEWQH/ZPXlYaBlASS7/If32F0C7Jw8LtSYdQBTQRNjwdBhAYhBYObTIFEA3iUFg5dAbQPp+arx0ExpAwFsgQfEjGEAnMQisHNoXQP2H9NvXgR1AUPwYc9fSFUBYObTIdr4VQCcxCKwcWhBADAIrhxbZFEDEQq1p3rEZQMuhRbbz/RFAUkmdgCZCHECTqYJRSd0YQMl2vp8arxhAj+TyH9LvFEBWDi2ynW8QQIJzRpT2xhxAMQisHFqkF0BMN4lBYGUVQIqO5PIfEhBAHThnRGnvEUC8dJMYBFYdQEa28/3U+B5Avw6cM6J0FUB4CyQofgwUQPp+arx0UxhAIbByaJHtF0ApXI/C9SgXQKyt2F92jxVARrbz/dR4HECUh4Va07waQJ0Rpb3Blw9Ap3nHKToSFED0/dR46aYRQLgehetRuB1AYqHWNO94FUAm5IOezaoZQJhuEoPAyhxAirDh6ZVyE0B9PzVeukkQQB3J5T+kHx1AdLUV+8tuEEB56SYxCKwbQILix5i7lhNAZ9Xnais2EED0bFZ9rvYaQLU3+MJk6hpASgwCK4cWHkBEaW/whUkVQLprCfmgZxhAqMZLN4lBEkBOYhBYObQRQKmkTkAT4RFAfT81XrpJEEAIrBxaZLsRQDXvOEVH8hNAVOOlm8SgGEDgnBGlvUEXQIV80LNZNRBA/fZ14JwRE0BIUPwYc9cSQI51cRsNYBNAP1dbsb9sFkCcM6K0N7gYQPVKWYY4FhdAs+pztRX7EkAE54wo7c0YQBTQRNjwdBRAOPjCZKqgEEAwTKYKRuUQQJT2Bl+YzBZAU5YhjnXxFkC0WfW52soWQOwvuycPixZAWmQ730+NEUBGlPYGXxgRQAfwFkhQvBNA24r9ZffkE0DxY8xdS4gTQBfZzvdT4xVAFmpN846TE0AZBFYOLbIRQL99HThnhBRA07zjFB0JFkBAE2HD06sUQCQofoy5axRA30+Nl24SE0Bgdk8eFioTQEdy+Q/pdxRAVcGopE5AFUAIPZtVn+sQQPs6cM6IkhJAvVKWIY71EkDGbTSAt8ARQKyt2F92DxRARiV1AppIEkA6I0p7g28UQCSX/5B+OxNAUrgehetRE0B2Tx4Wag0UQPMf0m9fhxNAPzVeukkMFECIY13cRgMVQEcDeAskKBJAqoJRSZ2AFUDRItv5fuoSQP7UeOkmsRRABaOSOgGNFECC4seYu5YRQDLmriXkQxJACmgibHi6FEAydy0hH/QTQKabxCCwchJAOpLLf0g/FEDZPXlYqPUSQLTIdr6f2hFAkzoBTYSNE0ASFD/G3PUSQCQofoy5axRA1zTvOEWHEkClLEMc66ITQIv9Zffk4RNAayv2l90TE0Abnl4py1ASQIGVQ4ts5xJAmpmZmZkZE0B/arx0k5gTQKJFtvP9VBRADXGsi9voE0DCFyZTBaMSQN5xio7kchFAUkmdgCYCEUDxY8xdSwgTQMHKoUW28xNAih9j7loCEkBrmnecoqMRQFg5tMh2PhJAK4cW2c53EUD0/dR46SYTQJXUCWgiLBFAMlUwKqkTEkA1XrpJDIITQMWPMXct4RFAgQTFjzG3EkBYObTIdr4TQG6jAbwFEhJAZapgVFLnEkAT8kHPZhUTQAAAAAAAgBJA8fRKWYa4EUDTvOMUHUkTQArXo3A9ChNAmEwVjEoqFECNl24Sg0AUQAN4CyQofhNAz/dT46WbFEC1pnnHKToTQBHHuriNxhNA001iEFi5EkDRItv5fuoTQGq8dJMYhBJAWKg1zTuOE0AlBoGVQwsTQKjGSzeJQRRAIv32deCcEkAtQxzr4vYSQAYSFD/GnBJAJ8KGp1eKE0Ac6+I2GgAUQHZPHhZqDRNAKVyPwvXoE0ASg8DKocUTQKK0N/jCJBNA/Knx0k3iEkD8qfHSTeISQPrt68A54xRAwhcmUwXjFEDPZtXnaqsTQPYoXI/CNRNAysNCrWneE0AcfGEyVbATQPAWSFD8GA9AKxiV1AmoEkCjI7n8h/QPQCntDb4wWRBAZF3cRgP4EEDFjzF3LSERQCntDb4wWRNAWmQ730+NEEB6Nqs+V1sRQNSa5h2n6BBA+MJkqmBUE0BxPQrXo/ARQJVliGNd3BFAGsBbIEExE0AdOGdEaa8SQGaIY13chhFA1zTvOEUHEUCMuWsJ+SAUQGlv8IXJlBNAbxKDwMohEUBuNIC3QAITQI/k8h/S7xBA2V92Tx5WFEBxPQrXo/AQQKrx0k1ikBVAQxzr4jbaFECMuWsJ+aASQGUZ4lgXdxVAqz5XW7E/E0ABTYQNTy8VQH6MuWsJeRVAxty1hHwQFUAzxLEubmMVQOY/pN++ThVAarx0kxgEFECoNc07TlEUQBsv3SQGwRRA6gQ0ETb8EkA4Z0Rpb7ASQIGVQ4tsZxRApb3BFybTFkDHSzeJQaAVQGTMXUvIhxRA54wo7Q3+FUBB8WPMXQsUQCcxCKwc2hVAQfFjzF0LE0AnwoanV4oWQAtGJXUCmghATmIQWDm0BEApyxDHungRQOXQItv5/hBAvp8aL90kCkCV1AloImwJQGB2Tx4WKhBAVTAqqRNQFkCNl24Sg0AIQIv9ZffkIRFAh6dXyjJEDkDsUbgehesLQPXb14FzxgZAPL1SliEOBkAAb4EExY8JQCZTBaOSuglAi2zn+6nxBUDjNhrAW2ATQDGZKhiVFBBAL90kBoGVCkDBOSNKe0MXQDeJQWDl0A1AsHJoke18FUAhH/RsVn0HQN/gC5OpQhVAzhlR2hv8E0Df4AuTqUIVQGIQWDm0SBJAzczMzMxMFUC2hHzQs5kTQIlBYOXQohJAg8DKoUU2GEAGgZVDi+wWQBkEVg4tMhFAPnlYqDUNGUA1XrpJDAIXQIj029eBcxFA9+RhodZ0F0BJnYAmwkYWQOELk6mCERlAF9nO91PjDECaCBueXmkRQD81XrpJjBVAJuSDns0qCEBgdk8eFioSQFg5tMh2PhZACyQofow5DEBqTfOOUzQZQMuhRbbzfRRA16NwPQpXGUAZBFYOLTIYQAAAAAAAgBNAg8DKoUW2DkCVZYhjXdwUQAMJih9jbhVA6bevA+eMDEBZF7fRAF4MQGQ730+NFxZA+FPjpZvEF0A730+Nl+4SQFpkO99PjRdANqs+V1sxGkDgvg6cM+IVQEcDeAskqBFAKqkT0ETYFkCq8dJNYhAZQI/C9ShcjwhAsp3vp8ZLGUDQs1n1uZoYQEHxY8xdixVAqRPQRNhwEEB90LNZ9fkQQJ/Nqs/VlhhAgZVDi2ynEkDyQc9m1ecPQLKd76fGSxpALUMc6+L2EUCiRbbz/VQSQOAtkKD4MRRAK/aX3ZNHGUCsrdhfdo8UQFmGONbF7RZAnMQgsHJoAUAQ6bevA6cXQE7RkVz+Qw5AtRX7y+5JFEAg0m9fB84QQC9uowG8xRlA54wo7Q3+E0AAAAAAAAAPQNcS8kHPZgpABOeMKO2NEkCe76fGS7cPQGFUUiegSRBAp3nHKToSDkD6fmq8dJMZQD81XrpJDBhAMzMzMzOzFUAH8BZIUPwIQIJzRpT2hgpAF0hQ/BhzB0BuowG8BZIWQM4ZUdobfBZAmSoYldTJFkC+nxov3SQKQAn5oGezagpAcvkP6bdvGUAgQfFjzB0YQPrt68A5YxBAsp3vp8bLGkB5WKg1zXsZQH0/NV66yRRAeJyiI7l8DkDr4jYawBsaQKd5xyk6EgNA7nw/NV46EkD35GGh1vQRQFOWIY518QtAcM6I0t7gCUChZ7PqczUMQGiR7Xw/tRRAkX77OnAOGUCY3ZOHhRoaQLG/7J48rBJAn6ut2F/2BEAZ4lgXt5EYQJ88LNSa5hJAwFsgQfHjHEB7FK5H4foUQHWTGARWjhtAlPYGX5jMBkCNl24Sg0AaQJhuEoPAShRAn6ut2F92DkAj2/l+arwOQGx4eqUsgxlA8fRKWYa4CEAydy0hHzQZQFUwKqkTUA1AWvW52op9GUBUUiegifARQHh6pSxDXB1Agy9MpgpGBkBvEoPAyqEUQCuHFtnOdxFAvJaQD3o2B0Cad5yiIzkUQESLbOf7KRZADJOpglEJF0D5oGez6vMDQAyTqYJRiRVASOF6FK5HCECCc0aU9oYPQKabxCCwcg1AB/AWSFC8EEAKaCJsePoYQET67evA+RFAR3L5D+n3EEAbL90kBoEUQFr1udqKvRlAV1uxv+weGEDn+6nx0k0GQI2XbhKDwAJAGsBbIEExFECfPCzUmmYWQBkEVg4tMhlAAJF++zqwGUAj2/l+arwQQJZDi2znexZAIGPuWkK+EUDjpZvEIDAaQBBYObTI9hJA54wo7Q1+FUAkl/+QfrsXQKhXyjLEcRVAMQisHFpkBkBQjZduEoMJQOviNhrAGxBAqMZLN4nBEUDVCWgibDgTQMRCrWnecRVAOwFNhA1PCUD0/dR46SYQQC7/If329RRAK/aX3ZOHCUBcj8L1KFwUQDj4wmSqIBFAwcqhRbbzE0A/NV66SQwPQBpR2ht84RZAkQ96Nqu+DkBYyjLEsW4bQKqCUUmdQBlAI0p7gy/MDUDSb18HzpkMQKJFtvP91BRAbqMBvAVSEkAi/fZ14BwXQIV80LNZtRZAXCBB8WMMGkCI9NvXgfMLQOF6FK5HIRlAgZVDi2znGkB8YTJVMCoPQPT91HjpphdAn82qz9VWFEDoaiv2l50WQM3MzMzMzBtAarx0kxgEDkB8YTJVMKoUQEHxY8xdCxhA+FPjpZtEGUACK4cW2c4VQBsv3SQGARhAbxKDwMqhGkBNFYxK6oQUQIPAyqFFthlAGQRWDi0yHECOBvAWSJAUQNuK/WX3pBBAiPTb14FzF0B1kxgEVg4aQLU3+MJkahRA/fZ14JwRGkDjNhrAW6AIQPjCZKpg1AZASS7/If12HECBJsKGp1cKQGx4eqUsAxZAZmZmZmbmGkBEaW/whUkRQAtGJXUCWhJAaJHtfD81GUDD9Shcj0IQQCnLEMe6eBlAdCSX/5A+FkA3iUFg5dAYQLgehetROBpA48eYu5aQEUDpJjEIrBwUQF1txf6y+wZAVHQkl/9QG0CYTBWMSqobQIy5awn5IBVA5fIf0m/fEUCZu5aQD/oIQJZDi2zn+xtAt9EA3gKJDkCFfNCzWfUHQDvfT42X7hBAkDF3LSHfE0ArhxbZzvcZQAwCK4cW2RtA9P3UeOmmGUBYqDXNO44eQHZxGw3gbRBAWMoyxLHuFkBIUPwYc5cTQC9uowG8xR5ADr4wmSrYHUA7cM6I0p4UQBfZzvdT4x1AT6+UZYgjFkCuR+F6FK4TQMuhRbbz/RNAJzEIrBxaG0BDHOviNtoVQABvgQTFTxFAih9j7lrCDkBhVFInoMkUQHuDL0ymSh1AMQisHFpkGkAxmSoYlZQSQCxlGeJYlwxAjZduEoNAHUAOLbKd76cbQPkP6bevQxJAMLsnDws1GkB+jLlrCfkbQDSitDf4ghZAjSjtDb7wF0C5jQbwFogZQOzAOSNKexZACRueXilLGUCh+DHmriUUQLx0kxgE1h9ATtGRXP5DD0DUK2UZ4hgUQPmgZ7Pq8xZAQs9m1ecqGUAg0m9fB04NQBQ/xty1RBVA+8vuycPCDUD1udqK/aUeQGN/2T15WBRAW7G/7J58FUBTBaOSOoEQQHnpJjEIrBtANs07TtHRGkD5D+m3r0MbQIiFWtO84w1AMCqpE9CEEUDtDb4wmeoeQFR0JJf/UBRAaQBvgQQFHUAbDeAtkKATQP7UeOkmsRxAzTtO0ZHcD0DsUbgeheseQFUwKqkT0BhAmG4Sg8DKFUDHuriNBrARQFRSJ6CJsBVAgSbChqeXFkDXNO84RUcMQHWTGARWDhhA0gDeAglKE0BApN++DtwWQH9qvHSTmBVA48eYu5aQGEDWxW00gLcXQPjCZKpglBdA3bWEfNAzGEBWDi2ynW8XQKJFtvP91BBA6SYxCKwcFUA+eVioNQ0WQG6jAbwFkhNAdLUV+8vuDkAfhetRuB4NQMiYu5aQTxVAXrpJDAKrDUDhehSuR+EMQD0s1Jrm3RBAnKIjufwHDkBVwaikTsASQOQUHcnlPxBAaW/whcnUDkDBqKROQJMLQDEIrBxaZAtAysNCrWleDECV1AloImwPQHNoke18Pw5Aofgx5q4lEkCWQ4ts5/sLQGHD0ytlmRFAirDh6ZXyEkDEsS5uowEPQPOOU3Qk1xJAxf6ye/KwEkCppE5AE+EMQEATYcPTqw1AcT0K16NwDEAW+8vuyQMRQLpJDAIrhwxA5dAi2/n+EEDwp8ZLN4kNQNGRXP5D+gtA3NeBc0bUEEDKVMGopM4KQIY41sVttA5AGsBbIEHxD0A8TtGRXL4QQAYSFD/G3A9ATRWMSuoEEEACvAUSFD8PQBfZzvdT4w5AbxKDwMqhDkCQoPgx5i4LQKg1zTtOkRBAw/UoXI9CEUBg5dAi2/kQQCGwcmiR7Q1AeekmMQgsEEDy0k1iENgLQGq8dJMYBA5ABOeMKO3NEEAj2/l+arwPQA5Pr5RlCAxA5dAi2/l+DkCaCBueXikPQKqCUUmdgA1AcvkP6bevDEBiEFg5tEgQQPvL7snDwg5A1CtlGeJYCkBkXdxGA/gKQPYoXI/C9QpAvjCZKhiVD0Dn+6nx0k0IQHo2qz5X2w1A4lgXt9GADkCmm8QgsPIMQKUsQxzrYg5AV1uxv+weDEBgdk8eFuoLQPyp8dJNYgpA/Knx0k1iEEBUdCSX/xALQLivA+eMKBBAF7fRAN6CEEDYgXNGlPYNQHE9CtejcBBAuECC4scYDkDhehSuR2EQQFTjpZvEIA5AF9nO91PjD0BNhA1Pr5QMQATnjCjtDQ1AXwfOGVFaD0DWxW00gDcPQDm0yHa+nxFAUWuad5wiEUDvycNCrWkRQH6MuWsJ+Q1AjgbwFkhQDUBTliGOdfEHQI/k8h/SLxBAWKg1zTtOC0AZBFYOLXIQQJSHhVrTfBJAirDh6ZUyCUD6fmq8dJMSQGEyVTAqqRBAqmBUUifgEkB56SYxCGwQQCUGgZVDCxJAuK8D54zoEUC+MJkqGJUMQLraiv1l9wtAWMoyxLHuEUBBguLHmHsRQNPe4AuTKQ5Ad76fGi9dDkBcj8L1KNwTQE+vlGWI4wxAj8L1KFwPEEBn1edqK7YRQDXvOEVHshJAqaROQBPhDkBpAG+BBAURQJhuEoPAygVA5fIf0m/fCUAfhetRuB4UQGq8dJMYBAVAAiuHFtlOEkC/DpwzonQQQLAD54woLRNA1zTvOEXHD0CQoPgx5i4RQNV46SYxyBBAy6FFtvP9DUC0yHa+n9oRQM3MzMzMzBFAN4lBYOXQC0BqTfOOU7QQQNJvXwfOmQJAOiNKe4OvBEB/+zpwzoj5P6g1zTtOUQ5A9UpZhjhWB0BR2ht8YbICQHo2qz5XGxBAOUVHcvkPB0Ag0m9fB04IQMNkqmBUUgJAxLEubqOBDEAr9pfdk4cGQISezarP1QdAlkOLbOd7EEC8lpAPerYGQMPTK2UZ4g5ADAIrhxbZCkCppE5AE6EUQFInoImw4QxAlkOLbOf7AkBApN++DpwKQLhAguLHGAtAZohjXdzGBEAzxLEubuMUQFCNl24SAwlAF7fRAN6CCkAnoImw4SkVQFyPwvUoXAxA0SLb+X5qBEA9CtejcD0UQAdfmEwVTBBABoGVQ4usEECGyVTBqGQRQFmGONbF7QNAutqK/WU3EkChZ7PqczUQQAkbnl4pixRAtoR80LMZFECL/WX35KETQEaU9gZfGA1A7Q2+MJnqFEBuNIC3QAILQHgLJCh+TBFAMuauJeSDFEBOYhBYOTQWQH/7OnDOSBFAhA1Pr5RlE0CNKO0NvnAUQEmdgCbCxhBAnDOitDe4FEBrK/aX3RMWQC1DHOvi9hJA/yH99nVgD0BfKcsQx3oVQDQRNjy90g9AF9nO91MjEECZu5aQD/oSQMoyxLEuLhBAwcqhRbZzEED2KFyPwnURQMSxLm6jAQtARrbz/dR4/T/Oqs/VVuwNQJhuEoPAihJAwcqhRbZzFEAEVg4tsh0JQO58PzVeehFAhetRuB7FFkAK16NwPQoKQHsUrkfh+glAcRsN4C3QEUCTGARWDi0OQDnWxW00AA5Adk8eFmrNEUARx7q4jQYMQIbJVMGopPo/jnVxGw3g/T86kst/SD8OQHS1FfvLbgpAwTkjSnuDEUB4eqUsQxwCQDarPldbMRFAM8SxLm4jEEA9LNSa5p0QQP5l9+RhoQNAJQaBlUOLAUAWak3zjlMDQEoMAiuH1hJA/kP67etAAUDb+X5qvHQLQFFrmnecogBA4L4OnDOi+j/lYaHWNO8FQL3jFB3JZQJAm+Ydp+jIBUCF61G4HoUFQOOlm8QgsAlAlPYGX5hMAUAkufyH9FsAQJp3nKIjOQJA78nDQq1pB0CUh4Va07wEQNDVVuwvOwxA",
          "dtype": "f8"
         },
         "xaxis": "x",
         "yaxis": "y"
        }
       ],
       "layout": {
        "barmode": "relative",
        "legend": {
         "tracegroupgap": 0
        },
        "showlegend": false,
        "template": {
         "data": {
          "bar": [
           {
            "error_x": {
             "color": "#f2f5fa"
            },
            "error_y": {
             "color": "#f2f5fa"
            },
            "marker": {
             "line": {
              "color": "rgb(17,17,17)",
              "width": 0.5
             },
             "pattern": {
              "fillmode": "overlay",
              "size": 10,
              "solidity": 0.2
             }
            },
            "type": "bar"
           }
          ],
          "barpolar": [
           {
            "marker": {
             "line": {
              "color": "rgb(17,17,17)",
              "width": 0.5
             },
             "pattern": {
              "fillmode": "overlay",
              "size": 10,
              "solidity": 0.2
             }
            },
            "type": "barpolar"
           }
          ],
          "carpet": [
           {
            "aaxis": {
             "endlinecolor": "#A2B1C6",
             "gridcolor": "#506784",
             "linecolor": "#506784",
             "minorgridcolor": "#506784",
             "startlinecolor": "#A2B1C6"
            },
            "baxis": {
             "endlinecolor": "#A2B1C6",
             "gridcolor": "#506784",
             "linecolor": "#506784",
             "minorgridcolor": "#506784",
             "startlinecolor": "#A2B1C6"
            },
            "type": "carpet"
           }
          ],
          "choropleth": [
           {
            "colorbar": {
             "outlinewidth": 0,
             "ticks": ""
            },
            "type": "choropleth"
           }
          ],
          "contour": [
           {
            "colorbar": {
             "outlinewidth": 0,
             "ticks": ""
            },
            "colorscale": [
             [
              0,
              "#0d0887"
             ],
             [
              0.1111111111111111,
              "#46039f"
             ],
             [
              0.2222222222222222,
              "#7201a8"
             ],
             [
              0.3333333333333333,
              "#9c179e"
             ],
             [
              0.4444444444444444,
              "#bd3786"
             ],
             [
              0.5555555555555556,
              "#d8576b"
             ],
             [
              0.6666666666666666,
              "#ed7953"
             ],
             [
              0.7777777777777778,
              "#fb9f3a"
             ],
             [
              0.8888888888888888,
              "#fdca26"
             ],
             [
              1,
              "#f0f921"
             ]
            ],
            "type": "contour"
           }
          ],
          "contourcarpet": [
           {
            "colorbar": {
             "outlinewidth": 0,
             "ticks": ""
            },
            "type": "contourcarpet"
           }
          ],
          "heatmap": [
           {
            "colorbar": {
             "outlinewidth": 0,
             "ticks": ""
            },
            "colorscale": [
             [
              0,
              "#0d0887"
             ],
             [
              0.1111111111111111,
              "#46039f"
             ],
             [
              0.2222222222222222,
              "#7201a8"
             ],
             [
              0.3333333333333333,
              "#9c179e"
             ],
             [
              0.4444444444444444,
              "#bd3786"
             ],
             [
              0.5555555555555556,
              "#d8576b"
             ],
             [
              0.6666666666666666,
              "#ed7953"
             ],
             [
              0.7777777777777778,
              "#fb9f3a"
             ],
             [
              0.8888888888888888,
              "#fdca26"
             ],
             [
              1,
              "#f0f921"
             ]
            ],
            "type": "heatmap"
           }
          ],
          "histogram": [
           {
            "marker": {
             "pattern": {
              "fillmode": "overlay",
              "size": 10,
              "solidity": 0.2
             }
            },
            "type": "histogram"
           }
          ],
          "histogram2d": [
           {
            "colorbar": {
             "outlinewidth": 0,
             "ticks": ""
            },
            "colorscale": [
             [
              0,
              "#0d0887"
             ],
             [
              0.1111111111111111,
              "#46039f"
             ],
             [
              0.2222222222222222,
              "#7201a8"
             ],
             [
              0.3333333333333333,
              "#9c179e"
             ],
             [
              0.4444444444444444,
              "#bd3786"
             ],
             [
              0.5555555555555556,
              "#d8576b"
             ],
             [
              0.6666666666666666,
              "#ed7953"
             ],
             [
              0.7777777777777778,
              "#fb9f3a"
             ],
             [
              0.8888888888888888,
              "#fdca26"
             ],
             [
              1,
              "#f0f921"
             ]
            ],
            "type": "histogram2d"
           }
          ],
          "histogram2dcontour": [
           {
            "colorbar": {
             "outlinewidth": 0,
             "ticks": ""
            },
            "colorscale": [
             [
              0,
              "#0d0887"
             ],
             [
              0.1111111111111111,
              "#46039f"
             ],
             [
              0.2222222222222222,
              "#7201a8"
             ],
             [
              0.3333333333333333,
              "#9c179e"
             ],
             [
              0.4444444444444444,
              "#bd3786"
             ],
             [
              0.5555555555555556,
              "#d8576b"
             ],
             [
              0.6666666666666666,
              "#ed7953"
             ],
             [
              0.7777777777777778,
              "#fb9f3a"
             ],
             [
              0.8888888888888888,
              "#fdca26"
             ],
             [
              1,
              "#f0f921"
             ]
            ],
            "type": "histogram2dcontour"
           }
          ],
          "mesh3d": [
           {
            "colorbar": {
             "outlinewidth": 0,
             "ticks": ""
            },
            "type": "mesh3d"
           }
          ],
          "parcoords": [
           {
            "line": {
             "colorbar": {
              "outlinewidth": 0,
              "ticks": ""
             }
            },
            "type": "parcoords"
           }
          ],
          "pie": [
           {
            "automargin": true,
            "type": "pie"
           }
          ],
          "scatter": [
           {
            "marker": {
             "line": {
              "color": "#283442"
             }
            },
            "type": "scatter"
           }
          ],
          "scatter3d": [
           {
            "line": {
             "colorbar": {
              "outlinewidth": 0,
              "ticks": ""
             }
            },
            "marker": {
             "colorbar": {
              "outlinewidth": 0,
              "ticks": ""
             }
            },
            "type": "scatter3d"
           }
          ],
          "scattercarpet": [
           {
            "marker": {
             "colorbar": {
              "outlinewidth": 0,
              "ticks": ""
             }
            },
            "type": "scattercarpet"
           }
          ],
          "scattergeo": [
           {
            "marker": {
             "colorbar": {
              "outlinewidth": 0,
              "ticks": ""
             }
            },
            "type": "scattergeo"
           }
          ],
          "scattergl": [
           {
            "marker": {
             "line": {
              "color": "#283442"
             }
            },
            "type": "scattergl"
           }
          ],
          "scattermap": [
           {
            "marker": {
             "colorbar": {
              "outlinewidth": 0,
              "ticks": ""
             }
            },
            "type": "scattermap"
           }
          ],
          "scattermapbox": [
           {
            "marker": {
             "colorbar": {
              "outlinewidth": 0,
              "ticks": ""
             }
            },
            "type": "scattermapbox"
           }
          ],
          "scatterpolar": [
           {
            "marker": {
             "colorbar": {
              "outlinewidth": 0,
              "ticks": ""
             }
            },
            "type": "scatterpolar"
           }
          ],
          "scatterpolargl": [
           {
            "marker": {
             "colorbar": {
              "outlinewidth": 0,
              "ticks": ""
             }
            },
            "type": "scatterpolargl"
           }
          ],
          "scatterternary": [
           {
            "marker": {
             "colorbar": {
              "outlinewidth": 0,
              "ticks": ""
             }
            },
            "type": "scatterternary"
           }
          ],
          "surface": [
           {
            "colorbar": {
             "outlinewidth": 0,
             "ticks": ""
            },
            "colorscale": [
             [
              0,
              "#0d0887"
             ],
             [
              0.1111111111111111,
              "#46039f"
             ],
             [
              0.2222222222222222,
              "#7201a8"
             ],
             [
              0.3333333333333333,
              "#9c179e"
             ],
             [
              0.4444444444444444,
              "#bd3786"
             ],
             [
              0.5555555555555556,
              "#d8576b"
             ],
             [
              0.6666666666666666,
              "#ed7953"
             ],
             [
              0.7777777777777778,
              "#fb9f3a"
             ],
             [
              0.8888888888888888,
              "#fdca26"
             ],
             [
              1,
              "#f0f921"
             ]
            ],
            "type": "surface"
           }
          ],
          "table": [
           {
            "cells": {
             "fill": {
              "color": "#506784"
             },
             "line": {
              "color": "rgb(17,17,17)"
             }
            },
            "header": {
             "fill": {
              "color": "#2a3f5f"
             },
             "line": {
              "color": "rgb(17,17,17)"
             }
            },
            "type": "table"
           }
          ]
         },
         "layout": {
          "annotationdefaults": {
           "arrowcolor": "#f2f5fa",
           "arrowhead": 0,
           "arrowwidth": 1
          },
          "autotypenumbers": "strict",
          "coloraxis": {
           "colorbar": {
            "outlinewidth": 0,
            "ticks": ""
           }
          },
          "colorscale": {
           "diverging": [
            [
             0,
             "#8e0152"
            ],
            [
             0.1,
             "#c51b7d"
            ],
            [
             0.2,
             "#de77ae"
            ],
            [
             0.3,
             "#f1b6da"
            ],
            [
             0.4,
             "#fde0ef"
            ],
            [
             0.5,
             "#f7f7f7"
            ],
            [
             0.6,
             "#e6f5d0"
            ],
            [
             0.7,
             "#b8e186"
            ],
            [
             0.8,
             "#7fbc41"
            ],
            [
             0.9,
             "#4d9221"
            ],
            [
             1,
             "#276419"
            ]
           ],
           "sequential": [
            [
             0,
             "#0d0887"
            ],
            [
             0.1111111111111111,
             "#46039f"
            ],
            [
             0.2222222222222222,
             "#7201a8"
            ],
            [
             0.3333333333333333,
             "#9c179e"
            ],
            [
             0.4444444444444444,
             "#bd3786"
            ],
            [
             0.5555555555555556,
             "#d8576b"
            ],
            [
             0.6666666666666666,
             "#ed7953"
            ],
            [
             0.7777777777777778,
             "#fb9f3a"
            ],
            [
             0.8888888888888888,
             "#fdca26"
            ],
            [
             1,
             "#f0f921"
            ]
           ],
           "sequentialminus": [
            [
             0,
             "#0d0887"
            ],
            [
             0.1111111111111111,
             "#46039f"
            ],
            [
             0.2222222222222222,
             "#7201a8"
            ],
            [
             0.3333333333333333,
             "#9c179e"
            ],
            [
             0.4444444444444444,
             "#bd3786"
            ],
            [
             0.5555555555555556,
             "#d8576b"
            ],
            [
             0.6666666666666666,
             "#ed7953"
            ],
            [
             0.7777777777777778,
             "#fb9f3a"
            ],
            [
             0.8888888888888888,
             "#fdca26"
            ],
            [
             1,
             "#f0f921"
            ]
           ]
          },
          "colorway": [
           "#636efa",
           "#EF553B",
           "#00cc96",
           "#ab63fa",
           "#FFA15A",
           "#19d3f3",
           "#FF6692",
           "#B6E880",
           "#FF97FF",
           "#FECB52"
          ],
          "font": {
           "color": "#f2f5fa"
          },
          "geo": {
           "bgcolor": "rgb(17,17,17)",
           "lakecolor": "rgb(17,17,17)",
           "landcolor": "rgb(17,17,17)",
           "showlakes": true,
           "showland": true,
           "subunitcolor": "#506784"
          },
          "hoverlabel": {
           "align": "left"
          },
          "hovermode": "closest",
          "mapbox": {
           "style": "dark"
          },
          "paper_bgcolor": "rgb(17,17,17)",
          "plot_bgcolor": "rgb(17,17,17)",
          "polar": {
           "angularaxis": {
            "gridcolor": "#506784",
            "linecolor": "#506784",
            "ticks": ""
           },
           "bgcolor": "rgb(17,17,17)",
           "radialaxis": {
            "gridcolor": "#506784",
            "linecolor": "#506784",
            "ticks": ""
           }
          },
          "scene": {
           "xaxis": {
            "backgroundcolor": "rgb(17,17,17)",
            "gridcolor": "#506784",
            "gridwidth": 2,
            "linecolor": "#506784",
            "showbackground": true,
            "ticks": "",
            "zerolinecolor": "#C8D4E3"
           },
           "yaxis": {
            "backgroundcolor": "rgb(17,17,17)",
            "gridcolor": "#506784",
            "gridwidth": 2,
            "linecolor": "#506784",
            "showbackground": true,
            "ticks": "",
            "zerolinecolor": "#C8D4E3"
           },
           "zaxis": {
            "backgroundcolor": "rgb(17,17,17)",
            "gridcolor": "#506784",
            "gridwidth": 2,
            "linecolor": "#506784",
            "showbackground": true,
            "ticks": "",
            "zerolinecolor": "#C8D4E3"
           }
          },
          "shapedefaults": {
           "line": {
            "color": "#f2f5fa"
           }
          },
          "sliderdefaults": {
           "bgcolor": "#C8D4E3",
           "bordercolor": "rgb(17,17,17)",
           "borderwidth": 1,
           "tickwidth": 0
          },
          "ternary": {
           "aaxis": {
            "gridcolor": "#506784",
            "linecolor": "#506784",
            "ticks": ""
           },
           "baxis": {
            "gridcolor": "#506784",
            "linecolor": "#506784",
            "ticks": ""
           },
           "bgcolor": "rgb(17,17,17)",
           "caxis": {
            "gridcolor": "#506784",
            "linecolor": "#506784",
            "ticks": ""
           }
          },
          "title": {
           "x": 0.05
          },
          "updatemenudefaults": {
           "bgcolor": "#506784",
           "borderwidth": 0
          },
          "xaxis": {
           "automargin": true,
           "gridcolor": "#283442",
           "linecolor": "#506784",
           "ticks": "",
           "title": {
            "standoff": 15
           },
           "zerolinecolor": "#283442",
           "zerolinewidth": 2
          },
          "yaxis": {
           "automargin": true,
           "gridcolor": "#283442",
           "linecolor": "#506784",
           "ticks": "",
           "title": {
            "standoff": 15
           },
           "zerolinecolor": "#283442",
           "zerolinewidth": 2
          }
         }
        },
        "title": {
         "text": "Flash: Response time density (Flash-only)"
        },
        "xaxis": {
         "anchor": "y",
         "domain": [
          0,
          1
         ],
         "title": {
          "text": "Response time (s)"
         }
        },
        "yaxis": {
         "anchor": "x",
         "domain": [
          0,
          1
         ],
         "title": {
          "text": "Density"
         }
        }
       }
      }
     },
     "metadata": {},
     "output_type": "display_data"
    },
    {
     "name": "stdout",
     "output_type": "stream",
     "text": [
      "Flash response-time — median: 4.450s, mean: 4.465s, rows: 4800\n"
     ]
    }
   ],
   "source": [
    "# Flash-only response-time density plot\n",
    "# This cell will try common variable names for a flash-only dataframe.\n",
    "try:\n",
    "    super_heavy_net\n",
    "except NameError:\n",
    "    super_heavy_net = None\n",
    "    for name in ['flash_only', 'super_heavy_net', 'super_heavy_net', 'nhv_flash', 'cpu_flash', 'cpu_w_sse_flash']:\n",
    "        try:\n",
    "            candidate = eval(name)\n",
    "            # Heuristic: prefer tables that look like per-request logs (have an 'offset' or 'response-time' column)\n",
    "            if isinstance(candidate, pd.DataFrame) and any(c in candidate.columns for c in ['offset', 'response-time', 'response_time']):\n",
    "                super_heavy_net = candidate\n",
    "                print(f\"Using dataframe '{name}' as super_heavy_net\")\n",
    "                break\n",
    "        except Exception:\n",
    "            pass\n",
    "    if super_heavy_net is None:\n",
    "        raise NameError(\"No flash dataframe found. Create one named 'flash_only' or 'super_heavy_net', or ensure 'nhv_flash' exists in this notebook.\")\n",
    "\n",
    "# Choose the response-time column name\n",
    "if 'response-time' in super_heavy_net.columns:\n",
    "    rt_col = 'response-time'\n",
    "elif 'response_time' in super_heavy_net.columns:\n",
    "    rt_col = 'response_time'\n",
    "else:\n",
    "    raise ValueError(\"Flash dataframe missing expected column 'response-time' or 'response_time'.\")\n",
    "\n",
    "# Plot density (histogram normalized to density)\n",
    "import plotly.express as px\n",
    "flash_color = COLOR_MAP.get('Flash', '#EF553B') if 'COLOR_MAP' in globals() else '#EF553B'\n",
    "fig_flash_density = px.histogram(\n",
    "    super_heavy_net.dropna(subset=[rt_col]),\n",
    "    x=rt_col,\n",
    "    nbins=60,\n",
    "    histnorm='probability density',\n",
    "    opacity=0.75,\n",
    "    color_discrete_sequence=[flash_color],\n",
    "    title='Flash: Response time density (Flash-only)'\n",
    ")\n",
    "fig_flash_density.update_layout(xaxis_title='Response time (s)', yaxis_title='Density', showlegend=False)\n",
    "fig_flash_density.show()\n",
    "\n",
    "# Print quick summary stats\n",
    "med = super_heavy_net[rt_col].median()\n",
    "mean = super_heavy_net[rt_col].mean()\n",
    "print(f\"Flash {rt_col} — median: {med:.3f}s, mean: {mean:.3f}s, rows: {len(super_heavy_net)}\")"
   ]
  },
  {
   "cell_type": "code",
   "execution_count": 56,
   "id": "c0a7f37f",
   "metadata": {},
   "outputs": [
    {
     "data": {
      "application/vnd.plotly.v1+json": {
       "config": {
        "plotlyServerURL": "https://plot.ly"
       },
       "data": [
        {
         "hovertemplate": "Time (s)=%{x}<br>Requests per second=%{text}<extra></extra>",
         "legendgroup": "",
         "line": {
          "color": "#EF553B",
          "dash": "solid"
         },
         "marker": {
          "size": 6,
          "symbol": "circle"
         },
         "mode": "lines+markers+text",
         "name": "",
         "orientation": "v",
         "showlegend": false,
         "text": {
          "bdata": "AAAAAADAgkAAAAAAAIBOQAAAAAAAQGRAAAAAAACgY0AAAAAAAIBeQAAAAAAAwGJAAAAAAADgYkAAAAAAAOBgQAAAAAAAgFZAAAAAAADAYkAAAAAAAEBiQAAAAAAAAGFAAAAAAADAYUAAAAAAAABjQAAAAAAAQGFAAAAAAAAAW0AAAAAAAKBgQAAAAAAAQGJAAAAAAAAAYEAAAAAAAABgQAAAAAAAgFtAAAAAAADAV0AAAAAAAIBYQAAAAAAAAElAAAAAAACAU0AAAAAAAEBXQAAAAAAAAFhAAAAAAAAAVUAAAAAAAEBWQAAAAAAAAFVAAAAAAACASkAAAAAAAABUQAAAAAAAgFVAAAAAAAAAVUAAAAAAAABTQAAAAAAAgFJAAAAAAACATkAAAAAAAIBEQAAAAAAAgEpAAAAAAACAS0AAAAAAAIBEQAAAAAAAAEJAAAAAAAAAOkAAAAAAAAAUQAAAAAAAACRAAAAAAAAAHEA=",
          "dtype": "f8"
         },
         "textposition": "top center",
         "texttemplate": "%{text:.0f}",
         "type": "scatter",
         "x": {
          "bdata": "AAECAwQFBgcICQoLDA0ODxAREhMUFRYXGBkaGxwdHh8gISIjJCUmJygpKissLQ==",
          "dtype": "i1"
         },
         "xaxis": "x",
         "y": {
          "bdata": "WAI9AKIAnQB6AJYAlwCHAFoAlgCSAIgAjgCYAIoAbACFAJIAgACAAG4AXwBiADIATgBdAGAAVABZAFQANQBQAFYAVABMAEoAPQApADUANwApACQAGgAFAAoABwA=",
          "dtype": "i2"
         },
         "yaxis": "y"
        }
       ],
       "layout": {
        "legend": {
         "tracegroupgap": 0
        },
        "template": {
         "data": {
          "bar": [
           {
            "error_x": {
             "color": "#f2f5fa"
            },
            "error_y": {
             "color": "#f2f5fa"
            },
            "marker": {
             "line": {
              "color": "rgb(17,17,17)",
              "width": 0.5
             },
             "pattern": {
              "fillmode": "overlay",
              "size": 10,
              "solidity": 0.2
             }
            },
            "type": "bar"
           }
          ],
          "barpolar": [
           {
            "marker": {
             "line": {
              "color": "rgb(17,17,17)",
              "width": 0.5
             },
             "pattern": {
              "fillmode": "overlay",
              "size": 10,
              "solidity": 0.2
             }
            },
            "type": "barpolar"
           }
          ],
          "carpet": [
           {
            "aaxis": {
             "endlinecolor": "#A2B1C6",
             "gridcolor": "#506784",
             "linecolor": "#506784",
             "minorgridcolor": "#506784",
             "startlinecolor": "#A2B1C6"
            },
            "baxis": {
             "endlinecolor": "#A2B1C6",
             "gridcolor": "#506784",
             "linecolor": "#506784",
             "minorgridcolor": "#506784",
             "startlinecolor": "#A2B1C6"
            },
            "type": "carpet"
           }
          ],
          "choropleth": [
           {
            "colorbar": {
             "outlinewidth": 0,
             "ticks": ""
            },
            "type": "choropleth"
           }
          ],
          "contour": [
           {
            "colorbar": {
             "outlinewidth": 0,
             "ticks": ""
            },
            "colorscale": [
             [
              0,
              "#0d0887"
             ],
             [
              0.1111111111111111,
              "#46039f"
             ],
             [
              0.2222222222222222,
              "#7201a8"
             ],
             [
              0.3333333333333333,
              "#9c179e"
             ],
             [
              0.4444444444444444,
              "#bd3786"
             ],
             [
              0.5555555555555556,
              "#d8576b"
             ],
             [
              0.6666666666666666,
              "#ed7953"
             ],
             [
              0.7777777777777778,
              "#fb9f3a"
             ],
             [
              0.8888888888888888,
              "#fdca26"
             ],
             [
              1,
              "#f0f921"
             ]
            ],
            "type": "contour"
           }
          ],
          "contourcarpet": [
           {
            "colorbar": {
             "outlinewidth": 0,
             "ticks": ""
            },
            "type": "contourcarpet"
           }
          ],
          "heatmap": [
           {
            "colorbar": {
             "outlinewidth": 0,
             "ticks": ""
            },
            "colorscale": [
             [
              0,
              "#0d0887"
             ],
             [
              0.1111111111111111,
              "#46039f"
             ],
             [
              0.2222222222222222,
              "#7201a8"
             ],
             [
              0.3333333333333333,
              "#9c179e"
             ],
             [
              0.4444444444444444,
              "#bd3786"
             ],
             [
              0.5555555555555556,
              "#d8576b"
             ],
             [
              0.6666666666666666,
              "#ed7953"
             ],
             [
              0.7777777777777778,
              "#fb9f3a"
             ],
             [
              0.8888888888888888,
              "#fdca26"
             ],
             [
              1,
              "#f0f921"
             ]
            ],
            "type": "heatmap"
           }
          ],
          "histogram": [
           {
            "marker": {
             "pattern": {
              "fillmode": "overlay",
              "size": 10,
              "solidity": 0.2
             }
            },
            "type": "histogram"
           }
          ],
          "histogram2d": [
           {
            "colorbar": {
             "outlinewidth": 0,
             "ticks": ""
            },
            "colorscale": [
             [
              0,
              "#0d0887"
             ],
             [
              0.1111111111111111,
              "#46039f"
             ],
             [
              0.2222222222222222,
              "#7201a8"
             ],
             [
              0.3333333333333333,
              "#9c179e"
             ],
             [
              0.4444444444444444,
              "#bd3786"
             ],
             [
              0.5555555555555556,
              "#d8576b"
             ],
             [
              0.6666666666666666,
              "#ed7953"
             ],
             [
              0.7777777777777778,
              "#fb9f3a"
             ],
             [
              0.8888888888888888,
              "#fdca26"
             ],
             [
              1,
              "#f0f921"
             ]
            ],
            "type": "histogram2d"
           }
          ],
          "histogram2dcontour": [
           {
            "colorbar": {
             "outlinewidth": 0,
             "ticks": ""
            },
            "colorscale": [
             [
              0,
              "#0d0887"
             ],
             [
              0.1111111111111111,
              "#46039f"
             ],
             [
              0.2222222222222222,
              "#7201a8"
             ],
             [
              0.3333333333333333,
              "#9c179e"
             ],
             [
              0.4444444444444444,
              "#bd3786"
             ],
             [
              0.5555555555555556,
              "#d8576b"
             ],
             [
              0.6666666666666666,
              "#ed7953"
             ],
             [
              0.7777777777777778,
              "#fb9f3a"
             ],
             [
              0.8888888888888888,
              "#fdca26"
             ],
             [
              1,
              "#f0f921"
             ]
            ],
            "type": "histogram2dcontour"
           }
          ],
          "mesh3d": [
           {
            "colorbar": {
             "outlinewidth": 0,
             "ticks": ""
            },
            "type": "mesh3d"
           }
          ],
          "parcoords": [
           {
            "line": {
             "colorbar": {
              "outlinewidth": 0,
              "ticks": ""
             }
            },
            "type": "parcoords"
           }
          ],
          "pie": [
           {
            "automargin": true,
            "type": "pie"
           }
          ],
          "scatter": [
           {
            "marker": {
             "line": {
              "color": "#283442"
             }
            },
            "type": "scatter"
           }
          ],
          "scatter3d": [
           {
            "line": {
             "colorbar": {
              "outlinewidth": 0,
              "ticks": ""
             }
            },
            "marker": {
             "colorbar": {
              "outlinewidth": 0,
              "ticks": ""
             }
            },
            "type": "scatter3d"
           }
          ],
          "scattercarpet": [
           {
            "marker": {
             "colorbar": {
              "outlinewidth": 0,
              "ticks": ""
             }
            },
            "type": "scattercarpet"
           }
          ],
          "scattergeo": [
           {
            "marker": {
             "colorbar": {
              "outlinewidth": 0,
              "ticks": ""
             }
            },
            "type": "scattergeo"
           }
          ],
          "scattergl": [
           {
            "marker": {
             "line": {
              "color": "#283442"
             }
            },
            "type": "scattergl"
           }
          ],
          "scattermap": [
           {
            "marker": {
             "colorbar": {
              "outlinewidth": 0,
              "ticks": ""
             }
            },
            "type": "scattermap"
           }
          ],
          "scattermapbox": [
           {
            "marker": {
             "colorbar": {
              "outlinewidth": 0,
              "ticks": ""
             }
            },
            "type": "scattermapbox"
           }
          ],
          "scatterpolar": [
           {
            "marker": {
             "colorbar": {
              "outlinewidth": 0,
              "ticks": ""
             }
            },
            "type": "scatterpolar"
           }
          ],
          "scatterpolargl": [
           {
            "marker": {
             "colorbar": {
              "outlinewidth": 0,
              "ticks": ""
             }
            },
            "type": "scatterpolargl"
           }
          ],
          "scatterternary": [
           {
            "marker": {
             "colorbar": {
              "outlinewidth": 0,
              "ticks": ""
             }
            },
            "type": "scatterternary"
           }
          ],
          "surface": [
           {
            "colorbar": {
             "outlinewidth": 0,
             "ticks": ""
            },
            "colorscale": [
             [
              0,
              "#0d0887"
             ],
             [
              0.1111111111111111,
              "#46039f"
             ],
             [
              0.2222222222222222,
              "#7201a8"
             ],
             [
              0.3333333333333333,
              "#9c179e"
             ],
             [
              0.4444444444444444,
              "#bd3786"
             ],
             [
              0.5555555555555556,
              "#d8576b"
             ],
             [
              0.6666666666666666,
              "#ed7953"
             ],
             [
              0.7777777777777778,
              "#fb9f3a"
             ],
             [
              0.8888888888888888,
              "#fdca26"
             ],
             [
              1,
              "#f0f921"
             ]
            ],
            "type": "surface"
           }
          ],
          "table": [
           {
            "cells": {
             "fill": {
              "color": "#506784"
             },
             "line": {
              "color": "rgb(17,17,17)"
             }
            },
            "header": {
             "fill": {
              "color": "#2a3f5f"
             },
             "line": {
              "color": "rgb(17,17,17)"
             }
            },
            "type": "table"
           }
          ]
         },
         "layout": {
          "annotationdefaults": {
           "arrowcolor": "#f2f5fa",
           "arrowhead": 0,
           "arrowwidth": 1
          },
          "autotypenumbers": "strict",
          "coloraxis": {
           "colorbar": {
            "outlinewidth": 0,
            "ticks": ""
           }
          },
          "colorscale": {
           "diverging": [
            [
             0,
             "#8e0152"
            ],
            [
             0.1,
             "#c51b7d"
            ],
            [
             0.2,
             "#de77ae"
            ],
            [
             0.3,
             "#f1b6da"
            ],
            [
             0.4,
             "#fde0ef"
            ],
            [
             0.5,
             "#f7f7f7"
            ],
            [
             0.6,
             "#e6f5d0"
            ],
            [
             0.7,
             "#b8e186"
            ],
            [
             0.8,
             "#7fbc41"
            ],
            [
             0.9,
             "#4d9221"
            ],
            [
             1,
             "#276419"
            ]
           ],
           "sequential": [
            [
             0,
             "#0d0887"
            ],
            [
             0.1111111111111111,
             "#46039f"
            ],
            [
             0.2222222222222222,
             "#7201a8"
            ],
            [
             0.3333333333333333,
             "#9c179e"
            ],
            [
             0.4444444444444444,
             "#bd3786"
            ],
            [
             0.5555555555555556,
             "#d8576b"
            ],
            [
             0.6666666666666666,
             "#ed7953"
            ],
            [
             0.7777777777777778,
             "#fb9f3a"
            ],
            [
             0.8888888888888888,
             "#fdca26"
            ],
            [
             1,
             "#f0f921"
            ]
           ],
           "sequentialminus": [
            [
             0,
             "#0d0887"
            ],
            [
             0.1111111111111111,
             "#46039f"
            ],
            [
             0.2222222222222222,
             "#7201a8"
            ],
            [
             0.3333333333333333,
             "#9c179e"
            ],
            [
             0.4444444444444444,
             "#bd3786"
            ],
            [
             0.5555555555555556,
             "#d8576b"
            ],
            [
             0.6666666666666666,
             "#ed7953"
            ],
            [
             0.7777777777777778,
             "#fb9f3a"
            ],
            [
             0.8888888888888888,
             "#fdca26"
            ],
            [
             1,
             "#f0f921"
            ]
           ]
          },
          "colorway": [
           "#636efa",
           "#EF553B",
           "#00cc96",
           "#ab63fa",
           "#FFA15A",
           "#19d3f3",
           "#FF6692",
           "#B6E880",
           "#FF97FF",
           "#FECB52"
          ],
          "font": {
           "color": "#f2f5fa"
          },
          "geo": {
           "bgcolor": "rgb(17,17,17)",
           "lakecolor": "rgb(17,17,17)",
           "landcolor": "rgb(17,17,17)",
           "showlakes": true,
           "showland": true,
           "subunitcolor": "#506784"
          },
          "hoverlabel": {
           "align": "left"
          },
          "hovermode": "closest",
          "mapbox": {
           "style": "dark"
          },
          "paper_bgcolor": "rgb(17,17,17)",
          "plot_bgcolor": "rgb(17,17,17)",
          "polar": {
           "angularaxis": {
            "gridcolor": "#506784",
            "linecolor": "#506784",
            "ticks": ""
           },
           "bgcolor": "rgb(17,17,17)",
           "radialaxis": {
            "gridcolor": "#506784",
            "linecolor": "#506784",
            "ticks": ""
           }
          },
          "scene": {
           "xaxis": {
            "backgroundcolor": "rgb(17,17,17)",
            "gridcolor": "#506784",
            "gridwidth": 2,
            "linecolor": "#506784",
            "showbackground": true,
            "ticks": "",
            "zerolinecolor": "#C8D4E3"
           },
           "yaxis": {
            "backgroundcolor": "rgb(17,17,17)",
            "gridcolor": "#506784",
            "gridwidth": 2,
            "linecolor": "#506784",
            "showbackground": true,
            "ticks": "",
            "zerolinecolor": "#C8D4E3"
           },
           "zaxis": {
            "backgroundcolor": "rgb(17,17,17)",
            "gridcolor": "#506784",
            "gridwidth": 2,
            "linecolor": "#506784",
            "showbackground": true,
            "ticks": "",
            "zerolinecolor": "#C8D4E3"
           }
          },
          "shapedefaults": {
           "line": {
            "color": "#f2f5fa"
           }
          },
          "sliderdefaults": {
           "bgcolor": "#C8D4E3",
           "bordercolor": "rgb(17,17,17)",
           "borderwidth": 1,
           "tickwidth": 0
          },
          "ternary": {
           "aaxis": {
            "gridcolor": "#506784",
            "linecolor": "#506784",
            "ticks": ""
           },
           "baxis": {
            "gridcolor": "#506784",
            "linecolor": "#506784",
            "ticks": ""
           },
           "bgcolor": "rgb(17,17,17)",
           "caxis": {
            "gridcolor": "#506784",
            "linecolor": "#506784",
            "ticks": ""
           }
          },
          "title": {
           "x": 0.05
          },
          "updatemenudefaults": {
           "bgcolor": "#506784",
           "borderwidth": 0
          },
          "xaxis": {
           "automargin": true,
           "gridcolor": "#283442",
           "linecolor": "#506784",
           "ticks": "",
           "title": {
            "standoff": 15
           },
           "zerolinecolor": "#283442",
           "zerolinewidth": 2
          },
          "yaxis": {
           "automargin": true,
           "gridcolor": "#283442",
           "linecolor": "#506784",
           "ticks": "",
           "title": {
            "standoff": 15
           },
           "zerolinecolor": "#283442",
           "zerolinewidth": 2
          }
         }
        },
        "title": {
         "text": "Flash: Requests per second over time"
        },
        "xaxis": {
         "anchor": "y",
         "domain": [
          0,
          1
         ],
         "title": {
          "text": "Time (s)"
         }
        },
        "yaxis": {
         "anchor": "x",
         "domain": [
          0,
          1
         ],
         "tickformat": ".0f",
         "title": {
          "text": "Requests per second"
         }
        }
       }
      }
     },
     "metadata": {},
     "output_type": "display_data"
    },
    {
     "data": {
      "text/html": [
       "<style type=\"text/css\">\n",
       "#T_b00b8_row0_col0, #T_b00b8_row0_col1, #T_b00b8_row0_col2 {\n",
       "  font-size: 12pt;\n",
       "}\n",
       "#T_b00b8_row0_col3 {\n",
       "  background-color: #f7fbff;\n",
       "  color: #000000;\n",
       "  font-size: 12pt;\n",
       "}\n",
       "</style>\n",
       "<table id=\"T_b00b8\">\n",
       "  <caption>Flash — totals</caption>\n",
       "  <thead>\n",
       "    <tr>\n",
       "      <th id=\"T_b00b8_level0_col0\" class=\"col_heading level0 col0\" >framework</th>\n",
       "      <th id=\"T_b00b8_level0_col1\" class=\"col_heading level0 col1\" >requests</th>\n",
       "      <th id=\"T_b00b8_level0_col2\" class=\"col_heading level0 col2\" >elapsed (s)</th>\n",
       "      <th id=\"T_b00b8_level0_col3\" class=\"col_heading level0 col3\" >req/s</th>\n",
       "    </tr>\n",
       "  </thead>\n",
       "  <tbody>\n",
       "    <tr>\n",
       "      <td id=\"T_b00b8_row0_col0\" class=\"data row0 col0\" >Flash</td>\n",
       "      <td id=\"T_b00b8_row0_col1\" class=\"data row0 col1\" >4800</td>\n",
       "      <td id=\"T_b00b8_row0_col2\" class=\"data row0 col2\" >45.650000</td>\n",
       "      <td id=\"T_b00b8_row0_col3\" class=\"data row0 col3\" >105.146300</td>\n",
       "    </tr>\n",
       "  </tbody>\n",
       "</table>\n"
      ],
      "text/plain": [
       "<pandas.io.formats.style.Styler at 0x1198a57c0>"
      ]
     },
     "metadata": {},
     "output_type": "display_data"
    },
    {
     "name": "stdout",
     "output_type": "stream",
     "text": [
      "Flash total requests: 4800, elapsed seconds: 45.6507, req/s: 105.14625186470306\n"
     ]
    }
   ],
   "source": [
    "# Flash-only Requests Per Second (RPS) over time\n",
    "# Reuse super_heavy_net determined earlier; if not present, try to find it again\n",
    "try:\n",
    "    super_heavy_net\n",
    "except NameError:\n",
    "    super_heavy_net = None\n",
    "    for name in ['flash_only', 'super_heavy_net', 'nhv_flash', 'cpu_flash', 'cpu_w_sse_flash']:\n",
    "        try:\n",
    "            candidate = eval(name)\n",
    "            if isinstance(candidate, pd.DataFrame) and any(c in candidate.columns for c in ['offset']):\n",
    "                super_heavy_net = candidate\n",
    "                print(f\"Using dataframe '{name}' as super_heavy_net for RPS\")\n",
    "                break\n",
    "        except Exception:\n",
    "            pass\n",
    "    if super_heavy_net is None:\n",
    "        raise NameError(\"No flash dataframe with an 'offset' column found for RPS plot.\")\n",
    "\n",
    "# Compute RPS (floor-second grouping)\n",
    "if 'offset' not in super_heavy_net.columns:\n",
    "    raise ValueError(\"Flash dataframe missing required column: offset\")\n",
    "\n",
    "sec = np.floor(super_heavy_net['offset'].astype(float).values).astype(int)\n",
    "rps = (\n",
    "    pd.DataFrame({'sec': sec})\n",
    "    .value_counts()\n",
    "    .rename('count')\n",
    "    .reset_index()\n",
    "    .sort_values('sec')\n",
    ")\n",
    "rps['rps'] = rps['count']\n",
    "rps = rps[['sec', 'rps']]\n",
    "\n",
    "# Fill missing seconds for smooth line\n",
    "full_index = pd.DataFrame({'sec': np.arange(rps['sec'].min(), rps['sec'].max() + 1)})\n",
    "m = full_index.merge(rps, on='sec', how='left')\n",
    "m['rps'] = m['rps'].fillna(0)\n",
    "\n",
    "flash_color = COLOR_MAP.get('Flash', '#EF553B') if 'COLOR_MAP' in globals() else '#EF553B'\n",
    "# include data labels: show integer rps values above markers\n",
    "fig_flash_rps = px.line(\n",
    "    m,\n",
    "    x='sec', y='rps',\n",
    "    text='rps',\n",
    "    labels={'sec': 'Time (s)', 'rps': 'Requests per second'},\n",
    "    title='Flash: Requests per second over time',\n",
    "    color_discrete_sequence=[flash_color]\n",
    ")\n",
    "# show markers, lines and text; format text as integers and position above markers\n",
    "fig_flash_rps.update_traces(mode='lines+markers+text',\n",
    "                            textposition='top center',\n",
    "                            texttemplate='%{text:.0f}',\n",
    "                            marker=dict(size=6))\n",
    "fig_flash_rps.update_layout(yaxis=dict(tickformat='.0f'))\n",
    "fig_flash_rps.show()\n",
    "\n",
    "# Build summary DataFrame matching the format used by pretty_table\n",
    "total = int(super_heavy_net.shape[0])\n",
    "if 'offset' in super_heavy_net.columns and total > 1:\n",
    "    elapsed = float(super_heavy_net['offset'].max() - super_heavy_net['offset'].min())\n",
    "    elapsed = max(0.0, elapsed)\n",
    "    reqs_per_sec = total / elapsed if elapsed > 0 else float('nan')\n",
    "else:\n",
    "    elapsed = float('nan')\n",
    "    reqs_per_sec = float('nan')\n",
    "\n",
    "flash_summary = pd.DataFrame([\n",
    "    {\n",
    "        'scenario': 'Flash-only',\n",
    "        'framework': 'Flash',\n",
    "        'total_requests': total,\n",
    "        'elapsed_seconds': elapsed,\n",
    "        'requests_per_sec': reqs_per_sec,\n",
    "    }\n",
    "])\n",
    "\n",
    "# Use the existing pretty_table helper to display the nicely formatted table\n",
    "try:\n",
    "    pretty_table(flash_summary[['framework', 'total_requests', 'elapsed_seconds', 'requests_per_sec']], \"Flash — totals\")\n",
    "except NameError:\n",
    "    # If pretty_table isn't available, fall back to printing the DataFrame\n",
    "    display(flash_summary)\n",
    "\n",
    "# Quick console stats as fallback\n",
    "print(f\"Flash total requests: {total}, elapsed seconds: {elapsed}, req/s: {reqs_per_sec}\")"
   ]
  }
 ],
 "metadata": {
  "kernelspec": {
   "display_name": "dash-router-examples-py3.12",
   "language": "python",
   "name": "python3"
  },
  "language_info": {
   "codemirror_mode": {
    "name": "ipython",
    "version": 3
   },
   "file_extension": ".py",
   "mimetype": "text/x-python",
   "name": "python",
   "nbconvert_exporter": "python",
   "pygments_lexer": "ipython3",
   "version": "3.12.7"
  }
 },
 "nbformat": 4,
 "nbformat_minor": 5
}
